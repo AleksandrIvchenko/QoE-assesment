{
 "cells": [
  {
   "cell_type": "markdown",
   "metadata": {},
   "source": [
    "# Analysis_Waterloo-Part4"
   ]
  },
  {
   "cell_type": "markdown",
   "metadata": {},
   "source": [
    "We will apply machine learning."
   ]
  },
  {
   "cell_type": "code",
   "execution_count": 814,
   "metadata": {},
   "outputs": [
    {
     "name": "stdout",
     "output_type": "stream",
     "text": [
      "3.7.4\n"
     ]
    }
   ],
   "source": [
    "import scipy.io\n",
    "\n",
    "import pandas as pd\n",
    "import numpy as np\n",
    "import statistics\n",
    "\n",
    "import math\n",
    "import seaborn as sns\n",
    "\n",
    "import statistics\n",
    "\n",
    "import re \n",
    "from scipy.stats import spearmanr\n",
    "\n",
    "from platform import python_version\n",
    "print(python_version())\n",
    "\n",
    "# Internal ipython tool for setting figure size\n",
    "from IPython.core.pylabtools import figsize\n",
    "\n",
    "from itertools import combinations_with_replacement, combinations\n",
    "\n",
    "%matplotlib inline\n",
    "import numpy as np\n",
    "import matplotlib.pyplot as plt\n",
    "from matplotlib.ticker import AutoMinorLocator, MultipleLocator, FuncFormatter\n",
    "\n",
    "from scipy.stats.stats import pearsonr, kendalltau, spearmanr"
   ]
  },
  {
   "cell_type": "code",
   "execution_count": 815,
   "metadata": {},
   "outputs": [],
   "source": [
    "data_all = pd.read_pickle(\"Part3_tmp\")"
   ]
  },
  {
   "cell_type": "code",
   "execution_count": 816,
   "metadata": {},
   "outputs": [],
   "source": [
    "categorical_subset = data_all[['content', 'motion', \"Constant_bitrate\"]]\n",
    "mos = data_all[\"MOS\"]\n",
    "numerical_subset = data_all.copy()\n",
    "numerical_subset = numerical_subset.drop ([\"MOS\", 'content', 'motion', \"Constant_bitrate\"], axis = 1)"
   ]
  },
  {
   "cell_type": "code",
   "execution_count": 817,
   "metadata": {},
   "outputs": [
    {
     "data": {
      "text/plain": [
       "27"
      ]
     },
     "execution_count": 817,
     "metadata": {},
     "output_type": "execute_result"
    }
   ],
   "source": [
    "len (numerical_subset.columns) + len (categorical_subset.columns) "
   ]
  },
  {
   "cell_type": "markdown",
   "metadata": {},
   "source": [
    "Next we  change names of the categories to numbers"
   ]
  },
  {
   "cell_type": "code",
   "execution_count": 818,
   "metadata": {},
   "outputs": [],
   "source": [
    "categorical_subset = pd.get_dummies(categorical_subset)"
   ]
  },
  {
   "cell_type": "code",
   "execution_count": 819,
   "metadata": {},
   "outputs": [
    {
     "data": {
      "text/html": [
       "<div>\n",
       "<style scoped>\n",
       "    .dataframe tbody tr th:only-of-type {\n",
       "        vertical-align: middle;\n",
       "    }\n",
       "\n",
       "    .dataframe tbody tr th {\n",
       "        vertical-align: top;\n",
       "    }\n",
       "\n",
       "    .dataframe thead th {\n",
       "        text-align: right;\n",
       "    }\n",
       "</style>\n",
       "<table border=\"1\" class=\"dataframe\">\n",
       "  <thead>\n",
       "    <tr style=\"text-align: right;\">\n",
       "      <th></th>\n",
       "      <th>content</th>\n",
       "      <th>motion</th>\n",
       "      <th>Constant_bitrate</th>\n",
       "    </tr>\n",
       "  </thead>\n",
       "  <tbody>\n",
       "    <tr>\n",
       "      <th>0</th>\n",
       "      <td>1</td>\n",
       "      <td>2</td>\n",
       "      <td>1</td>\n",
       "    </tr>\n",
       "    <tr>\n",
       "      <th>1</th>\n",
       "      <td>1</td>\n",
       "      <td>2</td>\n",
       "      <td>0</td>\n",
       "    </tr>\n",
       "    <tr>\n",
       "      <th>2</th>\n",
       "      <td>1</td>\n",
       "      <td>2</td>\n",
       "      <td>0</td>\n",
       "    </tr>\n",
       "    <tr>\n",
       "      <th>3</th>\n",
       "      <td>1</td>\n",
       "      <td>2</td>\n",
       "      <td>0</td>\n",
       "    </tr>\n",
       "    <tr>\n",
       "      <th>4</th>\n",
       "      <td>1</td>\n",
       "      <td>2</td>\n",
       "      <td>0</td>\n",
       "    </tr>\n",
       "    <tr>\n",
       "      <th>...</th>\n",
       "      <td>...</td>\n",
       "      <td>...</td>\n",
       "      <td>...</td>\n",
       "    </tr>\n",
       "    <tr>\n",
       "      <th>445</th>\n",
       "      <td>1</td>\n",
       "      <td>2</td>\n",
       "      <td>0</td>\n",
       "    </tr>\n",
       "    <tr>\n",
       "      <th>446</th>\n",
       "      <td>1</td>\n",
       "      <td>2</td>\n",
       "      <td>0</td>\n",
       "    </tr>\n",
       "    <tr>\n",
       "      <th>447</th>\n",
       "      <td>1</td>\n",
       "      <td>2</td>\n",
       "      <td>0</td>\n",
       "    </tr>\n",
       "    <tr>\n",
       "      <th>448</th>\n",
       "      <td>1</td>\n",
       "      <td>2</td>\n",
       "      <td>0</td>\n",
       "    </tr>\n",
       "    <tr>\n",
       "      <th>449</th>\n",
       "      <td>1</td>\n",
       "      <td>2</td>\n",
       "      <td>0</td>\n",
       "    </tr>\n",
       "  </tbody>\n",
       "</table>\n",
       "<p>450 rows × 3 columns</p>\n",
       "</div>"
      ],
      "text/plain": [
       "     content  motion  Constant_bitrate\n",
       "0          1       2                 1\n",
       "1          1       2                 0\n",
       "2          1       2                 0\n",
       "3          1       2                 0\n",
       "4          1       2                 0\n",
       "..       ...     ...               ...\n",
       "445        1       2                 0\n",
       "446        1       2                 0\n",
       "447        1       2                 0\n",
       "448        1       2                 0\n",
       "449        1       2                 0\n",
       "\n",
       "[450 rows x 3 columns]"
      ]
     },
     "execution_count": 819,
     "metadata": {},
     "output_type": "execute_result"
    }
   ],
   "source": [
    "categorical_subset"
   ]
  },
  {
   "cell_type": "code",
   "execution_count": 820,
   "metadata": {},
   "outputs": [],
   "source": [
    "features = pd.concat([numerical_subset, categorical_subset], axis = 1)\n",
    "targets = mos"
   ]
  },
  {
   "cell_type": "code",
   "execution_count": 821,
   "metadata": {},
   "outputs": [
    {
     "data": {
      "text/plain": [
       "0      31.376990\n",
       "1      51.006205\n",
       "2      48.948009\n",
       "3      58.343500\n",
       "4      62.817322\n",
       "         ...    \n",
       "445    54.483469\n",
       "446    76.445037\n",
       "447    72.682050\n",
       "448    59.808226\n",
       "449    87.920000\n",
       "Name: MOS, Length: 450, dtype: float64"
      ]
     },
     "execution_count": 821,
     "metadata": {},
     "output_type": "execute_result"
    }
   ],
   "source": [
    "targets"
   ]
  },
  {
   "cell_type": "markdown",
   "metadata": {},
   "source": [
    "## MOS values updating "
   ]
  },
  {
   "cell_type": "raw",
   "metadata": {},
   "source": [
    "#Обновляем значения MOS, т.е. значения y\n",
    "def transmutation(mos):\n",
    "    return math.log(mos/(100-mos))\n",
    "\n",
    "for index, row in targets.iterrows():\n",
    "    \n",
    "    value = transmutation(row['MOS'])\n",
    "    #print (value)\n",
    "    targets.at[index, 'MOS'] = value"
   ]
  },
  {
   "cell_type": "code",
   "execution_count": 822,
   "metadata": {},
   "outputs": [],
   "source": [
    "columns_save = features.columns"
   ]
  },
  {
   "cell_type": "code",
   "execution_count": 823,
   "metadata": {},
   "outputs": [],
   "source": [
    "import random\n",
    "index_test =[]\n",
    "index_val= []\n",
    "for i in range(45):\n",
    "    #random.seed(42) \n",
    "    #print (10*i, 9 + 10*i)\n",
    "    a = random.randint(10*i, 9 + 10*i)\n",
    "    index_test.append (a)\n",
    "    #random.seed(24) \n",
    "    while (a != 0):\n",
    "        b = random.randint(10*i, 9 + 10*i)\n",
    "        if (a!=b):\n",
    "            a = 0\n",
    "            index_val.append (b)"
   ]
  },
  {
   "cell_type": "code",
   "execution_count": 824,
   "metadata": {},
   "outputs": [
    {
     "name": "stdout",
     "output_type": "stream",
     "text": [
      "[4, 16, 29, 34, 41, 54, 63, 73, 85, 98, 105, 112, 125, 139, 148, 155, 160, 178, 188, 192, 204, 217, 227, 238, 244, 255, 267, 274, 284, 297, 309, 312, 327, 338, 349, 353, 361, 371, 382, 397, 409, 419, 426, 433, 447]\n",
      "[1, 13, 24, 33, 49, 55, 60, 75, 89, 97, 103, 113, 126, 137, 141, 159, 167, 172, 187, 196, 207, 213, 228, 235, 240, 250, 266, 270, 281, 292, 304, 316, 325, 336, 343, 354, 364, 370, 380, 390, 405, 414, 423, 434, 449]\n"
     ]
    },
    {
     "data": {
      "text/plain": [
       "45"
      ]
     },
     "execution_count": 824,
     "metadata": {},
     "output_type": "execute_result"
    }
   ],
   "source": [
    "print (index_test)\n",
    "print(index_val)\n",
    "len(index_val)"
   ]
  },
  {
   "cell_type": "code",
   "execution_count": 825,
   "metadata": {},
   "outputs": [],
   "source": [
    "#Стратифицированная выборка для регрессии\n",
    "k=10\n",
    "n = 45#450/k\n",
    "k_folds = np.zeros((k,n))\n",
    "#Отсортировать по MOS\n",
    "sorted_features = pd.concat([features, targets], axis = 1)\n",
    "sorted_features = sorted_features.sort_values(['MOS'])\n",
    "sorted_features.set_index(np.arange(450) )\n",
    "\n",
    "val = sorted_features.iloc [index_val]\n",
    "\n",
    "targets = pd.DataFrame(sorted_features[\"MOS\"])\n",
    "sorted_features = sorted_features.drop ([\"MOS\"], axis = 1)\n",
    "\n",
    "X = sorted_features.drop(index_test)\n",
    "X = X.drop(index_val)\n",
    "X_test = sorted_features.iloc [index_test]\n",
    "X_val = sorted_features.iloc [index_val]\n",
    "\n",
    "train_labels = targets.drop(index_test)\n",
    "train_labels = train_labels.drop(index_val)\n",
    "test_labels = targets.iloc [index_test]\n",
    "val_labels = targets.iloc [index_val]"
   ]
  },
  {
   "cell_type": "code",
   "execution_count": 826,
   "metadata": {},
   "outputs": [
    {
     "name": "stdout",
     "output_type": "stream",
     "text": [
      "(360, 27)\n",
      "(45, 27)\n",
      "(45, 27)\n",
      "(360, 1)\n",
      "(45, 1)\n",
      "(45, 1)\n"
     ]
    }
   ],
   "source": [
    "print(X.shape)\n",
    "print(X_test.shape)\n",
    "print(X_val.shape)\n",
    "print(train_labels.shape)\n",
    "print(test_labels.shape)\n",
    "print(val_labels.shape)"
   ]
  },
  {
   "cell_type": "code",
   "execution_count": 827,
   "metadata": {},
   "outputs": [],
   "source": [
    "X_with_cols = pd.DataFrame(X, columns = columns_save)"
   ]
  },
  {
   "cell_type": "markdown",
   "metadata": {},
   "source": [
    "## Models to Evaluate\n",
    "\n",
    "We will compare five different machine learning models using the great [Scikit-Learn library](http://scikit-learn.org/stable/):\n",
    "\n",
    "1. Linear Regression\n",
    "2. Support Vector Machine Regression\n",
    "3. Random Forest Regression\n",
    "4. Gradient Boosting Regression\n",
    "5. K-Nearest Neighbors Regression\n",
    "\n",
    "Again, here I'm focusing on implementation rather than explaining how these work. In addition to Hands-On Machine Learning, another great resource (this one is free online) for reading about machine learning models is [An Introduction to Statistical Learning](http://www-bcf.usc.edu/~gareth/ISL/).\n",
    "\n",
    "To compare the models, we are going to be mostly using the Scikit-Learn defaults for the model hyperparameters. Generally these will perform decently, but should be optimized before actually using a model. At first, we just want to determine the baseline performance of each model, and then we can select the best performing model for further optimization using hyperparameter tuning. Remember that the default hyperparameters will get a model up and running, but nearly always should be adjusted using some sort of search to find the best settings for your problem! \n",
    "\n",
    "Here is what the Scikit-learn documentation [says about the defaults](https://arxiv.org/abs/1309.0238):\n",
    "\n",
    "    __Sensible defaults__: Whenever an operation requires a user-defined parameter,\n",
    "    an appropriate default value is defined by the library. The default value\n",
    "    should cause the operation to be performed in a sensible way (giving a baseline\n",
    "    solution for the task at hand.)\n",
    "\n",
    "One of the best parts about scikit-learn is that all models are implemented in an identical manner: once you know how to build one, you can implement an extremely diverse array of models. Here we will implement the entire training and testing procedures for a number of models in just a few lines of code."
   ]
  },
  {
   "cell_type": "code",
   "execution_count": 828,
   "metadata": {},
   "outputs": [],
   "source": [
    "# Function to calculate mean absolute error\n",
    "def mae(y_true, y_pred):\n",
    "    return np.mean(abs(y_true - y_pred))"
   ]
  },
  {
   "cell_type": "code",
   "execution_count": 829,
   "metadata": {},
   "outputs": [
    {
     "name": "stdout",
     "output_type": "stream",
     "text": [
      "The baseline guess is a score of 62.18\n",
      "Baseline Performance on the test set: MAE = 11.9006\n"
     ]
    }
   ],
   "source": [
    "baseline_guess = np.median(train_labels)\n",
    "\n",
    "print('The baseline guess is a score of %0.2f' % baseline_guess)\n",
    "print(\"Baseline Performance on the test set: MAE = %0.4f\" % mae(test_labels, baseline_guess))"
   ]
  },
  {
   "cell_type": "code",
   "execution_count": 830,
   "metadata": {},
   "outputs": [],
   "source": [
    "baseline_guess_list = []\n",
    "for i in range (len(test_labels)):\n",
    "    baseline_guess_list.append(baseline_guess)"
   ]
  },
  {
   "cell_type": "code",
   "execution_count": 831,
   "metadata": {},
   "outputs": [],
   "source": [
    "test_labels_list = list (test_labels[\"MOS\"])"
   ]
  },
  {
   "cell_type": "code",
   "execution_count": 832,
   "metadata": {
    "scrolled": true
   },
   "outputs": [
    {
     "name": "stderr",
     "output_type": "stream",
     "text": [
      "/home/ksant/anaconda3/lib/python3.7/site-packages/numpy/lib/function_base.py:2534: RuntimeWarning: invalid value encountered in true_divide\n",
      "  c /= stddev[:, None]\n",
      "/home/ksant/anaconda3/lib/python3.7/site-packages/numpy/lib/function_base.py:2535: RuntimeWarning: invalid value encountered in true_divide\n",
      "  c /= stddev[None, :]\n",
      "/home/ksant/anaconda3/lib/python3.7/site-packages/scipy/stats/_distn_infrastructure.py:903: RuntimeWarning: invalid value encountered in greater\n",
      "  return (a < x) & (x < b)\n",
      "/home/ksant/anaconda3/lib/python3.7/site-packages/scipy/stats/_distn_infrastructure.py:903: RuntimeWarning: invalid value encountered in less\n",
      "  return (a < x) & (x < b)\n",
      "/home/ksant/anaconda3/lib/python3.7/site-packages/scipy/stats/_distn_infrastructure.py:1912: RuntimeWarning: invalid value encountered in less_equal\n",
      "  cond2 = cond0 & (x <= _a)\n"
     ]
    },
    {
     "data": {
      "text/plain": [
       "SpearmanrResult(correlation=nan, pvalue=nan)"
      ]
     },
     "execution_count": 832,
     "metadata": {},
     "output_type": "execute_result"
    }
   ],
   "source": [
    "spearmanr(test_labels_list, baseline_guess_list)"
   ]
  },
  {
   "cell_type": "code",
   "execution_count": 833,
   "metadata": {},
   "outputs": [],
   "source": [
    "# Imputing missing values and scaling values\n",
    "from sklearn.preprocessing import MinMaxScaler\n",
    "\n",
    "# Machine Learning Models\n",
    "from sklearn.linear_model import LinearRegression\n",
    "from sklearn.ensemble import RandomForestRegressor, GradientBoostingRegressor\n",
    "from sklearn.svm import SVR\n",
    "from sklearn.neighbors import KNeighborsRegressor\n",
    "\n",
    "# Hyperparameter tuning\n",
    "from sklearn.model_selection import RandomizedSearchCV, GridSearchCV"
   ]
  },
  {
   "cell_type": "markdown",
   "metadata": {},
   "source": [
    "## Scaling Features"
   ]
  },
  {
   "cell_type": "code",
   "execution_count": 834,
   "metadata": {},
   "outputs": [],
   "source": [
    "# Convert y to one-dimensional array (vector)\n",
    "y = np.array(train_labels).reshape((-1, ))\n",
    "y_test = np.array(test_labels).reshape((-1, ))\n",
    "y_val = np.array(val_labels).reshape((-1, ))"
   ]
  },
  {
   "cell_type": "code",
   "execution_count": 835,
   "metadata": {},
   "outputs": [],
   "source": [
    "# Function to calculate mean absolute error\n",
    "#def mae(y_true, y_pred):\n",
    "    #return np.mean(abs(y_true - y_pred))\n",
    "    \n",
    "def mae(y_true, y_val, y_pred, y_pred_val):    \n",
    "    return np.mean(abs(y_true - y_pred)), np.mean(abs(y_val - y_pred_val))\n",
    "\n",
    "# Takes in a model, trains the model, and evaluates the model on the test set\n",
    "def fit_and_evaluate(model):\n",
    "    \n",
    "    # Train the model\n",
    "    model.fit(X, y)\n",
    "    \n",
    "    # Make predictions and evalute\n",
    "    model_pred = model.predict(X_test)\n",
    "    \n",
    "    y_pred_val = model.predict(X_val)\n",
    "    #model_mae = mae(y_test, model_pred)\n",
    "    model_mae = mae(y_test, y_val, model_pred, y_pred_val)\n",
    "    \n",
    "    corr = spearmanr(test_labels, model_pred)\n",
    "    \n",
    "    print (round(corr[0],4), corr[1])\n",
    "    \n",
    "    # Return the performance metric\n",
    "    return model_mae, corr[0]"
   ]
  },
  {
   "cell_type": "code",
   "execution_count": 836,
   "metadata": {},
   "outputs": [
    {
     "name": "stdout",
     "output_type": "stream",
     "text": [
      "0.8407 4.992003415599741e-13\n",
      "Linear Regression Performance: MAE test = 6.3860, MAE val = 5.5895\n"
     ]
    }
   ],
   "source": [
    "lr = LinearRegression()\n",
    "lr_mae, corr_lr = fit_and_evaluate(lr)\n",
    "\n",
    "print('Linear Regression Performance: MAE test = %0.4f, MAE val = %0.4f' % lr_mae)\n"
   ]
  },
  {
   "cell_type": "code",
   "execution_count": 837,
   "metadata": {},
   "outputs": [
    {
     "name": "stdout",
     "output_type": "stream",
     "text": [
      "0.8257 2.962502591687671e-12\n",
      "Support Vector Machine Regression Performance: MAE test = 3.1435, MAE val = 2.1499\n"
     ]
    }
   ],
   "source": [
    "svm = SVR(C = 1000, gamma = 0.1)\n",
    "svm_mae, corr_svm = fit_and_evaluate(svm)\n",
    "\n",
    "print('Support Vector Machine Regression Performance: MAE test = %0.4f, MAE val = %0.4f' % svm_mae)"
   ]
  },
  {
   "cell_type": "code",
   "execution_count": 838,
   "metadata": {},
   "outputs": [
    {
     "name": "stdout",
     "output_type": "stream",
     "text": [
      "0.9597 2.509228738487319e-25\n",
      "Random Forest Regression Performance: MAE test = 2.5850, MAE val = 2.9455\n"
     ]
    }
   ],
   "source": [
    "random_forest = RandomForestRegressor(random_state=42)\n",
    "random_forest_mae, corr_random_forest = fit_and_evaluate(random_forest)\n",
    "\n",
    "print('Random Forest Regression Performance: MAE test = %0.4f, MAE val = %0.4f' % random_forest_mae)"
   ]
  },
  {
   "cell_type": "code",
   "execution_count": 839,
   "metadata": {},
   "outputs": [
    {
     "name": "stdout",
     "output_type": "stream",
     "text": [
      "0.9406 8.672824168235492e-22\n",
      "Gradient Boosted Regression Performance: MAE test = 3.1216, MAE val = 3.4773\n"
     ]
    }
   ],
   "source": [
    "gradient_boosted = GradientBoostingRegressor(random_state=42)\n",
    "gradient_boosted_mae, corr_gradient_boosted = fit_and_evaluate(gradient_boosted)\n",
    "print('Gradient Boosted Regression Performance: MAE test = %0.4f, MAE val = %0.4f' % gradient_boosted_mae)"
   ]
  },
  {
   "cell_type": "code",
   "execution_count": 840,
   "metadata": {},
   "outputs": [
    {
     "name": "stdout",
     "output_type": "stream",
     "text": [
      "0.6879 1.7806177957599176e-07\n",
      "K-Nearest Neighbors Regression Performance: MAE test = 6.9833, MAE val = 6.8951\n"
     ]
    }
   ],
   "source": [
    "knn = KNeighborsRegressor(n_neighbors=10)\n",
    "knn_mae, corr_knn = fit_and_evaluate(knn)\n",
    "\n",
    "print('K-Nearest Neighbors Regression Performance: MAE test = %0.4f, MAE val = %0.4f' % knn_mae)"
   ]
  },
  {
   "cell_type": "code",
   "execution_count": null,
   "metadata": {},
   "outputs": [],
   "source": []
  },
  {
   "cell_type": "markdown",
   "metadata": {},
   "source": [
    "## MOS values updating "
   ]
  },
  {
   "cell_type": "code",
   "execution_count": 841,
   "metadata": {},
   "outputs": [],
   "source": [
    "features = pd.concat([numerical_subset, categorical_subset], axis = 1)\n",
    "targets = mos"
   ]
  },
  {
   "cell_type": "code",
   "execution_count": 842,
   "metadata": {},
   "outputs": [
    {
     "name": "stderr",
     "output_type": "stream",
     "text": [
      "/home/ksant/anaconda3/lib/python3.7/site-packages/ipykernel_launcher.py:18: SettingWithCopyWarning: \n",
      "A value is trying to be set on a copy of a slice from a DataFrame\n",
      "\n",
      "See the caveats in the documentation: https://pandas.pydata.org/pandas-docs/stable/user_guide/indexing.html#returning-a-view-versus-a-copy\n"
     ]
    }
   ],
   "source": [
    "#Обновляем значения MOS, т.е. значения y\n",
    "def transmutation(mos):\n",
    "    return math.log(mos/(100-mos))\n",
    "\n",
    "def transmutation2(mos):\n",
    "    #return 1/(1+math.exp((12/100)*(50-mos)))\n",
    "    return 1/(1+math.exp((0.08)*(50-mos)))\n",
    "    #return 100/(1+math.exp((0.1)*(40-mos)))\n",
    "\n",
    "#for index, row in targets.iterrows():\n",
    "for i in range(len(targets)):\n",
    "    \n",
    "    #value = transmutation(row['MOS'])\n",
    "    #print (value)\n",
    "    #targets.at[index, 'MOS'] = value\n",
    "    \n",
    "    value = transmutation(targets[i])\n",
    "    targets[i] = value"
   ]
  },
  {
   "cell_type": "code",
   "execution_count": 843,
   "metadata": {},
   "outputs": [],
   "source": [
    "#Стратифицированная выборка для регрессии\n",
    "k=10\n",
    "n = 45#450/k\n",
    "k_folds = np.zeros((k,n))\n",
    "#Отсортировать по MOS\n",
    "sorted_features = pd.concat([features, targets], axis = 1)\n",
    "sorted_features = sorted_features.sort_values(['MOS'])\n",
    "sorted_features.set_index(np.arange(450) )\n",
    "\n",
    "val = sorted_features.iloc [index_val]\n",
    "\n",
    "targets = pd.DataFrame(sorted_features[\"MOS\"])\n",
    "sorted_features = sorted_features.drop ([\"MOS\"], axis = 1)\n",
    "\n",
    "X = sorted_features.drop(index_test)\n",
    "X = X.drop(index_val)\n",
    "X_test = sorted_features.iloc [index_test]\n",
    "X_val = sorted_features.iloc [index_val]\n",
    "\n",
    "train_labels = targets.drop(index_test)\n",
    "train_labels = train_labels.drop(index_val)\n",
    "test_labels = targets.iloc [index_test]\n",
    "val_labels = targets.iloc [index_val]"
   ]
  },
  {
   "cell_type": "code",
   "execution_count": 844,
   "metadata": {},
   "outputs": [
    {
     "name": "stdout",
     "output_type": "stream",
     "text": [
      "(360, 27)\n",
      "(45, 27)\n",
      "(45, 27)\n",
      "(360, 1)\n",
      "(45, 1)\n",
      "(45, 1)\n"
     ]
    }
   ],
   "source": [
    "print(X.shape)\n",
    "print(X_test.shape)\n",
    "print(X_val.shape)\n",
    "print(train_labels.shape)\n",
    "print(test_labels.shape)\n",
    "print(val_labels.shape)"
   ]
  },
  {
   "cell_type": "code",
   "execution_count": 845,
   "metadata": {},
   "outputs": [],
   "source": [
    "X_with_cols = pd.DataFrame(X, columns = columns_save)"
   ]
  },
  {
   "cell_type": "markdown",
   "metadata": {},
   "source": [
    "## Scaling Features"
   ]
  },
  {
   "cell_type": "code",
   "execution_count": 846,
   "metadata": {},
   "outputs": [],
   "source": [
    "# Convert y to one-dimensional array (vector)\n",
    "y = np.array(train_labels).reshape((-1, ))\n",
    "y_test = np.array(test_labels).reshape((-1, ))\n",
    "y_val = np.array(val_labels).reshape((-1, ))"
   ]
  },
  {
   "cell_type": "code",
   "execution_count": 847,
   "metadata": {},
   "outputs": [
    {
     "name": "stdout",
     "output_type": "stream",
     "text": [
      "0.8476 2.0852197780454295e-13\n",
      "Linear Regression Performance: MAE test = 0.2827, MAE val = 0.2794\n"
     ]
    }
   ],
   "source": [
    "lr = LinearRegression()\n",
    "lr_maea, corr_lr_t = fit_and_evaluate(lr)\n",
    "\n",
    "print('Linear Regression Performance: MAE test = %0.4f, MAE val = %0.4f' % lr_maea)\n"
   ]
  },
  {
   "cell_type": "code",
   "execution_count": 848,
   "metadata": {},
   "outputs": [
    {
     "name": "stdout",
     "output_type": "stream",
     "text": [
      "0.8195 5.856251822778288e-12\n",
      "Support Vector Machine Regression Performance: MAE test = 0.2226, MAE val = 0.1550\n"
     ]
    }
   ],
   "source": [
    "svm = SVR(C = 1000, gamma = 0.1)\n",
    "svm_maea, corr_svm_t = fit_and_evaluate(svm)\n",
    "\n",
    "print('Support Vector Machine Regression Performance: MAE test = %0.4f, MAE val = %0.4f' % svm_maea)"
   ]
  },
  {
   "cell_type": "code",
   "execution_count": 849,
   "metadata": {},
   "outputs": [
    {
     "name": "stdout",
     "output_type": "stream",
     "text": [
      "0.9618 8.076401379451828e-26\n",
      "Random Forest Regression Performance: MAE test = 0.1313, MAE val = 0.1336\n"
     ]
    }
   ],
   "source": [
    "random_forest = RandomForestRegressor(random_state=42)\n",
    "random_forest_maea, corr_random_forest_t = fit_and_evaluate(random_forest)\n",
    "\n",
    "print('Random Forest Regression Performance: MAE test = %0.4f, MAE val = %0.4f' % random_forest_maea)"
   ]
  },
  {
   "cell_type": "code",
   "execution_count": 850,
   "metadata": {},
   "outputs": [
    {
     "name": "stdout",
     "output_type": "stream",
     "text": [
      "0.9567 1.156376656618073e-24\n",
      "Gradient Boosted Regression Performance: MAE test = 0.1413, MAE val = 0.1597\n"
     ]
    }
   ],
   "source": [
    "gradient_boosted = GradientBoostingRegressor(random_state=42)\n",
    "gradient_boosted_maea, corr_gradient_boosted_t = fit_and_evaluate(gradient_boosted)\n",
    "print('Gradient Boosted Regression Performance: MAE test = %0.4f, MAE val = %0.4f' % gradient_boosted_maea)"
   ]
  },
  {
   "cell_type": "code",
   "execution_count": 851,
   "metadata": {},
   "outputs": [
    {
     "name": "stdout",
     "output_type": "stream",
     "text": [
      "0.6882 1.7517567287272307e-07\n",
      "K-Nearest Neighbors Regression Performance: MAE test = 0.3264, MAE val = 0.3553\n"
     ]
    }
   ],
   "source": [
    "knn = KNeighborsRegressor(n_neighbors=10)\n",
    "knn_maea, corr_knn_t = fit_and_evaluate(knn)\n",
    "\n",
    "print('K-Nearest Neighbors Regression Performance: MAE test = %0.4f, MAE val = %0.4f' % knn_maea)"
   ]
  },
  {
   "cell_type": "code",
   "execution_count": 852,
   "metadata": {},
   "outputs": [
    {
     "data": {
      "image/png": "[encoded data removed]",
      "text/plain": [
       "<Figure size 432x288 with 1 Axes>"
      ]
     },
     "metadata": {
      "needs_background": "light"
     },
     "output_type": "display_data"
    }
   ],
   "source": [
    "corr = [corr_lr, corr_svm, corr_random_forest, \n",
    "                                         corr_gradient_boosted, corr_knn]\n",
    "\n",
    "corr_t = [corr_lr_t, corr_svm_t, corr_random_forest_t, \n",
    "                                         corr_gradient_boosted_t, corr_knn_t]\n",
    "\n",
    "index = ['Linear Regression', 'Support Vector Machine',\n",
    "                                           'Random Forest', 'Gradient Boosted',\n",
    "                                            'K-Nearest Neighbors']\n",
    "df = pd.DataFrame({'SRCC': corr, 'SRCC + MOS transform': corr_t}, index=index)\n",
    "df=df.sort_values('SRCC + MOS transform', ascending = False)\n",
    "ax = df.plot.barh()"
   ]
  },
  {
   "cell_type": "code",
   "execution_count": 773,
   "metadata": {},
   "outputs": [
    {
     "data": {
      "image/png": "[encoded data removed]",
      "text/plain": [
       "<Figure size 432x288 with 1 Axes>"
      ]
     },
     "metadata": {
      "needs_background": "light"
     },
     "output_type": "display_data"
    }
   ],
   "source": [
    "mae = [lr_mae[0], svm_mae[0], random_forest_mae[0], \n",
    "                                         gradient_boosted_mae[0], knn_mae[0]]\n",
    "\n",
    "maes = [lr_maea[0], svm_maea[0], random_forest_maea[0], \n",
    "                                         gradient_boosted_maea[0], knn_maea[0]]\n",
    "\n",
    "index = ['Linear Regression', 'Support Vector Machine',\n",
    "                                           'Random Forest', 'Gradient Boosted',\n",
    "                                            'K-Nearest Neighbors']\n",
    "df = pd.DataFrame({'MAE': mae, 'MAE + MOS transform': maes}, index=index)\n",
    "df=df.sort_values('MAE + MOS transform', ascending = False)\n",
    "ax = df.plot.barh()"
   ]
  },
  {
   "cell_type": "code",
   "execution_count": 853,
   "metadata": {},
   "outputs": [],
   "source": [
    "# Loss function to be optimized\n",
    "loss = ['ls', 'lad', 'huber']\n",
    "\n",
    "# Number of trees used in the boosting process\n",
    "n_estimators = [80, 85, 90, 95, 100, 110, 120, 130, 140, 150, 160, 170, 180, 190, 200]\n",
    "\n",
    "# Maximum depth of each tree\n",
    "max_depth = [3, 4, 5, 6, 7]\n",
    "\n",
    "# Minimum number of samples per leaf\n",
    "min_samples_leaf = [3, 4, 5, 6]\n",
    "\n",
    "# Minimum number of samples to split a node\n",
    "min_samples_split = [8, 9, 10, 11, 12, 13, 14]\n",
    "\n",
    "# Maximum number of features to consider for making splits\n",
    "max_features = ['auto', 'sqrt', 'log2', None]\n",
    "\n",
    "#Регяляризация\n",
    "penalty=['l2', 'l1']\n",
    "\n",
    "#Параметр регуляризации\n",
    "alpha = np.linspace(0.0001, 0.01, num = 100)\n",
    "\n",
    "# Define the grid of hyperparameters to search\n",
    "hyperparameter_grid = {'loss': loss,\n",
    "                       'n_estimators': n_estimators,\n",
    "                       'max_depth': max_depth,\n",
    "                       'min_samples_leaf': min_samples_leaf,\n",
    "                       'min_samples_split': min_samples_split,\n",
    "                       'max_features': max_features}\n",
    "                       #,\n",
    "                     # \"penalty\": penalty,\n",
    "                    #  \"alpha\" : alpha}"
   ]
  },
  {
   "cell_type": "code",
   "execution_count": 854,
   "metadata": {},
   "outputs": [],
   "source": [
    "# Create the model to use for hyperparameter tuning\n",
    "model = GradientBoostingRegressor(random_state = 42)\n",
    "\n",
    "#scoring_list = [\"explained_variance\",'neg_mean_absolute_error' ]\n",
    "from sklearn.model_selection import ShuffleSplit\n",
    "#from sklearn.model_selection import cross_validate\n",
    "\n",
    "#n_splits=5, test_size=.25, random_state=0\n",
    "#cv = cross_decomposition.ShuffleSplit(train_labels, n_splits = 20, test_size=0.2, random_state=42)\n",
    "rs = ShuffleSplit(n_splits=5, test_size=.20, random_state=42)\n",
    "cv = rs.split(train_labels)\n",
    "# Set up the random search with CV-fold cross validation\n",
    "random_cv = RandomizedSearchCV(estimator=model,\n",
    "                               param_distributions=hyperparameter_grid,\n",
    "                               cv=cv, n_iter=5000, \n",
    "                               scoring = \"neg_mean_absolute_error\",\n",
    "                               n_jobs = -1, verbose = 1, \n",
    "                               return_train_score = True,\n",
    "                               random_state=42)\n",
    "                               # refit = False)\n",
    "\n",
    "#Теперь это полный перебор        \n",
    "#random_cv = GridSearchCV(estimator=model,\n",
    "#                               param_grid=hyperparameter_grid,\n",
    "#                               cv=cv, \n",
    "#                               scoring = \"neg_mean_absolute_error\",\n",
    "#                               n_jobs = -1, verbose = 1, \n",
    "#                               return_train_score = True)\n",
    "#                               # refit = False)        "
   ]
  },
  {
   "cell_type": "code",
   "execution_count": 855,
   "metadata": {},
   "outputs": [
    {
     "name": "stdout",
     "output_type": "stream",
     "text": [
      "Fitting 5 folds for each of 5000 candidates, totalling 25000 fits\n"
     ]
    },
    {
     "name": "stderr",
     "output_type": "stream",
     "text": [
      "[Parallel(n_jobs=-1)]: Using backend LokyBackend with 8 concurrent workers.\n",
      "[Parallel(n_jobs=-1)]: Done  34 tasks      | elapsed:   13.6s\n",
      "[Parallel(n_jobs=-1)]: Done 184 tasks      | elapsed:   22.7s\n",
      "[Parallel(n_jobs=-1)]: Done 434 tasks      | elapsed:   40.6s\n"
     ]
    },
    {
     "ename": "KeyboardInterrupt",
     "evalue": "",
     "output_type": "error",
     "traceback": [
      "\u001b[0;31m---------------------------------------------------------------------------\u001b[0m",
      "\u001b[0;31mKeyboardInterrupt\u001b[0m                         Traceback (most recent call last)",
      "\u001b[0;32m<ipython-input-855-836bef67d37f>\u001b[0m in \u001b[0;36m<module>\u001b[0;34m\u001b[0m\n\u001b[1;32m      1\u001b[0m \u001b[0;31m# Fit on the training data\u001b[0m\u001b[0;34m\u001b[0m\u001b[0;34m\u001b[0m\u001b[0;34m\u001b[0m\u001b[0m\n\u001b[0;32m----> 2\u001b[0;31m \u001b[0mrandom_cv\u001b[0m\u001b[0;34m.\u001b[0m\u001b[0mfit\u001b[0m\u001b[0;34m(\u001b[0m\u001b[0mX\u001b[0m\u001b[0;34m,\u001b[0m \u001b[0my\u001b[0m\u001b[0;34m)\u001b[0m\u001b[0;34m\u001b[0m\u001b[0;34m\u001b[0m\u001b[0m\n\u001b[0m",
      "\u001b[0;32m~/anaconda3/lib/python3.7/site-packages/sklearn/model_selection/_search.py\u001b[0m in \u001b[0;36mfit\u001b[0;34m(self, X, y, groups, **fit_params)\u001b[0m\n\u001b[1;32m    708\u001b[0m                 \u001b[0;32mreturn\u001b[0m \u001b[0mresults\u001b[0m\u001b[0;34m\u001b[0m\u001b[0;34m\u001b[0m\u001b[0m\n\u001b[1;32m    709\u001b[0m \u001b[0;34m\u001b[0m\u001b[0m\n\u001b[0;32m--> 710\u001b[0;31m             \u001b[0mself\u001b[0m\u001b[0;34m.\u001b[0m\u001b[0m_run_search\u001b[0m\u001b[0;34m(\u001b[0m\u001b[0mevaluate_candidates\u001b[0m\u001b[0;34m)\u001b[0m\u001b[0;34m\u001b[0m\u001b[0;34m\u001b[0m\u001b[0m\n\u001b[0m\u001b[1;32m    711\u001b[0m \u001b[0;34m\u001b[0m\u001b[0m\n\u001b[1;32m    712\u001b[0m         \u001b[0;31m# For multi-metric evaluation, store the best_index_, best_params_ and\u001b[0m\u001b[0;34m\u001b[0m\u001b[0;34m\u001b[0m\u001b[0;34m\u001b[0m\u001b[0m\n",
      "\u001b[0;32m~/anaconda3/lib/python3.7/site-packages/sklearn/model_selection/_search.py\u001b[0m in \u001b[0;36m_run_search\u001b[0;34m(self, evaluate_candidates)\u001b[0m\n\u001b[1;32m   1482\u001b[0m         evaluate_candidates(ParameterSampler(\n\u001b[1;32m   1483\u001b[0m             \u001b[0mself\u001b[0m\u001b[0;34m.\u001b[0m\u001b[0mparam_distributions\u001b[0m\u001b[0;34m,\u001b[0m \u001b[0mself\u001b[0m\u001b[0;34m.\u001b[0m\u001b[0mn_iter\u001b[0m\u001b[0;34m,\u001b[0m\u001b[0;34m\u001b[0m\u001b[0;34m\u001b[0m\u001b[0m\n\u001b[0;32m-> 1484\u001b[0;31m             random_state=self.random_state))\n\u001b[0m",
      "\u001b[0;32m~/anaconda3/lib/python3.7/site-packages/sklearn/model_selection/_search.py\u001b[0m in \u001b[0;36mevaluate_candidates\u001b[0;34m(candidate_params)\u001b[0m\n\u001b[1;32m    687\u001b[0m                                \u001b[0;32mfor\u001b[0m \u001b[0mparameters\u001b[0m\u001b[0;34m,\u001b[0m \u001b[0;34m(\u001b[0m\u001b[0mtrain\u001b[0m\u001b[0;34m,\u001b[0m \u001b[0mtest\u001b[0m\u001b[0;34m)\u001b[0m\u001b[0;34m\u001b[0m\u001b[0;34m\u001b[0m\u001b[0m\n\u001b[1;32m    688\u001b[0m                                in product(candidate_params,\n\u001b[0;32m--> 689\u001b[0;31m                                           cv.split(X, y, groups)))\n\u001b[0m\u001b[1;32m    690\u001b[0m \u001b[0;34m\u001b[0m\u001b[0m\n\u001b[1;32m    691\u001b[0m                 \u001b[0;32mif\u001b[0m \u001b[0mlen\u001b[0m\u001b[0;34m(\u001b[0m\u001b[0mout\u001b[0m\u001b[0;34m)\u001b[0m \u001b[0;34m<\u001b[0m \u001b[0;36m1\u001b[0m\u001b[0;34m:\u001b[0m\u001b[0;34m\u001b[0m\u001b[0;34m\u001b[0m\u001b[0m\n",
      "\u001b[0;32m~/anaconda3/lib/python3.7/site-packages/joblib/parallel.py\u001b[0m in \u001b[0;36m__call__\u001b[0;34m(self, iterable)\u001b[0m\n\u001b[1;32m   1015\u001b[0m \u001b[0;34m\u001b[0m\u001b[0m\n\u001b[1;32m   1016\u001b[0m             \u001b[0;32mwith\u001b[0m \u001b[0mself\u001b[0m\u001b[0;34m.\u001b[0m\u001b[0m_backend\u001b[0m\u001b[0;34m.\u001b[0m\u001b[0mretrieval_context\u001b[0m\u001b[0;34m(\u001b[0m\u001b[0;34m)\u001b[0m\u001b[0;34m:\u001b[0m\u001b[0;34m\u001b[0m\u001b[0;34m\u001b[0m\u001b[0m\n\u001b[0;32m-> 1017\u001b[0;31m                 \u001b[0mself\u001b[0m\u001b[0;34m.\u001b[0m\u001b[0mretrieve\u001b[0m\u001b[0;34m(\u001b[0m\u001b[0;34m)\u001b[0m\u001b[0;34m\u001b[0m\u001b[0;34m\u001b[0m\u001b[0m\n\u001b[0m\u001b[1;32m   1018\u001b[0m             \u001b[0;31m# Make sure that we get a last message telling us we are done\u001b[0m\u001b[0;34m\u001b[0m\u001b[0;34m\u001b[0m\u001b[0;34m\u001b[0m\u001b[0m\n\u001b[1;32m   1019\u001b[0m             \u001b[0melapsed_time\u001b[0m \u001b[0;34m=\u001b[0m \u001b[0mtime\u001b[0m\u001b[0;34m.\u001b[0m\u001b[0mtime\u001b[0m\u001b[0;34m(\u001b[0m\u001b[0;34m)\u001b[0m \u001b[0;34m-\u001b[0m \u001b[0mself\u001b[0m\u001b[0;34m.\u001b[0m\u001b[0m_start_time\u001b[0m\u001b[0;34m\u001b[0m\u001b[0;34m\u001b[0m\u001b[0m\n",
      "\u001b[0;32m~/anaconda3/lib/python3.7/site-packages/joblib/parallel.py\u001b[0m in \u001b[0;36mretrieve\u001b[0;34m(self)\u001b[0m\n\u001b[1;32m    907\u001b[0m             \u001b[0;32mtry\u001b[0m\u001b[0;34m:\u001b[0m\u001b[0;34m\u001b[0m\u001b[0;34m\u001b[0m\u001b[0m\n\u001b[1;32m    908\u001b[0m                 \u001b[0;32mif\u001b[0m \u001b[0mgetattr\u001b[0m\u001b[0;34m(\u001b[0m\u001b[0mself\u001b[0m\u001b[0;34m.\u001b[0m\u001b[0m_backend\u001b[0m\u001b[0;34m,\u001b[0m \u001b[0;34m'supports_timeout'\u001b[0m\u001b[0;34m,\u001b[0m \u001b[0;32mFalse\u001b[0m\u001b[0;34m)\u001b[0m\u001b[0;34m:\u001b[0m\u001b[0;34m\u001b[0m\u001b[0;34m\u001b[0m\u001b[0m\n\u001b[0;32m--> 909\u001b[0;31m                     \u001b[0mself\u001b[0m\u001b[0;34m.\u001b[0m\u001b[0m_output\u001b[0m\u001b[0;34m.\u001b[0m\u001b[0mextend\u001b[0m\u001b[0;34m(\u001b[0m\u001b[0mjob\u001b[0m\u001b[0;34m.\u001b[0m\u001b[0mget\u001b[0m\u001b[0;34m(\u001b[0m\u001b[0mtimeout\u001b[0m\u001b[0;34m=\u001b[0m\u001b[0mself\u001b[0m\u001b[0;34m.\u001b[0m\u001b[0mtimeout\u001b[0m\u001b[0;34m)\u001b[0m\u001b[0;34m)\u001b[0m\u001b[0;34m\u001b[0m\u001b[0;34m\u001b[0m\u001b[0m\n\u001b[0m\u001b[1;32m    910\u001b[0m                 \u001b[0;32melse\u001b[0m\u001b[0;34m:\u001b[0m\u001b[0;34m\u001b[0m\u001b[0;34m\u001b[0m\u001b[0m\n\u001b[1;32m    911\u001b[0m                     \u001b[0mself\u001b[0m\u001b[0;34m.\u001b[0m\u001b[0m_output\u001b[0m\u001b[0;34m.\u001b[0m\u001b[0mextend\u001b[0m\u001b[0;34m(\u001b[0m\u001b[0mjob\u001b[0m\u001b[0;34m.\u001b[0m\u001b[0mget\u001b[0m\u001b[0;34m(\u001b[0m\u001b[0;34m)\u001b[0m\u001b[0;34m)\u001b[0m\u001b[0;34m\u001b[0m\u001b[0;34m\u001b[0m\u001b[0m\n",
      "\u001b[0;32m~/anaconda3/lib/python3.7/site-packages/joblib/_parallel_backends.py\u001b[0m in \u001b[0;36mwrap_future_result\u001b[0;34m(future, timeout)\u001b[0m\n\u001b[1;32m    560\u001b[0m         AsyncResults.get from multiprocessing.\"\"\"\n\u001b[1;32m    561\u001b[0m         \u001b[0;32mtry\u001b[0m\u001b[0;34m:\u001b[0m\u001b[0;34m\u001b[0m\u001b[0;34m\u001b[0m\u001b[0m\n\u001b[0;32m--> 562\u001b[0;31m             \u001b[0;32mreturn\u001b[0m \u001b[0mfuture\u001b[0m\u001b[0;34m.\u001b[0m\u001b[0mresult\u001b[0m\u001b[0;34m(\u001b[0m\u001b[0mtimeout\u001b[0m\u001b[0;34m=\u001b[0m\u001b[0mtimeout\u001b[0m\u001b[0;34m)\u001b[0m\u001b[0;34m\u001b[0m\u001b[0;34m\u001b[0m\u001b[0m\n\u001b[0m\u001b[1;32m    563\u001b[0m         \u001b[0;32mexcept\u001b[0m \u001b[0mLokyTimeoutError\u001b[0m\u001b[0;34m:\u001b[0m\u001b[0;34m\u001b[0m\u001b[0;34m\u001b[0m\u001b[0m\n\u001b[1;32m    564\u001b[0m             \u001b[0;32mraise\u001b[0m \u001b[0mTimeoutError\u001b[0m\u001b[0;34m(\u001b[0m\u001b[0;34m)\u001b[0m\u001b[0;34m\u001b[0m\u001b[0;34m\u001b[0m\u001b[0m\n",
      "\u001b[0;32m~/anaconda3/lib/python3.7/concurrent/futures/_base.py\u001b[0m in \u001b[0;36mresult\u001b[0;34m(self, timeout)\u001b[0m\n\u001b[1;32m    428\u001b[0m                 \u001b[0;32mreturn\u001b[0m \u001b[0mself\u001b[0m\u001b[0;34m.\u001b[0m\u001b[0m__get_result\u001b[0m\u001b[0;34m(\u001b[0m\u001b[0;34m)\u001b[0m\u001b[0;34m\u001b[0m\u001b[0;34m\u001b[0m\u001b[0m\n\u001b[1;32m    429\u001b[0m \u001b[0;34m\u001b[0m\u001b[0m\n\u001b[0;32m--> 430\u001b[0;31m             \u001b[0mself\u001b[0m\u001b[0;34m.\u001b[0m\u001b[0m_condition\u001b[0m\u001b[0;34m.\u001b[0m\u001b[0mwait\u001b[0m\u001b[0;34m(\u001b[0m\u001b[0mtimeout\u001b[0m\u001b[0;34m)\u001b[0m\u001b[0;34m\u001b[0m\u001b[0;34m\u001b[0m\u001b[0m\n\u001b[0m\u001b[1;32m    431\u001b[0m \u001b[0;34m\u001b[0m\u001b[0m\n\u001b[1;32m    432\u001b[0m             \u001b[0;32mif\u001b[0m \u001b[0mself\u001b[0m\u001b[0;34m.\u001b[0m\u001b[0m_state\u001b[0m \u001b[0;32min\u001b[0m \u001b[0;34m[\u001b[0m\u001b[0mCANCELLED\u001b[0m\u001b[0;34m,\u001b[0m \u001b[0mCANCELLED_AND_NOTIFIED\u001b[0m\u001b[0;34m]\u001b[0m\u001b[0;34m:\u001b[0m\u001b[0;34m\u001b[0m\u001b[0;34m\u001b[0m\u001b[0m\n",
      "\u001b[0;32m~/anaconda3/lib/python3.7/threading.py\u001b[0m in \u001b[0;36mwait\u001b[0;34m(self, timeout)\u001b[0m\n\u001b[1;32m    294\u001b[0m         \u001b[0;32mtry\u001b[0m\u001b[0;34m:\u001b[0m    \u001b[0;31m# restore state no matter what (e.g., KeyboardInterrupt)\u001b[0m\u001b[0;34m\u001b[0m\u001b[0;34m\u001b[0m\u001b[0m\n\u001b[1;32m    295\u001b[0m             \u001b[0;32mif\u001b[0m \u001b[0mtimeout\u001b[0m \u001b[0;32mis\u001b[0m \u001b[0;32mNone\u001b[0m\u001b[0;34m:\u001b[0m\u001b[0;34m\u001b[0m\u001b[0;34m\u001b[0m\u001b[0m\n\u001b[0;32m--> 296\u001b[0;31m                 \u001b[0mwaiter\u001b[0m\u001b[0;34m.\u001b[0m\u001b[0macquire\u001b[0m\u001b[0;34m(\u001b[0m\u001b[0;34m)\u001b[0m\u001b[0;34m\u001b[0m\u001b[0;34m\u001b[0m\u001b[0m\n\u001b[0m\u001b[1;32m    297\u001b[0m                 \u001b[0mgotit\u001b[0m \u001b[0;34m=\u001b[0m \u001b[0;32mTrue\u001b[0m\u001b[0;34m\u001b[0m\u001b[0;34m\u001b[0m\u001b[0m\n\u001b[1;32m    298\u001b[0m             \u001b[0;32melse\u001b[0m\u001b[0;34m:\u001b[0m\u001b[0;34m\u001b[0m\u001b[0;34m\u001b[0m\u001b[0m\n",
      "\u001b[0;31mKeyboardInterrupt\u001b[0m: "
     ]
    }
   ],
   "source": [
    "# Fit on the training data\n",
    "random_cv.fit(X, y)"
   ]
  },
  {
   "cell_type": "code",
   "execution_count": null,
   "metadata": {},
   "outputs": [],
   "source": []
  },
  {
   "cell_type": "code",
   "execution_count": null,
   "metadata": {},
   "outputs": [],
   "source": []
  },
  {
   "cell_type": "code",
   "execution_count": 280,
   "metadata": {},
   "outputs": [
    {
     "data": {
      "image/png": "[encoded data removed]",
      "text/plain": [
       "<Figure size 432x288 with 1 Axes>"
      ]
     },
     "metadata": {
      "needs_background": "light"
     },
     "output_type": "display_data"
    }
   ],
   "source": [
    "#Гипотеза с сигмоидой\n",
    "x = np.arange(-200, 200, 4).tolist()\n",
    "y = []\n",
    "\n",
    "b1 = 100 #Масштабирующий коэффициент, константа\n",
    "b2 = -0.03 #Коэффициент наклона, тоже вносится в веса\n",
    "b3 = 1 #Смещение вдоль оси Ox, вносится в сам X. x = summ (w.i * xi) - тут какой-то полином. b3 - свободный член\n",
    "#sigma = b1/(b2 + b3*exp(-x))\n",
    "def sigma(x):\n",
    "    sigma = -b1/(1 + math.exp(b2*(-x-b3))) + 100\n",
    "   \n",
    "    return sigma\n",
    "\n",
    "y = list (map(lambda x : sigma(x), x))\n",
    "\n",
    "fig, ax = plt.subplots()\n",
    "ax.plot(y, x, 'b+', linestyle='solid')\n",
    "plt.show()"
   ]
  },
  {
   "cell_type": "code",
   "execution_count": 293,
   "metadata": {},
   "outputs": [
    {
     "data": {
      "image/png": "[encoded data removed]",
      "text/plain": [
       "<Figure size 432x288 with 1 Axes>"
      ]
     },
     "metadata": {
      "needs_background": "light"
     },
     "output_type": "display_data"
    }
   ],
   "source": [
    "#Гипотеза с сигмоидой\n",
    "x = np.arange(0.01, 1, 0.01).tolist()\n",
    "y = []\n",
    "\n",
    "b1 = 100 #Масштабирующий коэффициент, константа\n",
    "b2 = -0.03 #Коэффициент наклона, тоже вносится в веса\n",
    "b3 = 1 #Смещение вдоль оси Ox, вносится в сам X. x = summ (w.i * xi) - тут какой-то полином. b3 - свободный член\n",
    "#sigma = b1/(b2 + b3*exp(-x))\n",
    "def sigma(y):\n",
    "    sigma = -(100/12)*math.log((1-y)/y) + 50\n",
    "   \n",
    "    return sigma\n",
    "\n",
    "y = list (map(lambda x : sigma(x), x))\n",
    "\n",
    "fig, ax = plt.subplots()\n",
    "ax.plot(x, y, 'b+', linestyle='solid')\n",
    "plt.show()"
   ]
  },
  {
   "cell_type": "code",
   "execution_count": null,
   "metadata": {},
   "outputs": [],
   "source": []
  }
 ],
 "metadata": {
  "kernelspec": {
   "display_name": "Python 3",
   "language": "python",
   "name": "python3"
  },
  "language_info": {
   "codemirror_mode": {
    "name": "ipython",
    "version": 3
   },
   "file_extension": ".py",
   "mimetype": "text/x-python",
   "name": "python",
   "nbconvert_exporter": "python",
   "pygments_lexer": "ipython3",
   "version": "3.7.4"
  }
 },
 "nbformat": 4,
 "nbformat_minor": 4
}

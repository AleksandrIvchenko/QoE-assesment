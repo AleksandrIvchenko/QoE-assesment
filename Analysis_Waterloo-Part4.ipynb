{
 "cells": [
  {
   "cell_type": "markdown",
   "metadata": {},
   "source": [
    "# Analysis_Waterloo-Part4"
   ]
  },
  {
   "cell_type": "markdown",
   "metadata": {},
   "source": [
    "We will apply machine learning."
   ]
  },
  {
   "cell_type": "code",
   "execution_count": 84,
   "metadata": {},
   "outputs": [
    {
     "name": "stdout",
     "output_type": "stream",
     "text": [
      "3.7.4\n"
     ]
    }
   ],
   "source": [
    "import scipy.io\n",
    "\n",
    "import pandas as pd\n",
    "import numpy as np\n",
    "import statistics\n",
    "\n",
    "import math\n",
    "import seaborn as sns\n",
    "\n",
    "import statistics\n",
    "\n",
    "import re \n",
    "from scipy.stats import spearmanr\n",
    "\n",
    "from platform import python_version\n",
    "print(python_version())\n",
    "\n",
    "# Internal ipython tool for setting figure size\n",
    "from IPython.core.pylabtools import figsize\n",
    "\n",
    "from itertools import combinations_with_replacement, combinations\n",
    "\n",
    "%matplotlib inline\n",
    "import numpy as np\n",
    "import matplotlib.pyplot as plt\n",
    "from matplotlib.ticker import AutoMinorLocator, MultipleLocator, FuncFormatter\n",
    "\n",
    "from scipy.stats.stats import pearsonr, kendalltau, spearmanr"
   ]
  },
  {
   "cell_type": "code",
   "execution_count": 85,
   "metadata": {},
   "outputs": [],
   "source": [
    "data_all = pd.read_pickle(\"Part3_tmp\")"
   ]
  },
  {
   "cell_type": "code",
   "execution_count": 86,
   "metadata": {},
   "outputs": [],
   "source": [
    "categorical_subset = data_all[['content', 'motion', \"Constant_bitrate\"]]\n",
    "mos = data_all[\"MOS\"]\n",
    "numerical_subset = data_all.copy()\n",
    "numerical_subset = numerical_subset.drop ([\"MOS\", 'content', 'motion', \"Constant_bitrate\"], axis = 1)"
   ]
  },
  {
   "cell_type": "code",
   "execution_count": 87,
   "metadata": {},
   "outputs": [
    {
     "data": {
      "text/plain": [
       "27"
      ]
     },
     "execution_count": 87,
     "metadata": {},
     "output_type": "execute_result"
    }
   ],
   "source": [
    "len (numerical_subset.columns) + len (categorical_subset.columns) "
   ]
  },
  {
   "cell_type": "markdown",
   "metadata": {},
   "source": [
    "Next we  change names of the categories to numbers"
   ]
  },
  {
   "cell_type": "code",
   "execution_count": 88,
   "metadata": {},
   "outputs": [],
   "source": [
    "categorical_subset = pd.get_dummies(categorical_subset)"
   ]
  },
  {
   "cell_type": "code",
   "execution_count": 89,
   "metadata": {
    "scrolled": true
   },
   "outputs": [],
   "source": [
    "#categorical_subset"
   ]
  },
  {
   "cell_type": "code",
   "execution_count": 90,
   "metadata": {},
   "outputs": [],
   "source": [
    "features = pd.concat([numerical_subset, categorical_subset], axis = 1)\n",
    "targets = mos"
   ]
  },
  {
   "cell_type": "markdown",
   "metadata": {},
   "source": [
    "## Stratification\n",
    "It is common practise in classification tasks.\n",
    "But very uncommon in regression\n",
    "\n",
    "Here you can fing a great papar [about it](https://scottclowe.com/2016-03-19-stratified-regression-partitions/) "
   ]
  },
  {
   "cell_type": "code",
   "execution_count": 91,
   "metadata": {},
   "outputs": [],
   "source": [
    "columns_save = features.columns"
   ]
  },
  {
   "cell_type": "code",
   "execution_count": 92,
   "metadata": {},
   "outputs": [],
   "source": [
    "import random\n",
    "index_test =[]\n",
    "index_val= []\n",
    "for i in range(45):\n",
    "    #random.seed(42) \n",
    "    a = random.randint(10*i, 9 + 10*i)\n",
    "    index_test.append (a)\n",
    "    #random.seed(24) \n",
    "    while (a != 0):\n",
    "        b = random.randint(10*i, 9 + 10*i)\n",
    "        if (a!=b):\n",
    "            a = 0\n",
    "            index_val.append (b)"
   ]
  },
  {
   "cell_type": "code",
   "execution_count": 93,
   "metadata": {},
   "outputs": [
    {
     "name": "stdout",
     "output_type": "stream",
     "text": [
      "[7, 16, 25, 35, 47, 51, 64, 70, 89, 98, 101, 113, 122, 138, 149, 150, 167, 177, 189, 197, 200, 214, 228, 234, 244, 258, 262, 273, 283, 293, 300, 319, 321, 332, 346, 355, 361, 371, 387, 393, 401, 414, 420, 430, 447]\n",
      "[3, 11, 27, 39, 43, 59, 66, 78, 80, 91, 102, 115, 121, 133, 141, 156, 166, 171, 181, 190, 207, 216, 226, 238, 245, 259, 267, 272, 288, 291, 303, 311, 328, 338, 347, 359, 364, 378, 382, 395, 408, 419, 427, 436, 449]\n"
     ]
    },
    {
     "data": {
      "text/plain": [
       "45"
      ]
     },
     "execution_count": 93,
     "metadata": {},
     "output_type": "execute_result"
    }
   ],
   "source": [
    "print (index_test)\n",
    "print(index_val)\n",
    "len(index_val)"
   ]
  },
  {
   "cell_type": "code",
   "execution_count": 94,
   "metadata": {},
   "outputs": [],
   "source": [
    "k=10 #Number of folds\n",
    "n = 45#450/k\n",
    "k_folds = np.zeros((k,n))\n",
    "#Sorted by MOS\n",
    "sorted_features = pd.concat([features, targets], axis = 1)\n",
    "sorted_features = sorted_features.sort_values(['MOS'])\n",
    "sorted_features.set_index(np.arange(450) )\n",
    "\n",
    "val = sorted_features.iloc [index_val]\n",
    "\n",
    "targets = pd.DataFrame(sorted_features[\"MOS\"])\n",
    "sorted_features = sorted_features.drop ([\"MOS\"], axis = 1)\n",
    "\n",
    "X = sorted_features.drop(index_test)\n",
    "X = X.drop(index_val)\n",
    "X_test = sorted_features.iloc [index_test]\n",
    "X_val = sorted_features.iloc [index_val]\n",
    "\n",
    "train_labels = targets.drop(index_test)\n",
    "train_labels = train_labels.drop(index_val)\n",
    "test_labels = targets.iloc [index_test]\n",
    "val_labels = targets.iloc [index_val]"
   ]
  },
  {
   "cell_type": "code",
   "execution_count": 95,
   "metadata": {},
   "outputs": [
    {
     "name": "stdout",
     "output_type": "stream",
     "text": [
      "(360, 27)\n",
      "(45, 27)\n",
      "(45, 27)\n",
      "(360, 1)\n",
      "(45, 1)\n",
      "(45, 1)\n"
     ]
    }
   ],
   "source": [
    "print(X.shape)\n",
    "print(X_test.shape)\n",
    "print(X_val.shape)\n",
    "print(train_labels.shape)\n",
    "print(test_labels.shape)\n",
    "print(val_labels.shape)"
   ]
  },
  {
   "cell_type": "code",
   "execution_count": 96,
   "metadata": {},
   "outputs": [],
   "source": [
    "X_with_cols = pd.DataFrame(X, columns = columns_save)"
   ]
  },
  {
   "cell_type": "markdown",
   "metadata": {},
   "source": [
    "## Models to Evaluate\n",
    "\n",
    "We will compare five different machine learning models using the great [Scikit-Learn library](http://scikit-learn.org/stable/):\n",
    "\n",
    "1. Linear Regression\n",
    "2. Support Vector Machine Regression\n",
    "3. Random Forest Regression\n",
    "4. Gradient Boosting Regression\n",
    "5. K-Nearest Neighbors Regression\n",
    "\n",
    "Again, here I'm focusing on implementation rather than explaining how these work. In addition to Hands-On Machine Learning, another great resource (this one is free online) for reading about machine learning models is [An Introduction to Statistical Learning](http://www-bcf.usc.edu/~gareth/ISL/).\n",
    "\n",
    "To compare the models, we are going to be mostly using the Scikit-Learn defaults for the model hyperparameters. Generally these will perform decently, but should be optimized before actually using a model. At first, we just want to determine the baseline performance of each model, and then we can select the best performing model for further optimization using hyperparameter tuning. Remember that the default hyperparameters will get a model up and running, but nearly always should be adjusted using some sort of search to find the best settings for your problem! \n",
    "\n",
    "Here is what the Scikit-learn documentation [says about the defaults](https://arxiv.org/abs/1309.0238):\n",
    "\n",
    "    __Sensible defaults__: Whenever an operation requires a user-defined parameter,\n",
    "    an appropriate default value is defined by the library. The default value\n",
    "    should cause the operation to be performed in a sensible way (giving a baseline\n",
    "    solution for the task at hand.)\n",
    "\n",
    "One of the best parts about scikit-learn is that all models are implemented in an identical manner: once you know how to build one, you can implement an extremely diverse array of models. Here we will implement the entire training and testing procedures for a number of models in just a few lines of code."
   ]
  },
  {
   "cell_type": "code",
   "execution_count": 97,
   "metadata": {},
   "outputs": [],
   "source": [
    "# Function to calculate mean absolute error\n",
    "def mae(y_true, y_pred):\n",
    "    return np.mean(abs(y_true - y_pred))"
   ]
  },
  {
   "cell_type": "code",
   "execution_count": 98,
   "metadata": {},
   "outputs": [
    {
     "name": "stdout",
     "output_type": "stream",
     "text": [
      "The baseline guess is a score of 62.10\n",
      "Baseline Performance on the test set: MAE = 11.8228\n"
     ]
    }
   ],
   "source": [
    "baseline_guess = np.median(train_labels)\n",
    "\n",
    "print('The baseline guess is a score of %0.2f' % baseline_guess)\n",
    "print(\"Baseline Performance on the test set: MAE = %0.4f\" % mae(test_labels, baseline_guess))"
   ]
  },
  {
   "cell_type": "code",
   "execution_count": 99,
   "metadata": {},
   "outputs": [],
   "source": [
    "# Imputing missing values and scaling values\n",
    "from sklearn.preprocessing import MinMaxScaler\n",
    "\n",
    "# Machine Learning Models\n",
    "from sklearn.linear_model import LinearRegression\n",
    "from sklearn.ensemble import RandomForestRegressor, GradientBoostingRegressor\n",
    "from sklearn.svm import SVR\n",
    "from sklearn.neighbors import KNeighborsRegressor\n",
    "\n",
    "# Hyperparameter tuning\n",
    "from sklearn.model_selection import RandomizedSearchCV, GridSearchCV"
   ]
  },
  {
   "cell_type": "markdown",
   "metadata": {},
   "source": [
    "## Scaling Features"
   ]
  },
  {
   "cell_type": "code",
   "execution_count": 100,
   "metadata": {},
   "outputs": [],
   "source": [
    "# Convert y to one-dimensional array (vector)\n",
    "y = np.array(train_labels).reshape((-1, ))\n",
    "y_test = np.array(test_labels).reshape((-1, ))\n",
    "y_val = np.array(val_labels).reshape((-1, ))"
   ]
  },
  {
   "cell_type": "code",
   "execution_count": 101,
   "metadata": {},
   "outputs": [],
   "source": [
    "# Function to calculate mean absolute error\n",
    "#def mae(y_true, y_pred):\n",
    "    #return np.mean(abs(y_true - y_pred))\n",
    "    \n",
    "def mae(y_true, y_val, y_pred, y_pred_val):    \n",
    "    return np.mean(abs(y_true - y_pred)), np.mean(abs(y_val - y_pred_val))\n",
    "\n",
    "# Takes in a model, trains the model, and evaluates the model on the test set\n",
    "def fit_and_evaluate(model):\n",
    "    \n",
    "    # Train the model\n",
    "    model.fit(X, y)\n",
    "    \n",
    "    # Make predictions and evalute\n",
    "    model_pred = model.predict(X_test)\n",
    "    \n",
    "    y_pred_val = model.predict(X_val)\n",
    "    #model_mae = mae(y_test, model_pred)\n",
    "    model_mae = mae(y_test, y_val, model_pred, y_pred_val)\n",
    "    \n",
    "    corr_test = spearmanr(test_labels, model_pred)\n",
    "    corr_val = spearmanr(y_val, y_pred_val)\n",
    "    \n",
    "    print (\"SRCC test\", round(corr_test[0],4), corr_test[1])\n",
    "    print (\"SRCC validation\", round(corr_val[0],4), corr_val[1])\n",
    "    \n",
    "    # Return the performance metric\n",
    "    return model_mae, corr_val[0]"
   ]
  },
  {
   "cell_type": "code",
   "execution_count": 102,
   "metadata": {},
   "outputs": [
    {
     "name": "stdout",
     "output_type": "stream",
     "text": [
      "SRCC test 0.9029 2.2786059841421144e-17\n",
      "SRCC validation 0.8755 3.598377502826408e-15\n",
      "Linear Regression Performance: MAE test = 5.0785, MAE val = 5.3269\n"
     ]
    }
   ],
   "source": [
    "lr = LinearRegression()\n",
    "lr_mae, corr_lr = fit_and_evaluate(lr)\n",
    "\n",
    "print('Linear Regression Performance: MAE test = %0.4f, MAE val = %0.4f' % lr_mae)"
   ]
  },
  {
   "cell_type": "code",
   "execution_count": 103,
   "metadata": {},
   "outputs": [
    {
     "name": "stdout",
     "output_type": "stream",
     "text": [
      "SRCC test 0.9192 5.148795115469475e-19\n",
      "SRCC validation 0.9118 3.1372781797053525e-18\n",
      "Support Vector Machine Regression Performance: MAE test = 1.7326, MAE val = 2.5042\n"
     ]
    }
   ],
   "source": [
    "svm = SVR(C = 1000, gamma = 0.1)\n",
    "svm_mae, corr_svm = fit_and_evaluate(svm)\n",
    "\n",
    "print('Support Vector Machine Regression Performance: MAE test = %0.4f, MAE val = %0.4f' % svm_mae)"
   ]
  },
  {
   "cell_type": "code",
   "execution_count": 104,
   "metadata": {},
   "outputs": [
    {
     "name": "stdout",
     "output_type": "stream",
     "text": [
      "SRCC test 0.98 8.988461565889573e-32\n",
      "SRCC validation 0.9819 9.817954208018139e-33\n",
      "Random Forest Regression Performance: MAE test = 2.3253, MAE val = 2.0165\n"
     ]
    }
   ],
   "source": [
    "random_forest = RandomForestRegressor(random_state=42)\n",
    "random_forest_mae, corr_random_forest = fit_and_evaluate(random_forest)\n",
    "\n",
    "print('Random Forest Regression Performance: MAE test = %0.4f, MAE val = %0.4f' % random_forest_mae)"
   ]
  },
  {
   "cell_type": "code",
   "execution_count": 105,
   "metadata": {},
   "outputs": [
    {
     "name": "stdout",
     "output_type": "stream",
     "text": [
      "SRCC test 0.9726 7.090557578751438e-29\n",
      "SRCC validation 0.9783 5.1593727777056e-31\n",
      "Gradient Boosted Regression Performance: MAE test = 2.5623, MAE val = 2.2214\n"
     ]
    }
   ],
   "source": [
    "gradient_boosted = GradientBoostingRegressor(random_state=42)\n",
    "gradient_boosted_mae, corr_gradient_boosted = fit_and_evaluate(gradient_boosted)\n",
    "print('Gradient Boosted Regression Performance: MAE test = %0.4f, MAE val = %0.4f' % gradient_boosted_mae)"
   ]
  },
  {
   "cell_type": "code",
   "execution_count": 106,
   "metadata": {},
   "outputs": [
    {
     "name": "stdout",
     "output_type": "stream",
     "text": [
      "SRCC test 0.7523 2.5449042642289407e-09\n",
      "SRCC validation 0.8248 3.275702268693151e-12\n",
      "K-Nearest Neighbors Regression Performance: MAE test = 7.4090, MAE val = 6.9346\n"
     ]
    }
   ],
   "source": [
    "knn = KNeighborsRegressor(n_neighbors=10)\n",
    "knn_mae, corr_knn = fit_and_evaluate(knn)\n",
    "\n",
    "print('K-Nearest Neighbors Regression Performance: MAE test = %0.4f, MAE val = %0.4f' % knn_mae)"
   ]
  },
  {
   "cell_type": "code",
   "execution_count": null,
   "metadata": {},
   "outputs": [],
   "source": []
  },
  {
   "cell_type": "markdown",
   "metadata": {},
   "source": [
    "## MOS values updating \n",
    "\n",
    "There are a hypothesis that QoE function has a sigmoid nature, like this:"
   ]
  },
  {
   "cell_type": "code",
   "execution_count": 107,
   "metadata": {},
   "outputs": [
    {
     "data": {
      "image/png": "[encoded data removed]",
      "text/plain": [
       "<Figure size 432x288 with 1 Axes>"
      ]
     },
     "metadata": {
      "needs_background": "light"
     },
     "output_type": "display_data"
    }
   ],
   "source": [
    "#Sigmoid hypothesis\n",
    "x = np.arange(-200, 200, 4).tolist()\n",
    "y = []\n",
    "\n",
    "b1 = 100 #Scaling factor, constant\n",
    "b2 = -0.03 #КSlope factor, also can be included in the weights in integral value V\n",
    "b3 = 200 #Offset along the Ox axis, entered into X itself. \n",
    "#x = summ (w.i * xi) - there is some kind of polynomial. b3 - the constant term\n",
    "#sigma = b1/(b2 + b3*exp(-x))\n",
    "def sigma(x):\n",
    "    sigma = 100/(1 + math.exp(b2*(x)))\n",
    "   \n",
    "    return sigma\n",
    "\n",
    "y= list (map(lambda x : sigma(x), x))\n",
    "\n",
    "fig, ax = plt.subplots()\n",
    "ax.plot(x, y, '+', linestyle='solid')\n",
    "\n",
    "plt.xlabel('Integral Value', size = 22);\n",
    "plt.ylabel('QoE', size = 22);\n"
   ]
  },
  {
   "cell_type": "markdown",
   "metadata": {},
   "source": [
    "## But we will see next that it can also be like this: "
   ]
  },
  {
   "cell_type": "code",
   "execution_count": 108,
   "metadata": {},
   "outputs": [
    {
     "data": {
      "image/png": "[encoded data removed]",
      "text/plain": [
       "<Figure size 432x288 with 1 Axes>"
      ]
     },
     "metadata": {
      "needs_background": "light"
     },
     "output_type": "display_data"
    }
   ],
   "source": [
    "##Logarithmic hypothesis\n",
    "x = np.arange(-200, 200, 4).tolist()\n",
    "y = []\n",
    "\n",
    "b1 = 100 \n",
    "b2 = -0.03 \n",
    "b3 = 1 \n",
    "def sigma(x):\n",
    "    sigma = -b1/(1 + math.exp(b2*(-x-b3))) + 100\n",
    "   \n",
    "    return sigma\n",
    "\n",
    "y = list (map(lambda x : sigma(x), x))\n",
    "\n",
    "fig, ax = plt.subplots()\n",
    "ax.plot(y, x, 'b+', linestyle='solid')\n",
    "plt.xlabel('Integral Value', size = 22);\n",
    "plt.ylabel('QoE', size = 22);\n",
    "plt.show()"
   ]
  },
  {
   "cell_type": "code",
   "execution_count": 109,
   "metadata": {},
   "outputs": [],
   "source": [
    "features = pd.concat([numerical_subset, categorical_subset], axis = 1)\n",
    "targets = mos"
   ]
  },
  {
   "cell_type": "code",
   "execution_count": 110,
   "metadata": {},
   "outputs": [
    {
     "name": "stderr",
     "output_type": "stream",
     "text": [
      "/home/ksant/anaconda3/lib/python3.7/site-packages/ipykernel_launcher.py:18: SettingWithCopyWarning: \n",
      "A value is trying to be set on a copy of a slice from a DataFrame\n",
      "\n",
      "See the caveats in the documentation: https://pandas.pydata.org/pandas-docs/stable/user_guide/indexing.html#returning-a-view-versus-a-copy\n"
     ]
    }
   ],
   "source": [
    "def transmutation(mos):\n",
    "    return math.log(mos/(100-mos))\n",
    "\n",
    "#I also have some ideas that QoE has a logarifmic nature\n",
    "def transmutation2(mos):\n",
    "    #return 1/(1+math.exp((12/100)*(50-mos)))\n",
    "    return 1/(1+math.exp((0.08)*(50-mos)))\n",
    "    #return 100/(1+math.exp((0.1)*(40-mos)))\n",
    "\n",
    "#for index, row in targets.iterrows():\n",
    "for i in range(len(targets)):\n",
    "    \n",
    "    #value = transmutation(row['MOS'])\n",
    "    #print (value)\n",
    "    #targets.at[index, 'MOS'] = value\n",
    "    \n",
    "    value = transmutation(targets[i])\n",
    "    targets[i] = value"
   ]
  },
  {
   "cell_type": "code",
   "execution_count": 111,
   "metadata": {},
   "outputs": [],
   "source": [
    "k=10\n",
    "n = 45#450/k\n",
    "k_folds = np.zeros((k,n))\n",
    "\n",
    "sorted_features = pd.concat([features, targets], axis = 1)\n",
    "sorted_features = sorted_features.sort_values(['MOS'])\n",
    "sorted_features.set_index(np.arange(450) )\n",
    "\n",
    "val = sorted_features.iloc [index_val]\n",
    "\n",
    "targets = pd.DataFrame(sorted_features[\"MOS\"])\n",
    "sorted_features = sorted_features.drop ([\"MOS\"], axis = 1)\n",
    "\n",
    "X = sorted_features.drop(index_test)\n",
    "X = X.drop(index_val)\n",
    "X_test = sorted_features.iloc [index_test]\n",
    "X_val = sorted_features.iloc [index_val]\n",
    "\n",
    "train_labels = targets.drop(index_test)\n",
    "train_labels = train_labels.drop(index_val)\n",
    "test_labels = targets.iloc [index_test]\n",
    "val_labels = targets.iloc [index_val]"
   ]
  },
  {
   "cell_type": "code",
   "execution_count": 112,
   "metadata": {},
   "outputs": [],
   "source": [
    "X_with_cols = pd.DataFrame(X, columns = columns_save)"
   ]
  },
  {
   "cell_type": "markdown",
   "metadata": {},
   "source": [
    "## Scaling Features"
   ]
  },
  {
   "cell_type": "code",
   "execution_count": 113,
   "metadata": {},
   "outputs": [],
   "source": [
    "# Convert y to one-dimensional array (vector)\n",
    "y = np.array(train_labels).reshape((-1, ))\n",
    "y_test = np.array(test_labels).reshape((-1, ))\n",
    "y_val = np.array(val_labels).reshape((-1, ))"
   ]
  },
  {
   "cell_type": "code",
   "execution_count": 114,
   "metadata": {},
   "outputs": [
    {
     "name": "stdout",
     "output_type": "stream",
     "text": [
      "SRCC test 0.91 4.772880832282777e-18\n",
      "SRCC validation 0.8725 5.847430693163335e-15\n",
      "Linear Regression Performance: MAE test = 0.2398, MAE val = 0.2633\n"
     ]
    }
   ],
   "source": [
    "lr = LinearRegression()\n",
    "lr_maea, corr_lr_t = fit_and_evaluate(lr)\n",
    "\n",
    "print('Linear Regression Performance: MAE test = %0.4f, MAE val = %0.4f' % lr_maea)"
   ]
  },
  {
   "cell_type": "code",
   "execution_count": 115,
   "metadata": {},
   "outputs": [
    {
     "name": "stdout",
     "output_type": "stream",
     "text": [
      "SRCC test 0.9218 2.606424771640244e-19\n",
      "SRCC validation 0.9152 1.3973301313444452e-18\n",
      "Support Vector Machine Regression Performance: MAE test = 0.1696, MAE val = 0.1812\n"
     ]
    }
   ],
   "source": [
    "svm = SVR(C = 1000, gamma = 0.1)\n",
    "svm_maea, corr_svm_t = fit_and_evaluate(svm)\n",
    "\n",
    "print('Support Vector Machine Regression Performance: MAE test = %0.4f, MAE val = %0.4f' % svm_maea)"
   ]
  },
  {
   "cell_type": "code",
   "execution_count": 116,
   "metadata": {},
   "outputs": [
    {
     "name": "stdout",
     "output_type": "stream",
     "text": [
      "SRCC test 0.9725 7.850480720416759e-29\n",
      "SRCC validation 0.9833 1.949657052036717e-33\n",
      "Random Forest Regression Performance: MAE test = 0.1165, MAE val = 0.0985\n"
     ]
    }
   ],
   "source": [
    "random_forest = RandomForestRegressor(random_state=42)\n",
    "random_forest_maea, corr_random_forest_t = fit_and_evaluate(random_forest)\n",
    "\n",
    "print('Random Forest Regression Performance: MAE test = %0.4f, MAE val = %0.4f' % random_forest_maea)"
   ]
  },
  {
   "cell_type": "code",
   "execution_count": 117,
   "metadata": {},
   "outputs": [
    {
     "name": "stdout",
     "output_type": "stream",
     "text": [
      "SRCC test 0.9738 2.771829704289645e-29\n",
      "SRCC validation 0.9809 3.2916893609309045e-32\n",
      "Gradient Boosted Regression Performance: MAE test = 0.1293, MAE val = 0.1043\n"
     ]
    }
   ],
   "source": [
    "gradient_boosted = GradientBoostingRegressor(random_state=42)\n",
    "gradient_boosted_maea, corr_gradient_boosted_t = fit_and_evaluate(gradient_boosted)\n",
    "print('Gradient Boosted Regression Performance: MAE test = %0.4f, MAE val = %0.4f' % gradient_boosted_maea)"
   ]
  },
  {
   "cell_type": "code",
   "execution_count": 118,
   "metadata": {},
   "outputs": [
    {
     "name": "stdout",
     "output_type": "stream",
     "text": [
      "SRCC test 0.7473 3.7030466419161365e-09\n",
      "SRCC validation 0.8235 3.783176216585284e-12\n",
      "K-Nearest Neighbors Regression Performance: MAE test = 0.3542, MAE val = 0.3451\n"
     ]
    }
   ],
   "source": [
    "knn = KNeighborsRegressor(n_neighbors=10)\n",
    "knn_maea, corr_knn_t = fit_and_evaluate(knn)\n",
    "\n",
    "print('K-Nearest Neighbors Regression Performance: MAE test = %0.4f, MAE val = %0.4f' % knn_maea)"
   ]
  },
  {
   "cell_type": "code",
   "execution_count": 119,
   "metadata": {},
   "outputs": [
    {
     "data": {
      "image/png": "[encoded data removed]",
      "text/plain": [
       "<Figure size 432x288 with 1 Axes>"
      ]
     },
     "metadata": {
      "needs_background": "light"
     },
     "output_type": "display_data"
    }
   ],
   "source": [
    "corr = [corr_lr, corr_svm, corr_random_forest, \n",
    "                                         corr_gradient_boosted, corr_knn]\n",
    "\n",
    "corr_t = [corr_lr_t, corr_svm_t, corr_random_forest_t, \n",
    "                                         corr_gradient_boosted_t, corr_knn_t]\n",
    "\n",
    "index = ['Linear Regression', 'Support Vector Machine',\n",
    "                                           'Random Forest', 'Gradient Boosted',\n",
    "                                            'K-Nearest Neighbors']\n",
    "df = pd.DataFrame({'SRCC': corr, 'SRCC + MOS transform': corr_t}, index=index)\n",
    "df=df.sort_values('SRCC + MOS transform', ascending = False)\n",
    "ax = df.plot.barh()"
   ]
  },
  {
   "cell_type": "markdown",
   "metadata": {},
   "source": [
    "### MOS transmutation\n",
    "So, we have some increase in terms of MAE and also we have some simplification of models in terms of a number of estimators"
   ]
  },
  {
   "cell_type": "markdown",
   "metadata": {},
   "source": [
    "## Model Optimization \n",
    "\n",
    "In machine learning, optimizing a model means finding the best set of hyperparameters for a particular problem. \n",
    "\n",
    "## Hyperparameters\n",
    "\n",
    "First off, we need to understand what [model hyperparameters are in contrast to model parameters](https://machinelearningmastery.com/difference-between-a-parameter-and-a-hyperparameter/) :\n",
    "\n",
    "* Model __hyperparameters__ are best thought of as settings for a machine learning algorithm that are tuned by the data scientist before training. Examples would be the number of trees in the random forest, or the number of neighbors used in K Nearest Neighbors Regression. \n",
    "* Model __parameters__ are what the model learns during training, such as the weights in the linear regression.\n",
    "\n",
    "We as data scientists control a model by choosing the hyperparameters, and these choices can have a significant effect on the final performance of the model (although usually not as great of an effect as getting more data or engineering features). \n",
    "\n",
    "[Tuning the model hyperparameters](http://scikit-learn.org/stable/modules/grid_search.html) controls the balance of under vs over fitting in a model. We can try to correct for under-fitting by making a more complex model, such as using more trees in a random forest or more layers in a deep neural network. A model that underfits has high bias, and occurs when our model does not have enough capacity (degrees of freedom) to learn the relationship between the features and the target. We can try to correct for overfitting by limiting the complexity of the model and applying regularization. This might mean decreasing the degree of a polynomial regression, or adding dropout layers to a deep neural network. A model that overfits has high variance and in effect has memorized the training set. Both underfitting and overfitting lead to poor generalization performance on the test set. \n",
    "\n",
    "The problem with choosing the hyperparameters is that no set will work best across all problems. Therefore, for every new dataset, we have to find the best settings. This can be a time-consuming process, but luckily there are several options for performing this procedure in Scikit-Learn. Even better, new libraries, such as [TPOT](https://epistasislab.github.io/tpot/) by epistasis labs, is aiming to do this process automatically for you! For now, we will stick to doing this manually (sort of) in Scikit-Learn, but stay tuned for an article on automatic model selection! "
   ]
  },
  {
   "cell_type": "code",
   "execution_count": 37,
   "metadata": {},
   "outputs": [],
   "source": [
    "# Loss function to be optimized\n",
    "loss = ['ls', 'lad', 'huber']\n",
    "\n",
    "# Number of trees used in the boosting process\n",
    "n_estimators = [80, 85, 90, 95, 100, 110, 120, 130, 140, 150, 160,\n",
    "                170, 180, 190, 200, 210, 220, 230, 240, 250, 260, 270, \n",
    "                280, 290, 300, 310, 320, 330, 340, 350, 360, 370, 380, 390, 400, 410]\n",
    "\n",
    "# Maximum depth of each tree\n",
    "max_depth = [3, 4, 5, 6, 7]\n",
    "\n",
    "# Minimum number of samples per leaf\n",
    "min_samples_leaf = [3, 4, 5, 6]\n",
    "\n",
    "# Minimum number of samples to split a node\n",
    "min_samples_split = [8, 9, 10, 11, 12, 13, 14]\n",
    "\n",
    "# Maximum number of features to consider for making splits\n",
    "max_features = ['auto', 'sqrt', 'log2', None]\n",
    "\n",
    "#Регяляризация\n",
    "penalty=['l2', 'l1']\n",
    "\n",
    "#Параметр регуляризации\n",
    "alpha = np.linspace(0.0001, 0.01, num = 100)\n",
    "\n",
    "# Define the grid of hyperparameters to search\n",
    "hyperparameter_grid = {'loss': loss,\n",
    "                       'n_estimators': n_estimators,\n",
    "                       'max_depth': max_depth,\n",
    "                       'min_samples_leaf': min_samples_leaf,\n",
    "                       'min_samples_split': min_samples_split,\n",
    "                       'max_features': max_features}"
   ]
  },
  {
   "cell_type": "code",
   "execution_count": 183,
   "metadata": {},
   "outputs": [],
   "source": [
    "# Create the model to use for hyperparameter tuning\n",
    "model = GradientBoostingRegressor(random_state = 42)\n",
    "\n",
    "#scoring_list = [\"explained_variance\",'neg_mean_absolute_error' ]\n",
    "from sklearn.model_selection import ShuffleSplit\n",
    "#from sklearn.model_selection import cross_validate\n",
    "\n",
    "#n_splits=5, test_size=.25, random_state=0\n",
    "#cv = cross_decomposition.ShuffleSplit(train_labels, n_splits = 20, test_size=0.2, random_state=42)\n",
    "rs = ShuffleSplit(n_splits=5, test_size=.20, random_state=42)\n",
    "cv = rs.split(train_labels)\n",
    "# Set up the random search with CV-fold cross validation\n",
    "'''\n",
    "random_cv = RandomizedSearchCV(estimator=model,\n",
    "                               param_distributions=hyperparameter_grid,\n",
    "                               cv=cv, n_iter=5000, \n",
    "                               scoring = \"neg_mean_absolute_error\",\n",
    "                               n_jobs = -1, verbose = 1, \n",
    "                               return_train_score = True,\n",
    "                               random_state=42)\n",
    "                               # refit = False)\n",
    "                               \n",
    "'''                             \n",
    "\n",
    "#Full search    \n",
    "random_cv = GridSearchCV(estimator=model,\n",
    "                               param_grid=hyperparameter_grid,\n",
    "                               cv=cv, \n",
    "                               scoring = \"neg_mean_absolute_error\",\n",
    "                               n_jobs = -1, verbose = 1, \n",
    "                               return_train_score = True)\n",
    "                               # refit = False)        "
   ]
  },
  {
   "cell_type": "code",
   "execution_count": 184,
   "metadata": {
    "collapsed": true
   },
   "outputs": [
    {
     "name": "stdout",
     "output_type": "stream",
     "text": [
      "Fitting 5 folds for each of 60480 candidates, totalling 302400 fits\n"
     ]
    },
    {
     "name": "stderr",
     "output_type": "stream",
     "text": [
      "[Parallel(n_jobs=-1)]: Using backend LokyBackend with 64 concurrent workers.\n",
      "[Parallel(n_jobs=-1)]: Done  72 tasks      | elapsed:    2.3s\n",
      "[Parallel(n_jobs=-1)]: Done 322 tasks      | elapsed:    3.3s\n",
      "[Parallel(n_jobs=-1)]: Done 672 tasks      | elapsed:    4.5s\n",
      "[Parallel(n_jobs=-1)]: Done 1122 tasks      | elapsed:    5.8s\n",
      "[Parallel(n_jobs=-1)]: Done 1672 tasks      | elapsed:    7.8s\n",
      "[Parallel(n_jobs=-1)]: Done 2322 tasks      | elapsed:    9.8s\n",
      "[Parallel(n_jobs=-1)]: Done 3072 tasks      | elapsed:   12.2s\n",
      "[Parallel(n_jobs=-1)]: Done 3922 tasks      | elapsed:   15.0s\n",
      "[Parallel(n_jobs=-1)]: Done 4872 tasks      | elapsed:   17.9s\n",
      "[Parallel(n_jobs=-1)]: Done 5922 tasks      | elapsed:   20.9s\n",
      "[Parallel(n_jobs=-1)]: Done 7072 tasks      | elapsed:   24.1s\n",
      "[Parallel(n_jobs=-1)]: Done 8322 tasks      | elapsed:   27.5s\n",
      "[Parallel(n_jobs=-1)]: Done 9672 tasks      | elapsed:   31.1s\n",
      "[Parallel(n_jobs=-1)]: Done 11122 tasks      | elapsed:   34.8s\n",
      "[Parallel(n_jobs=-1)]: Done 12672 tasks      | elapsed:   39.0s\n",
      "[Parallel(n_jobs=-1)]: Done 14322 tasks      | elapsed:   43.1s\n",
      "[Parallel(n_jobs=-1)]: Done 16072 tasks      | elapsed:   48.2s\n",
      "[Parallel(n_jobs=-1)]: Done 17922 tasks      | elapsed:   54.1s\n",
      "[Parallel(n_jobs=-1)]: Done 19872 tasks      | elapsed:  1.0min\n",
      "[Parallel(n_jobs=-1)]: Done 21922 tasks      | elapsed:  1.1min\n",
      "[Parallel(n_jobs=-1)]: Done 24072 tasks      | elapsed:  1.3min\n",
      "[Parallel(n_jobs=-1)]: Done 26322 tasks      | elapsed:  1.4min\n",
      "[Parallel(n_jobs=-1)]: Done 28672 tasks      | elapsed:  1.5min\n",
      "[Parallel(n_jobs=-1)]: Done 31122 tasks      | elapsed:  1.6min\n",
      "[Parallel(n_jobs=-1)]: Done 33672 tasks      | elapsed:  1.7min\n",
      "[Parallel(n_jobs=-1)]: Done 36322 tasks      | elapsed:  1.9min\n",
      "[Parallel(n_jobs=-1)]: Done 39072 tasks      | elapsed:  2.0min\n",
      "[Parallel(n_jobs=-1)]: Done 41922 tasks      | elapsed:  2.2min\n",
      "[Parallel(n_jobs=-1)]: Done 44872 tasks      | elapsed:  2.4min\n",
      "[Parallel(n_jobs=-1)]: Done 47922 tasks      | elapsed:  2.6min\n",
      "[Parallel(n_jobs=-1)]: Done 51072 tasks      | elapsed:  2.7min\n",
      "[Parallel(n_jobs=-1)]: Done 54322 tasks      | elapsed:  2.9min\n",
      "[Parallel(n_jobs=-1)]: Done 57672 tasks      | elapsed:  3.1min\n",
      "[Parallel(n_jobs=-1)]: Done 61122 tasks      | elapsed:  3.4min\n",
      "[Parallel(n_jobs=-1)]: Done 64672 tasks      | elapsed:  3.7min\n",
      "[Parallel(n_jobs=-1)]: Done 68322 tasks      | elapsed:  3.9min\n",
      "[Parallel(n_jobs=-1)]: Done 72072 tasks      | elapsed:  4.0min\n",
      "[Parallel(n_jobs=-1)]: Done 75922 tasks      | elapsed:  4.2min\n",
      "[Parallel(n_jobs=-1)]: Done 79872 tasks      | elapsed:  4.6min\n",
      "[Parallel(n_jobs=-1)]: Done 83922 tasks      | elapsed:  5.0min\n",
      "[Parallel(n_jobs=-1)]: Done 88072 tasks      | elapsed:  5.2min\n",
      "[Parallel(n_jobs=-1)]: Done 92322 tasks      | elapsed:  5.4min\n",
      "[Parallel(n_jobs=-1)]: Done 96672 tasks      | elapsed:  5.7min\n",
      "[Parallel(n_jobs=-1)]: Done 101122 tasks      | elapsed:  6.1min\n",
      "[Parallel(n_jobs=-1)]: Done 105672 tasks      | elapsed:  6.6min\n",
      "[Parallel(n_jobs=-1)]: Done 110322 tasks      | elapsed:  7.0min\n",
      "[Parallel(n_jobs=-1)]: Done 115072 tasks      | elapsed:  7.4min\n",
      "[Parallel(n_jobs=-1)]: Done 119922 tasks      | elapsed:  8.0min\n",
      "[Parallel(n_jobs=-1)]: Done 124872 tasks      | elapsed:  8.7min\n",
      "[Parallel(n_jobs=-1)]: Done 129922 tasks      | elapsed:  9.3min\n",
      "[Parallel(n_jobs=-1)]: Done 135072 tasks      | elapsed:  9.9min\n",
      "[Parallel(n_jobs=-1)]: Done 140322 tasks      | elapsed: 10.7min\n",
      "[Parallel(n_jobs=-1)]: Done 145672 tasks      | elapsed: 11.7min\n",
      "[Parallel(n_jobs=-1)]: Done 151122 tasks      | elapsed: 12.6min\n",
      "[Parallel(n_jobs=-1)]: Done 156672 tasks      | elapsed: 13.5min\n",
      "[Parallel(n_jobs=-1)]: Done 162322 tasks      | elapsed: 14.7min\n",
      "[Parallel(n_jobs=-1)]: Done 168072 tasks      | elapsed: 16.0min\n",
      "[Parallel(n_jobs=-1)]: Done 173922 tasks      | elapsed: 17.1min\n",
      "[Parallel(n_jobs=-1)]: Done 179872 tasks      | elapsed: 18.5min\n",
      "[Parallel(n_jobs=-1)]: Done 185922 tasks      | elapsed: 20.1min\n",
      "[Parallel(n_jobs=-1)]: Done 192072 tasks      | elapsed: 21.6min\n",
      "[Parallel(n_jobs=-1)]: Done 198322 tasks      | elapsed: 23.2min\n",
      "[Parallel(n_jobs=-1)]: Done 204672 tasks      | elapsed: 24.6min\n",
      "[Parallel(n_jobs=-1)]: Done 211122 tasks      | elapsed: 25.4min\n",
      "[Parallel(n_jobs=-1)]: Done 217672 tasks      | elapsed: 26.2min\n",
      "[Parallel(n_jobs=-1)]: Done 224322 tasks      | elapsed: 27.3min\n",
      "[Parallel(n_jobs=-1)]: Done 231072 tasks      | elapsed: 28.5min\n",
      "[Parallel(n_jobs=-1)]: Done 237922 tasks      | elapsed: 29.7min\n",
      "[Parallel(n_jobs=-1)]: Done 244872 tasks      | elapsed: 31.1min\n",
      "[Parallel(n_jobs=-1)]: Done 251922 tasks      | elapsed: 32.7min\n",
      "[Parallel(n_jobs=-1)]: Done 259072 tasks      | elapsed: 34.2min\n",
      "[Parallel(n_jobs=-1)]: Done 266322 tasks      | elapsed: 36.1min\n",
      "[Parallel(n_jobs=-1)]: Done 273672 tasks      | elapsed: 38.1min\n",
      "[Parallel(n_jobs=-1)]: Done 281122 tasks      | elapsed: 40.1min\n",
      "[Parallel(n_jobs=-1)]: Done 288672 tasks      | elapsed: 42.5min\n",
      "[Parallel(n_jobs=-1)]: Done 296322 tasks      | elapsed: 44.9min\n",
      "[Parallel(n_jobs=-1)]: Done 302400 out of 302400 | elapsed: 46.9min finished\n"
     ]
    },
    {
     "data": {
      "text/plain": [
       "GridSearchCV(cv=<generator object BaseShuffleSplit.split at 0x7f3a503796d8>,\n",
       "       error_score='raise-deprecating',\n",
       "       estimator=GradientBoostingRegressor(alpha=0.9, criterion='friedman_mse', init=None,\n",
       "             learning_rate=0.1, loss='ls', max_depth=3, max_features=None,\n",
       "             max_leaf_nodes=None, min_impurity_decrease=0.0,\n",
       "             min_impurity_split=None, min_samples_leaf=1,\n",
       "             min_sampl...te=42, subsample=1.0, tol=0.0001,\n",
       "             validation_fraction=0.1, verbose=0, warm_start=False),\n",
       "       fit_params=None, iid='warn', n_jobs=-1,\n",
       "       param_grid={'loss': ['ls', 'lad', 'huber'], 'n_estimators': [80, 85, 90, 95, 100, 110, 120, 130, 140, 150, 160, 170, 180, 190, 200, 210, 220, 230, 240, 250, 260, 270, 280, 290, 300, 310, 320, 330, 340, 350, 360, 370, 380, 390, 400, 410], 'max_depth': [3, 4, 5, 6, 7], 'min_samples_leaf': [3, 4, 5, 6], 'min_samples_split': [8, 9, 10, 11, 12, 13, 14], 'max_features': ['auto', 'sqrt', 'log2', None]},\n",
       "       pre_dispatch='2*n_jobs', refit=True, return_train_score=True,\n",
       "       scoring='neg_mean_absolute_error', verbose=1)"
      ]
     },
     "execution_count": 184,
     "metadata": {},
     "output_type": "execute_result"
    }
   ],
   "source": [
    "# Fit on the training data\n",
    "random_cv.fit(X, y)"
   ]
  },
  {
   "cell_type": "code",
   "execution_count": 186,
   "metadata": {},
   "outputs": [
    {
     "data": {
      "text/plain": [
       "GradientBoostingRegressor(alpha=0.9, criterion='friedman_mse', init=None,\n",
       "             learning_rate=0.1, loss='ls', max_depth=7,\n",
       "             max_features='auto', max_leaf_nodes=None,\n",
       "             min_impurity_decrease=0.0, min_impurity_split=None,\n",
       "             min_samples_leaf=3, min_samples_split=11,\n",
       "             min_weight_fraction_leaf=0.0, n_estimators=80,\n",
       "             n_iter_no_change=None, presort='auto', random_state=42,\n",
       "             subsample=1.0, tol=0.0001, validation_fraction=0.1, verbose=0,\n",
       "             warm_start=False)"
      ]
     },
     "execution_count": 186,
     "metadata": {},
     "output_type": "execute_result"
    }
   ],
   "source": [
    "random_cv.best_estimator_"
   ]
  },
  {
   "cell_type": "markdown",
   "metadata": {},
   "source": [
    "## Best estimator\n",
    "In order not to retrain the model, we use the this output:\n",
    "\n",
    "    GradientBoostingRegressor(alpha=0.9, criterion='friedman_mse', init=None,\n",
    "             learning_rate=0.1, loss='ls', max_depth=7,\n",
    "             max_features='auto', max_leaf_nodes=None,\n",
    "             min_impurity_decrease=0.0, min_impurity_split=None,\n",
    "             min_samples_leaf=3, min_samples_split=11,\n",
    "             min_weight_fraction_leaf=0.0, n_estimators=80,\n",
    "             n_iter_no_change=None, presort='auto', random_state=42,\n",
    "             subsample=1.0, tol=0.0001, validation_fraction=0.1, verbose=0,\n",
    "             warm_start=False)\n",
    "             \n",
    "You can retrain the model without MOS transmutation preprocessing and see that the model has the same quality in terms of SRCC/MAE, but about 400 estimators"
   ]
  },
  {
   "cell_type": "code",
   "execution_count": 120,
   "metadata": {},
   "outputs": [],
   "source": [
    "default_model = GradientBoostingRegressor(random_state = 42)\n",
    "\n",
    "final_model = GradientBoostingRegressor(alpha=0.9, criterion='friedman_mse', init=None,\n",
    "         learning_rate=0.1, loss='ls', max_depth=7,\n",
    "         max_features='auto', max_leaf_nodes=None,\n",
    "         min_impurity_decrease=0.0, min_impurity_split=None,\n",
    "         min_samples_leaf=3, min_samples_split=11,\n",
    "         min_weight_fraction_leaf=0.0, n_estimators=80,\n",
    "         n_iter_no_change=None, presort='auto', random_state=42,\n",
    "         subsample=1.0, tol=0.0001, validation_fraction=0.1, verbose=0,\n",
    "         warm_start=False)"
   ]
  },
  {
   "cell_type": "markdown",
   "metadata": {},
   "source": [
    "## Evaluate Final Model on the Test Set"
   ]
  },
  {
   "cell_type": "code",
   "execution_count": 121,
   "metadata": {},
   "outputs": [
    {
     "name": "stdout",
     "output_type": "stream",
     "text": [
      "148 ms ± 2.95 ms per loop (mean ± std. dev. of 5 runs, 1 loop each)\n"
     ]
    }
   ],
   "source": [
    "%%timeit -n 1 -r 5\n",
    "default_model.fit(X, y)"
   ]
  },
  {
   "cell_type": "code",
   "execution_count": 122,
   "metadata": {},
   "outputs": [
    {
     "name": "stderr",
     "output_type": "stream",
     "text": [
      "/home/ksant/anaconda3/lib/python3.7/site-packages/sklearn/ensemble/_gb.py:1342: FutureWarning: The parameter 'presort' is deprecated and has no effect. It will be removed in v0.24. You can suppress this warning by not passing any value to the 'presort' parameter. We also recommend using HistGradientBoosting models instead.\n",
      "  FutureWarning)\n",
      "/home/ksant/anaconda3/lib/python3.7/site-packages/sklearn/ensemble/_gb.py:1342: FutureWarning: The parameter 'presort' is deprecated and has no effect. It will be removed in v0.24. You can suppress this warning by not passing any value to the 'presort' parameter. We also recommend using HistGradientBoosting models instead.\n",
      "  FutureWarning)\n",
      "/home/ksant/anaconda3/lib/python3.7/site-packages/sklearn/ensemble/_gb.py:1342: FutureWarning: The parameter 'presort' is deprecated and has no effect. It will be removed in v0.24. You can suppress this warning by not passing any value to the 'presort' parameter. We also recommend using HistGradientBoosting models instead.\n",
      "  FutureWarning)\n",
      "/home/ksant/anaconda3/lib/python3.7/site-packages/sklearn/ensemble/_gb.py:1342: FutureWarning: The parameter 'presort' is deprecated and has no effect. It will be removed in v0.24. You can suppress this warning by not passing any value to the 'presort' parameter. We also recommend using HistGradientBoosting models instead.\n",
      "  FutureWarning)\n",
      "/home/ksant/anaconda3/lib/python3.7/site-packages/sklearn/ensemble/_gb.py:1342: FutureWarning: The parameter 'presort' is deprecated and has no effect. It will be removed in v0.24. You can suppress this warning by not passing any value to the 'presort' parameter. We also recommend using HistGradientBoosting models instead.\n",
      "  FutureWarning)\n"
     ]
    },
    {
     "name": "stdout",
     "output_type": "stream",
     "text": [
      "225 ms ± 8.92 ms per loop (mean ± std. dev. of 5 runs, 1 loop each)\n"
     ]
    }
   ],
   "source": [
    "%%timeit -n 1 -r 5\n",
    "final_model.fit(X, y)"
   ]
  },
  {
   "cell_type": "markdown",
   "metadata": {},
   "source": [
    "## Train/test/validation curves\n",
    "The model is trained correctly. The accuracy on the training subsample is better, as it should be.\n",
    "All curves have small discrepancy.\n",
    "Read more from [Andrew Ng](https://mostrecommendedbooks.com/andrew-ng-books).\n",
    "\n",
    "In particular, I recommend [this book.](https://github.com/xiaqunfeng/machine-learning-yearning)"
   ]
  },
  {
   "cell_type": "code",
   "execution_count": 123,
   "metadata": {},
   "outputs": [
    {
     "data": {
      "text/plain": [
       "<matplotlib.legend.Legend at 0x7fe668fd56d0>"
      ]
     },
     "execution_count": 123,
     "metadata": {},
     "output_type": "execute_result"
    },
    {
     "data": {
      "image/png": "[encoded data removed]",
      "text/plain": [
       "<Figure size 432x288 with 1 Axes>"
      ]
     },
     "metadata": {
      "needs_background": "light"
     },
     "output_type": "display_data"
    }
   ],
   "source": [
    "test_score = np.empty(len(final_model.estimators_))\n",
    "train_score = np.empty(len(final_model.estimators_))\n",
    "val_score = np.empty(len(final_model.estimators_))\n",
    "\n",
    "for i, pred in enumerate(final_model.staged_predict (X_test)):\n",
    "    test_score[i] = final_model.loss_(y_test, pred)\n",
    "\n",
    "for i, pred in enumerate(final_model.staged_predict(X)):\n",
    "    train_score[i] = final_model.loss_(y, pred)\n",
    "    \n",
    "for i, pred in enumerate(final_model.staged_predict(X_val)):\n",
    "    val_score[i] = final_model.loss_(y_val, pred)    \n",
    "\n",
    "plt.plot(test_score)\n",
    "plt.plot(train_score)\n",
    "plt.plot( val_score)\n",
    "\n",
    "plt.title('Loss', fontsize=18)\n",
    "plt.xlabel(\"Integral value V\", fontsize=18)\n",
    "plt.ylabel(\"MOS\", fontsize=18)\n",
    "\n",
    "plt.legend(['test score', 'train score', \" val_score\"])"
   ]
  },
  {
   "cell_type": "markdown",
   "metadata": {},
   "source": [
    "## Evaluation\n",
    "The publication managed to achieve the result of **0.96**. However, here, after a careful search of the hyperparameters, it turned out as much as 0.98\n",
    "\n",
    "The result changes slightly depending on the partition, initialization of the random variable, etc., but the quality of the model is **0.98**"
   ]
  },
  {
   "cell_type": "code",
   "execution_count": 124,
   "metadata": {},
   "outputs": [
    {
     "name": "stdout",
     "output_type": "stream",
     "text": [
      "SRCC test 0.9738 2.771829704289645e-29\n",
      "SRCC validation 0.9809 3.2916893609309045e-32\n"
     ]
    },
    {
     "name": "stderr",
     "output_type": "stream",
     "text": [
      "/home/ksant/anaconda3/lib/python3.7/site-packages/sklearn/ensemble/_gb.py:1342: FutureWarning: The parameter 'presort' is deprecated and has no effect. It will be removed in v0.24. You can suppress this warning by not passing any value to the 'presort' parameter. We also recommend using HistGradientBoosting models instead.\n",
      "  FutureWarning)\n"
     ]
    },
    {
     "name": "stdout",
     "output_type": "stream",
     "text": [
      "SRCC test 0.9805 5.092574057151368e-32\n",
      "SRCC validation 0.9794 1.5630191181760922e-31\n",
      "default_model Performance: MAE test = 0.1293, MAE val = 0.1043\n",
      "final_model Performance: MAE test = 0.0673, MAE val = 0.0731\n"
     ]
    }
   ],
   "source": [
    "default_mae, default_corr = fit_and_evaluate(default_model)\n",
    "final_mae, final_corr = fit_and_evaluate(final_model)\n",
    "\n",
    "print('default_model Performance: MAE test = %0.4f, MAE val = %0.4f' % default_mae)\n",
    "print('final_model Performance: MAE test = %0.4f, MAE val = %0.4f' % final_mae)"
   ]
  },
  {
   "cell_type": "code",
   "execution_count": 126,
   "metadata": {},
   "outputs": [
    {
     "data": {
      "image/png": "[encoded data removed]",
      "text/plain": [
       "<Figure size 432x288 with 1 Axes>"
      ]
     },
     "metadata": {
      "needs_background": "light"
     },
     "output_type": "display_data"
    }
   ],
   "source": [
    "#figsize(8, 8)\n",
    "\n",
    "# Density plot of the final predictions and the test values\n",
    "sns.kdeplot(final_pred, label = 'Test')\n",
    "sns.kdeplot(y_test, label = 'Ground truth')\n",
    "#sns.kdeplot(final_pred_val, label = 'Validation')\n",
    "sns.kdeplot(y_val, label = 'Validation')\n",
    "\n",
    "# Label the plot\n",
    "plt.xlabel('MOS'); plt.ylabel('Density');\n",
    "plt.title('Distribution of model scores and true values');"
   ]
  },
  {
   "cell_type": "markdown",
   "metadata": {},
   "source": [
    "# Comparison of true and simulated values"
   ]
  },
  {
   "cell_type": "code",
   "execution_count": 129,
   "metadata": {},
   "outputs": [],
   "source": [
    "def vqa (data):\n",
    "    mos = 100/(1+math.exp(-data))\n",
    "    return mos\n",
    "final_pred_v = list (map(lambda x : vqa(x), final_pred))\n",
    "y_test_v = list (map(lambda x : vqa(x), y_test))\n",
    "y_val_v= list (map(lambda x : vqa(x), y_val))\n",
    "final_pred_val_v= list (map(lambda x : vqa(x), final_pred_val))"
   ]
  },
  {
   "cell_type": "code",
   "execution_count": 130,
   "metadata": {},
   "outputs": [
    {
     "data": {
      "text/plain": [
       "Text(0.5, 1.0, 'Gradient Boosting model')"
      ]
     },
     "execution_count": 130,
     "metadata": {},
     "output_type": "execute_result"
    },
    {
     "data": {
      "image/png": "[encoded data removed]",
      "text/plain": [
       "<Figure size 432x360 with 1 Axes>"
      ]
     },
     "metadata": {
      "needs_background": "light"
     },
     "output_type": "display_data"
    }
   ],
   "source": [
    "fig = plt.figure(figsize=(6, 5))\n",
    "ax = fig.add_subplot(1, 1, 1)\n",
    "\n",
    "#plt.style.use('grayscale')\n",
    "\n",
    "plt.plot(final_pred_v, label = \"Predictions on Test\")\n",
    "plt.plot(y_test_v, label = \"True Test data\")\n",
    "\n",
    "plt.plot(final_pred_val_v, label = \"Predictions on Validation\")\n",
    "plt.plot(y_val_v, label = \"Ture Validation data\")\n",
    "plt.legend(fontsize=16)\n",
    "\n",
    "ax.set_xlabel(\"Integral value V\", fontsize=18)\n",
    "ax.set_ylabel(\"MOS\", fontsize=18)\n",
    "\n",
    "#plt.xlabel('xlabel', fontsize=18)\n",
    "\n",
    "ax.tick_params(axis=\"x\", labelsize=14)\n",
    "ax.tick_params(axis=\"y\", labelsize=14)\n",
    "\n",
    "ax.set_title(\"Gradient Boosting model\", fontsize=24, verticalalignment='bottom')"
   ]
  },
  {
   "cell_type": "code",
   "execution_count": 131,
   "metadata": {},
   "outputs": [
    {
     "data": {
      "image/png": "[encoded data removed]",
      "text/plain": [
       "<Figure size 432x288 with 1 Axes>"
      ]
     },
     "metadata": {
      "needs_background": "light"
     },
     "output_type": "display_data"
    }
   ],
   "source": [
    "figsize = (6, 6)\n",
    "\n",
    "# Calculate the residuals \n",
    "residuals = final_pred - y_test\n",
    "\n",
    "# Plot the residuals in a histogram\n",
    "plt.hist(residuals, color = 'red', bins = 20,\n",
    "         edgecolor = 'black')\n",
    "plt.xlabel('Error'); plt.ylabel('Count')\n",
    "plt.title('Distribution of Residuals');"
   ]
  },
  {
   "cell_type": "markdown",
   "metadata": {},
   "source": [
    "# Save the model to disk"
   ]
  },
  {
   "cell_type": "code",
   "execution_count": 134,
   "metadata": {},
   "outputs": [],
   "source": [
    "import pickle\n",
    "filename = 'final_model.sav'\n",
    "pickle.dump(final_model, open(filename, 'wb'))"
   ]
  },
  {
   "cell_type": "code",
   "execution_count": null,
   "metadata": {},
   "outputs": [],
   "source": []
  }
 ],
 "metadata": {
  "kernelspec": {
   "display_name": "Python 3",
   "language": "python",
   "name": "python3"
  },
  "language_info": {
   "codemirror_mode": {
    "name": "ipython",
    "version": 3
   },
   "file_extension": ".py",
   "mimetype": "text/x-python",
   "name": "python",
   "nbconvert_exporter": "python",
   "pygments_lexer": "ipython3",
   "version": "3.7.4"
  }
 },
 "nbformat": 4,
 "nbformat_minor": 4
}

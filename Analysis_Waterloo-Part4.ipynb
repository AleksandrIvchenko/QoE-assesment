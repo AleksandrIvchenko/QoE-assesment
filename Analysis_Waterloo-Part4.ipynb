{
 "cells": [
  {
   "cell_type": "markdown",
   "metadata": {},
   "source": [
    "# Analysis_Waterloo-Part4"
   ]
  },
  {
   "cell_type": "markdown",
   "metadata": {},
   "source": [
    "We will apply machine learning."
   ]
  },
  {
   "cell_type": "code",
   "execution_count": 141,
   "metadata": {},
   "outputs": [
    {
     "name": "stdout",
     "output_type": "stream",
     "text": [
      "3.7.3\n"
     ]
    }
   ],
   "source": [
    "import scipy.io\n",
    "\n",
    "import pandas as pd\n",
    "import numpy as np\n",
    "import statistics\n",
    "\n",
    "import math\n",
    "import seaborn as sns\n",
    "\n",
    "import statistics\n",
    "\n",
    "import re \n",
    "from scipy.stats import spearmanr\n",
    "\n",
    "from platform import python_version\n",
    "print(python_version())\n",
    "\n",
    "# Internal ipython tool for setting figure size\n",
    "from IPython.core.pylabtools import figsize\n",
    "\n",
    "from itertools import combinations_with_replacement, combinations\n",
    "\n",
    "%matplotlib inline\n",
    "import numpy as np\n",
    "import matplotlib.pyplot as plt\n",
    "from matplotlib.ticker import AutoMinorLocator, MultipleLocator, FuncFormatter\n",
    "\n",
    "from scipy.stats.stats import pearsonr, kendalltau, spearmanr"
   ]
  },
  {
   "cell_type": "code",
   "execution_count": 142,
   "metadata": {},
   "outputs": [],
   "source": [
    "data_all = pd.read_pickle(\"Part3_tmp\")"
   ]
  },
  {
   "cell_type": "code",
   "execution_count": 143,
   "metadata": {},
   "outputs": [],
   "source": [
    "categorical_subset = data_all[['content', 'motion', \"Constant_bitrate\"]]\n",
    "mos = data_all[\"MOS\"]\n",
    "numerical_subset = data_all.copy()\n",
    "numerical_subset = numerical_subset.drop ([\"MOS\", 'content', 'motion', \"Constant_bitrate\"], axis = 1)"
   ]
  },
  {
   "cell_type": "code",
   "execution_count": 144,
   "metadata": {},
   "outputs": [
    {
     "data": {
      "text/plain": [
       "27"
      ]
     },
     "execution_count": 144,
     "metadata": {},
     "output_type": "execute_result"
    }
   ],
   "source": [
    "len (numerical_subset.columns) + len (categorical_subset.columns) "
   ]
  },
  {
   "cell_type": "markdown",
   "metadata": {},
   "source": [
    "Next we  change names of the categories to numbers"
   ]
  },
  {
   "cell_type": "code",
   "execution_count": 145,
   "metadata": {},
   "outputs": [],
   "source": [
    "categorical_subset = pd.get_dummies(categorical_subset)"
   ]
  },
  {
   "cell_type": "code",
   "execution_count": 146,
   "metadata": {},
   "outputs": [
    {
     "data": {
      "text/html": [
       "<div>\n",
       "<style scoped>\n",
       "    .dataframe tbody tr th:only-of-type {\n",
       "        vertical-align: middle;\n",
       "    }\n",
       "\n",
       "    .dataframe tbody tr th {\n",
       "        vertical-align: top;\n",
       "    }\n",
       "\n",
       "    .dataframe thead th {\n",
       "        text-align: right;\n",
       "    }\n",
       "</style>\n",
       "<table border=\"1\" class=\"dataframe\">\n",
       "  <thead>\n",
       "    <tr style=\"text-align: right;\">\n",
       "      <th></th>\n",
       "      <th>content</th>\n",
       "      <th>motion</th>\n",
       "      <th>Constant_bitrate</th>\n",
       "    </tr>\n",
       "  </thead>\n",
       "  <tbody>\n",
       "    <tr>\n",
       "      <th>0</th>\n",
       "      <td>1</td>\n",
       "      <td>2</td>\n",
       "      <td>1</td>\n",
       "    </tr>\n",
       "    <tr>\n",
       "      <th>1</th>\n",
       "      <td>1</td>\n",
       "      <td>2</td>\n",
       "      <td>0</td>\n",
       "    </tr>\n",
       "    <tr>\n",
       "      <th>2</th>\n",
       "      <td>1</td>\n",
       "      <td>2</td>\n",
       "      <td>0</td>\n",
       "    </tr>\n",
       "    <tr>\n",
       "      <th>3</th>\n",
       "      <td>1</td>\n",
       "      <td>2</td>\n",
       "      <td>0</td>\n",
       "    </tr>\n",
       "    <tr>\n",
       "      <th>4</th>\n",
       "      <td>1</td>\n",
       "      <td>2</td>\n",
       "      <td>0</td>\n",
       "    </tr>\n",
       "    <tr>\n",
       "      <th>5</th>\n",
       "      <td>1</td>\n",
       "      <td>2</td>\n",
       "      <td>0</td>\n",
       "    </tr>\n",
       "    <tr>\n",
       "      <th>6</th>\n",
       "      <td>1</td>\n",
       "      <td>2</td>\n",
       "      <td>0</td>\n",
       "    </tr>\n",
       "    <tr>\n",
       "      <th>7</th>\n",
       "      <td>1</td>\n",
       "      <td>2</td>\n",
       "      <td>0</td>\n",
       "    </tr>\n",
       "    <tr>\n",
       "      <th>8</th>\n",
       "      <td>1</td>\n",
       "      <td>2</td>\n",
       "      <td>0</td>\n",
       "    </tr>\n",
       "    <tr>\n",
       "      <th>9</th>\n",
       "      <td>1</td>\n",
       "      <td>2</td>\n",
       "      <td>0</td>\n",
       "    </tr>\n",
       "    <tr>\n",
       "      <th>10</th>\n",
       "      <td>1</td>\n",
       "      <td>2</td>\n",
       "      <td>0</td>\n",
       "    </tr>\n",
       "    <tr>\n",
       "      <th>11</th>\n",
       "      <td>1</td>\n",
       "      <td>2</td>\n",
       "      <td>0</td>\n",
       "    </tr>\n",
       "    <tr>\n",
       "      <th>12</th>\n",
       "      <td>1</td>\n",
       "      <td>2</td>\n",
       "      <td>0</td>\n",
       "    </tr>\n",
       "    <tr>\n",
       "      <th>13</th>\n",
       "      <td>1</td>\n",
       "      <td>2</td>\n",
       "      <td>0</td>\n",
       "    </tr>\n",
       "    <tr>\n",
       "      <th>14</th>\n",
       "      <td>1</td>\n",
       "      <td>2</td>\n",
       "      <td>1</td>\n",
       "    </tr>\n",
       "    <tr>\n",
       "      <th>15</th>\n",
       "      <td>1</td>\n",
       "      <td>2</td>\n",
       "      <td>0</td>\n",
       "    </tr>\n",
       "    <tr>\n",
       "      <th>16</th>\n",
       "      <td>1</td>\n",
       "      <td>2</td>\n",
       "      <td>0</td>\n",
       "    </tr>\n",
       "    <tr>\n",
       "      <th>17</th>\n",
       "      <td>1</td>\n",
       "      <td>2</td>\n",
       "      <td>1</td>\n",
       "    </tr>\n",
       "    <tr>\n",
       "      <th>18</th>\n",
       "      <td>1</td>\n",
       "      <td>2</td>\n",
       "      <td>0</td>\n",
       "    </tr>\n",
       "    <tr>\n",
       "      <th>19</th>\n",
       "      <td>1</td>\n",
       "      <td>2</td>\n",
       "      <td>0</td>\n",
       "    </tr>\n",
       "    <tr>\n",
       "      <th>20</th>\n",
       "      <td>1</td>\n",
       "      <td>2</td>\n",
       "      <td>0</td>\n",
       "    </tr>\n",
       "    <tr>\n",
       "      <th>21</th>\n",
       "      <td>1</td>\n",
       "      <td>2</td>\n",
       "      <td>0</td>\n",
       "    </tr>\n",
       "    <tr>\n",
       "      <th>22</th>\n",
       "      <td>1</td>\n",
       "      <td>2</td>\n",
       "      <td>0</td>\n",
       "    </tr>\n",
       "    <tr>\n",
       "      <th>23</th>\n",
       "      <td>1</td>\n",
       "      <td>2</td>\n",
       "      <td>0</td>\n",
       "    </tr>\n",
       "    <tr>\n",
       "      <th>24</th>\n",
       "      <td>1</td>\n",
       "      <td>2</td>\n",
       "      <td>0</td>\n",
       "    </tr>\n",
       "    <tr>\n",
       "      <th>25</th>\n",
       "      <td>1</td>\n",
       "      <td>2</td>\n",
       "      <td>0</td>\n",
       "    </tr>\n",
       "    <tr>\n",
       "      <th>26</th>\n",
       "      <td>1</td>\n",
       "      <td>2</td>\n",
       "      <td>0</td>\n",
       "    </tr>\n",
       "    <tr>\n",
       "      <th>27</th>\n",
       "      <td>1</td>\n",
       "      <td>2</td>\n",
       "      <td>0</td>\n",
       "    </tr>\n",
       "    <tr>\n",
       "      <th>28</th>\n",
       "      <td>1</td>\n",
       "      <td>2</td>\n",
       "      <td>0</td>\n",
       "    </tr>\n",
       "    <tr>\n",
       "      <th>29</th>\n",
       "      <td>1</td>\n",
       "      <td>2</td>\n",
       "      <td>0</td>\n",
       "    </tr>\n",
       "    <tr>\n",
       "      <th>...</th>\n",
       "      <td>...</td>\n",
       "      <td>...</td>\n",
       "      <td>...</td>\n",
       "    </tr>\n",
       "    <tr>\n",
       "      <th>420</th>\n",
       "      <td>6</td>\n",
       "      <td>0</td>\n",
       "      <td>0</td>\n",
       "    </tr>\n",
       "    <tr>\n",
       "      <th>421</th>\n",
       "      <td>6</td>\n",
       "      <td>0</td>\n",
       "      <td>0</td>\n",
       "    </tr>\n",
       "    <tr>\n",
       "      <th>422</th>\n",
       "      <td>6</td>\n",
       "      <td>0</td>\n",
       "      <td>0</td>\n",
       "    </tr>\n",
       "    <tr>\n",
       "      <th>423</th>\n",
       "      <td>6</td>\n",
       "      <td>0</td>\n",
       "      <td>1</td>\n",
       "    </tr>\n",
       "    <tr>\n",
       "      <th>424</th>\n",
       "      <td>6</td>\n",
       "      <td>0</td>\n",
       "      <td>0</td>\n",
       "    </tr>\n",
       "    <tr>\n",
       "      <th>425</th>\n",
       "      <td>6</td>\n",
       "      <td>0</td>\n",
       "      <td>1</td>\n",
       "    </tr>\n",
       "    <tr>\n",
       "      <th>426</th>\n",
       "      <td>6</td>\n",
       "      <td>0</td>\n",
       "      <td>1</td>\n",
       "    </tr>\n",
       "    <tr>\n",
       "      <th>427</th>\n",
       "      <td>6</td>\n",
       "      <td>0</td>\n",
       "      <td>0</td>\n",
       "    </tr>\n",
       "    <tr>\n",
       "      <th>428</th>\n",
       "      <td>6</td>\n",
       "      <td>0</td>\n",
       "      <td>0</td>\n",
       "    </tr>\n",
       "    <tr>\n",
       "      <th>429</th>\n",
       "      <td>6</td>\n",
       "      <td>0</td>\n",
       "      <td>0</td>\n",
       "    </tr>\n",
       "    <tr>\n",
       "      <th>430</th>\n",
       "      <td>5</td>\n",
       "      <td>3</td>\n",
       "      <td>1</td>\n",
       "    </tr>\n",
       "    <tr>\n",
       "      <th>431</th>\n",
       "      <td>5</td>\n",
       "      <td>3</td>\n",
       "      <td>0</td>\n",
       "    </tr>\n",
       "    <tr>\n",
       "      <th>432</th>\n",
       "      <td>5</td>\n",
       "      <td>3</td>\n",
       "      <td>0</td>\n",
       "    </tr>\n",
       "    <tr>\n",
       "      <th>433</th>\n",
       "      <td>5</td>\n",
       "      <td>3</td>\n",
       "      <td>1</td>\n",
       "    </tr>\n",
       "    <tr>\n",
       "      <th>434</th>\n",
       "      <td>5</td>\n",
       "      <td>3</td>\n",
       "      <td>0</td>\n",
       "    </tr>\n",
       "    <tr>\n",
       "      <th>435</th>\n",
       "      <td>5</td>\n",
       "      <td>3</td>\n",
       "      <td>0</td>\n",
       "    </tr>\n",
       "    <tr>\n",
       "      <th>436</th>\n",
       "      <td>5</td>\n",
       "      <td>3</td>\n",
       "      <td>0</td>\n",
       "    </tr>\n",
       "    <tr>\n",
       "      <th>437</th>\n",
       "      <td>5</td>\n",
       "      <td>3</td>\n",
       "      <td>0</td>\n",
       "    </tr>\n",
       "    <tr>\n",
       "      <th>438</th>\n",
       "      <td>5</td>\n",
       "      <td>3</td>\n",
       "      <td>0</td>\n",
       "    </tr>\n",
       "    <tr>\n",
       "      <th>439</th>\n",
       "      <td>5</td>\n",
       "      <td>3</td>\n",
       "      <td>0</td>\n",
       "    </tr>\n",
       "    <tr>\n",
       "      <th>440</th>\n",
       "      <td>1</td>\n",
       "      <td>2</td>\n",
       "      <td>0</td>\n",
       "    </tr>\n",
       "    <tr>\n",
       "      <th>441</th>\n",
       "      <td>1</td>\n",
       "      <td>2</td>\n",
       "      <td>0</td>\n",
       "    </tr>\n",
       "    <tr>\n",
       "      <th>442</th>\n",
       "      <td>1</td>\n",
       "      <td>2</td>\n",
       "      <td>0</td>\n",
       "    </tr>\n",
       "    <tr>\n",
       "      <th>443</th>\n",
       "      <td>1</td>\n",
       "      <td>2</td>\n",
       "      <td>0</td>\n",
       "    </tr>\n",
       "    <tr>\n",
       "      <th>444</th>\n",
       "      <td>1</td>\n",
       "      <td>2</td>\n",
       "      <td>0</td>\n",
       "    </tr>\n",
       "    <tr>\n",
       "      <th>445</th>\n",
       "      <td>1</td>\n",
       "      <td>2</td>\n",
       "      <td>0</td>\n",
       "    </tr>\n",
       "    <tr>\n",
       "      <th>446</th>\n",
       "      <td>1</td>\n",
       "      <td>2</td>\n",
       "      <td>0</td>\n",
       "    </tr>\n",
       "    <tr>\n",
       "      <th>447</th>\n",
       "      <td>1</td>\n",
       "      <td>2</td>\n",
       "      <td>0</td>\n",
       "    </tr>\n",
       "    <tr>\n",
       "      <th>448</th>\n",
       "      <td>1</td>\n",
       "      <td>2</td>\n",
       "      <td>0</td>\n",
       "    </tr>\n",
       "    <tr>\n",
       "      <th>449</th>\n",
       "      <td>1</td>\n",
       "      <td>2</td>\n",
       "      <td>0</td>\n",
       "    </tr>\n",
       "  </tbody>\n",
       "</table>\n",
       "<p>450 rows × 3 columns</p>\n",
       "</div>"
      ],
      "text/plain": [
       "     content  motion  Constant_bitrate\n",
       "0          1       2                 1\n",
       "1          1       2                 0\n",
       "2          1       2                 0\n",
       "3          1       2                 0\n",
       "4          1       2                 0\n",
       "5          1       2                 0\n",
       "6          1       2                 0\n",
       "7          1       2                 0\n",
       "8          1       2                 0\n",
       "9          1       2                 0\n",
       "10         1       2                 0\n",
       "11         1       2                 0\n",
       "12         1       2                 0\n",
       "13         1       2                 0\n",
       "14         1       2                 1\n",
       "15         1       2                 0\n",
       "16         1       2                 0\n",
       "17         1       2                 1\n",
       "18         1       2                 0\n",
       "19         1       2                 0\n",
       "20         1       2                 0\n",
       "21         1       2                 0\n",
       "22         1       2                 0\n",
       "23         1       2                 0\n",
       "24         1       2                 0\n",
       "25         1       2                 0\n",
       "26         1       2                 0\n",
       "27         1       2                 0\n",
       "28         1       2                 0\n",
       "29         1       2                 0\n",
       "..       ...     ...               ...\n",
       "420        6       0                 0\n",
       "421        6       0                 0\n",
       "422        6       0                 0\n",
       "423        6       0                 1\n",
       "424        6       0                 0\n",
       "425        6       0                 1\n",
       "426        6       0                 1\n",
       "427        6       0                 0\n",
       "428        6       0                 0\n",
       "429        6       0                 0\n",
       "430        5       3                 1\n",
       "431        5       3                 0\n",
       "432        5       3                 0\n",
       "433        5       3                 1\n",
       "434        5       3                 0\n",
       "435        5       3                 0\n",
       "436        5       3                 0\n",
       "437        5       3                 0\n",
       "438        5       3                 0\n",
       "439        5       3                 0\n",
       "440        1       2                 0\n",
       "441        1       2                 0\n",
       "442        1       2                 0\n",
       "443        1       2                 0\n",
       "444        1       2                 0\n",
       "445        1       2                 0\n",
       "446        1       2                 0\n",
       "447        1       2                 0\n",
       "448        1       2                 0\n",
       "449        1       2                 0\n",
       "\n",
       "[450 rows x 3 columns]"
      ]
     },
     "execution_count": 146,
     "metadata": {},
     "output_type": "execute_result"
    }
   ],
   "source": [
    "categorical_subset"
   ]
  },
  {
   "cell_type": "code",
   "execution_count": 147,
   "metadata": {},
   "outputs": [],
   "source": [
    "features = pd.concat([numerical_subset, categorical_subset], axis = 1)\n",
    "targets = mos"
   ]
  },
  {
   "cell_type": "markdown",
   "metadata": {},
   "source": [
    "## Stratification\n",
    "It is common practise in classification tasks.\n",
    "But very uncommon in regression\n",
    "\n",
    "Here you can fing a great papar [about it](https://scottclowe.com/2016-03-19-stratified-regression-partitions/) "
   ]
  },
  {
   "cell_type": "code",
   "execution_count": 148,
   "metadata": {},
   "outputs": [],
   "source": [
    "columns_save = features.columns"
   ]
  },
  {
   "cell_type": "code",
   "execution_count": 149,
   "metadata": {},
   "outputs": [],
   "source": [
    "import random\n",
    "index_test =[]\n",
    "index_val= []\n",
    "for i in range(45):\n",
    "    #random.seed(42) \n",
    "    a = random.randint(10*i, 9 + 10*i)\n",
    "    index_test.append (a)\n",
    "    #random.seed(24) \n",
    "    while (a != 0):\n",
    "        b = random.randint(10*i, 9 + 10*i)\n",
    "        if (a!=b):\n",
    "            a = 0\n",
    "            index_val.append (b)"
   ]
  },
  {
   "cell_type": "code",
   "execution_count": 150,
   "metadata": {},
   "outputs": [
    {
     "name": "stdout",
     "output_type": "stream",
     "text": [
      "[6, 17, 29, 39, 41, 59, 60, 78, 85, 94, 106, 111, 122, 130, 144, 151, 169, 176, 189, 198, 207, 213, 220, 234, 243, 253, 261, 271, 289, 296, 303, 319, 321, 330, 345, 357, 365, 371, 386, 396, 406, 415, 426, 438, 445]\n",
      "[9, 14, 20, 30, 48, 58, 66, 70, 81, 99, 108, 112, 121, 133, 146, 156, 165, 172, 188, 194, 205, 217, 222, 235, 246, 258, 267, 278, 282, 292, 308, 313, 320, 336, 348, 352, 364, 379, 387, 391, 403, 412, 425, 439, 449]\n"
     ]
    },
    {
     "data": {
      "text/plain": [
       "45"
      ]
     },
     "execution_count": 150,
     "metadata": {},
     "output_type": "execute_result"
    }
   ],
   "source": [
    "print (index_test)\n",
    "print(index_val)\n",
    "len(index_val)"
   ]
  },
  {
   "cell_type": "code",
   "execution_count": 151,
   "metadata": {},
   "outputs": [],
   "source": [
    "k=10 #Number of folds\n",
    "n = 45#450/k\n",
    "k_folds = np.zeros((k,n))\n",
    "#Sorted by MOS\n",
    "sorted_features = pd.concat([features, targets], axis = 1)\n",
    "sorted_features = sorted_features.sort_values(['MOS'])\n",
    "sorted_features.set_index(np.arange(450) )\n",
    "\n",
    "val = sorted_features.iloc [index_val]\n",
    "\n",
    "targets = pd.DataFrame(sorted_features[\"MOS\"])\n",
    "sorted_features = sorted_features.drop ([\"MOS\"], axis = 1)\n",
    "\n",
    "X = sorted_features.drop(index_test)\n",
    "X = X.drop(index_val)\n",
    "X_test = sorted_features.iloc [index_test]\n",
    "X_val = sorted_features.iloc [index_val]\n",
    "\n",
    "train_labels = targets.drop(index_test)\n",
    "train_labels = train_labels.drop(index_val)\n",
    "test_labels = targets.iloc [index_test]\n",
    "val_labels = targets.iloc [index_val]"
   ]
  },
  {
   "cell_type": "code",
   "execution_count": 152,
   "metadata": {},
   "outputs": [
    {
     "name": "stdout",
     "output_type": "stream",
     "text": [
      "(360, 27)\n",
      "(45, 27)\n",
      "(45, 27)\n",
      "(360, 1)\n",
      "(45, 1)\n",
      "(45, 1)\n"
     ]
    }
   ],
   "source": [
    "print(X.shape)\n",
    "print(X_test.shape)\n",
    "print(X_val.shape)\n",
    "print(train_labels.shape)\n",
    "print(test_labels.shape)\n",
    "print(val_labels.shape)"
   ]
  },
  {
   "cell_type": "code",
   "execution_count": 153,
   "metadata": {},
   "outputs": [],
   "source": [
    "X_with_cols = pd.DataFrame(X, columns = columns_save)"
   ]
  },
  {
   "cell_type": "markdown",
   "metadata": {},
   "source": [
    "## Models to Evaluate\n",
    "\n",
    "We will compare five different machine learning models using the great [Scikit-Learn library](http://scikit-learn.org/stable/):\n",
    "\n",
    "1. Linear Regression\n",
    "2. Support Vector Machine Regression\n",
    "3. Random Forest Regression\n",
    "4. Gradient Boosting Regression\n",
    "5. K-Nearest Neighbors Regression\n",
    "\n",
    "Again, here I'm focusing on implementation rather than explaining how these work. In addition to Hands-On Machine Learning, another great resource (this one is free online) for reading about machine learning models is [An Introduction to Statistical Learning](http://www-bcf.usc.edu/~gareth/ISL/).\n",
    "\n",
    "To compare the models, we are going to be mostly using the Scikit-Learn defaults for the model hyperparameters. Generally these will perform decently, but should be optimized before actually using a model. At first, we just want to determine the baseline performance of each model, and then we can select the best performing model for further optimization using hyperparameter tuning. Remember that the default hyperparameters will get a model up and running, but nearly always should be adjusted using some sort of search to find the best settings for your problem! \n",
    "\n",
    "Here is what the Scikit-learn documentation [says about the defaults](https://arxiv.org/abs/1309.0238):\n",
    "\n",
    "    __Sensible defaults__: Whenever an operation requires a user-defined parameter,\n",
    "    an appropriate default value is defined by the library. The default value\n",
    "    should cause the operation to be performed in a sensible way (giving a baseline\n",
    "    solution for the task at hand.)\n",
    "\n",
    "One of the best parts about scikit-learn is that all models are implemented in an identical manner: once you know how to build one, you can implement an extremely diverse array of models. Here we will implement the entire training and testing procedures for a number of models in just a few lines of code."
   ]
  },
  {
   "cell_type": "code",
   "execution_count": 154,
   "metadata": {},
   "outputs": [],
   "source": [
    "# Function to calculate mean absolute error\n",
    "def mae(y_true, y_pred):\n",
    "    return np.mean(abs(y_true - y_pred))"
   ]
  },
  {
   "cell_type": "code",
   "execution_count": 155,
   "metadata": {},
   "outputs": [
    {
     "name": "stdout",
     "output_type": "stream",
     "text": [
      "The baseline guess is a score of 62.14\n",
      "Baseline Performance on the test set: MAE = 11.7645\n"
     ]
    }
   ],
   "source": [
    "baseline_guess = np.median(train_labels)\n",
    "\n",
    "print('The baseline guess is a score of %0.2f' % baseline_guess)\n",
    "print(\"Baseline Performance on the test set: MAE = %0.4f\" % mae(test_labels, baseline_guess))"
   ]
  },
  {
   "cell_type": "code",
   "execution_count": 156,
   "metadata": {},
   "outputs": [],
   "source": [
    "# Imputing missing values and scaling values\n",
    "from sklearn.preprocessing import MinMaxScaler\n",
    "\n",
    "# Machine Learning Models\n",
    "from sklearn.linear_model import LinearRegression\n",
    "from sklearn.ensemble import RandomForestRegressor, GradientBoostingRegressor\n",
    "from sklearn.svm import SVR\n",
    "from sklearn.neighbors import KNeighborsRegressor\n",
    "\n",
    "# Hyperparameter tuning\n",
    "from sklearn.model_selection import RandomizedSearchCV, GridSearchCV"
   ]
  },
  {
   "cell_type": "markdown",
   "metadata": {},
   "source": [
    "## Scaling Features"
   ]
  },
  {
   "cell_type": "code",
   "execution_count": 157,
   "metadata": {},
   "outputs": [],
   "source": [
    "# Convert y to one-dimensional array (vector)\n",
    "y = np.array(train_labels).reshape((-1, ))\n",
    "y_test = np.array(test_labels).reshape((-1, ))\n",
    "y_val = np.array(val_labels).reshape((-1, ))"
   ]
  },
  {
   "cell_type": "code",
   "execution_count": 158,
   "metadata": {},
   "outputs": [],
   "source": [
    "# Function to calculate mean absolute error\n",
    "#def mae(y_true, y_pred):\n",
    "    #return np.mean(abs(y_true - y_pred))\n",
    "    \n",
    "def mae(y_true, y_val, y_pred, y_pred_val):    \n",
    "    return np.mean(abs(y_true - y_pred)), np.mean(abs(y_val - y_pred_val))\n",
    "\n",
    "# Takes in a model, trains the model, and evaluates the model on the test set\n",
    "def fit_and_evaluate(model):\n",
    "    \n",
    "    # Train the model\n",
    "    model.fit(X, y)\n",
    "    \n",
    "    # Make predictions and evalute\n",
    "    model_pred = model.predict(X_test)\n",
    "    \n",
    "    y_pred_val = model.predict(X_val)\n",
    "    #model_mae = mae(y_test, model_pred)\n",
    "    model_mae = mae(y_test, y_val, model_pred, y_pred_val)\n",
    "    \n",
    "    corr = spearmanr(test_labels, model_pred)\n",
    "    \n",
    "    print (round(corr[0],4), corr[1])\n",
    "    \n",
    "    # Return the performance metric\n",
    "    return model_mae, corr[0]"
   ]
  },
  {
   "cell_type": "code",
   "execution_count": 159,
   "metadata": {},
   "outputs": [
    {
     "name": "stdout",
     "output_type": "stream",
     "text": [
      "0.8354 9.505948705404372e-13\n",
      "Linear Regression Performance: MAE test = 6.3824, MAE val = 6.2321\n"
     ]
    }
   ],
   "source": [
    "lr = LinearRegression()\n",
    "lr_mae, corr_lr = fit_and_evaluate(lr)\n",
    "\n",
    "print('Linear Regression Performance: MAE test = %0.4f, MAE val = %0.4f' % lr_mae)"
   ]
  },
  {
   "cell_type": "code",
   "execution_count": 160,
   "metadata": {},
   "outputs": [
    {
     "name": "stdout",
     "output_type": "stream",
     "text": [
      "0.8915 2.1867413873998924e-16\n",
      "Support Vector Machine Regression Performance: MAE test = 2.2389, MAE val = 1.5485\n"
     ]
    }
   ],
   "source": [
    "svm = SVR(C = 1000, gamma = 0.1)\n",
    "svm_mae, corr_svm = fit_and_evaluate(svm)\n",
    "\n",
    "print('Support Vector Machine Regression Performance: MAE test = %0.4f, MAE val = %0.4f' % svm_mae)"
   ]
  },
  {
   "cell_type": "code",
   "execution_count": 161,
   "metadata": {},
   "outputs": [
    {
     "name": "stdout",
     "output_type": "stream",
     "text": [
      "0.9486 4.133626105725923e-23\n",
      "Random Forest Regression Performance: MAE test = 3.2447, MAE val = 2.7804\n"
     ]
    },
    {
     "name": "stderr",
     "output_type": "stream",
     "text": [
      "/home/wtl-server-1/anaconda3/lib/python3.7/site-packages/sklearn/ensemble/forest.py:246: FutureWarning: The default value of n_estimators will change from 10 in version 0.20 to 100 in 0.22.\n",
      "  \"10 in version 0.20 to 100 in 0.22.\", FutureWarning)\n"
     ]
    }
   ],
   "source": [
    "random_forest = RandomForestRegressor(random_state=42)\n",
    "random_forest_mae, corr_random_forest = fit_and_evaluate(random_forest)\n",
    "\n",
    "print('Random Forest Regression Performance: MAE test = %0.4f, MAE val = %0.4f' % random_forest_mae)"
   ]
  },
  {
   "cell_type": "code",
   "execution_count": 162,
   "metadata": {},
   "outputs": [
    {
     "name": "stdout",
     "output_type": "stream",
     "text": [
      "0.9536 4.79616463115065e-24\n",
      "Gradient Boosted Regression Performance: MAE test = 2.8895, MAE val = 2.7778\n"
     ]
    }
   ],
   "source": [
    "gradient_boosted = GradientBoostingRegressor(random_state=42)\n",
    "gradient_boosted_mae, corr_gradient_boosted = fit_and_evaluate(gradient_boosted)\n",
    "print('Gradient Boosted Regression Performance: MAE test = %0.4f, MAE val = %0.4f' % gradient_boosted_mae)"
   ]
  },
  {
   "cell_type": "code",
   "execution_count": 163,
   "metadata": {},
   "outputs": [
    {
     "name": "stdout",
     "output_type": "stream",
     "text": [
      "0.8143 1.0160905643340075e-11\n",
      "K-Nearest Neighbors Regression Performance: MAE test = 6.6739, MAE val = 8.5785\n"
     ]
    }
   ],
   "source": [
    "knn = KNeighborsRegressor(n_neighbors=10)\n",
    "knn_mae, corr_knn = fit_and_evaluate(knn)\n",
    "\n",
    "print('K-Nearest Neighbors Regression Performance: MAE test = %0.4f, MAE val = %0.4f' % knn_mae)"
   ]
  },
  {
   "cell_type": "code",
   "execution_count": null,
   "metadata": {},
   "outputs": [],
   "source": []
  },
  {
   "cell_type": "markdown",
   "metadata": {},
   "source": [
    "## MOS values updating \n",
    "\n",
    "There are a hypothesis that QoE function has a sigmoid nature, like this:"
   ]
  },
  {
   "cell_type": "code",
   "execution_count": 164,
   "metadata": {},
   "outputs": [
    {
     "data": {
      "image/png": "[encoded data removed]",
      "text/plain": [
       "<Figure size 432x288 with 1 Axes>"
      ]
     },
     "metadata": {
      "needs_background": "light"
     },
     "output_type": "display_data"
    }
   ],
   "source": [
    "#Sigmoid hypothesis\n",
    "x = np.arange(-200, 200, 4).tolist()\n",
    "y = []\n",
    "\n",
    "b1 = 100 #Scaling factor, constant\n",
    "b2 = -0.03 #КSlope factor, also can be included in the weights in integral value V\n",
    "b3 = 200 #Offset along the Ox axis, entered into X itself. \n",
    "#x = summ (w.i * xi) - there is some kind of polynomial. b3 - the constant term\n",
    "#sigma = b1/(b2 + b3*exp(-x))\n",
    "def sigma(x):\n",
    "    sigma = 100/(1 + math.exp(b2*(x)))\n",
    "   \n",
    "    return sigma\n",
    "\n",
    "y= list (map(lambda x : sigma(x), x))\n",
    "\n",
    "fig, ax = plt.subplots()\n",
    "ax.plot(x, y, '+', linestyle='solid')\n",
    "\n",
    "plt.xlabel('Integral Value', size = 22);\n",
    "plt.ylabel('QoE', size = 22);\n"
   ]
  },
  {
   "cell_type": "markdown",
   "metadata": {},
   "source": [
    "## But we will see next that it can also be like this: "
   ]
  },
  {
   "cell_type": "code",
   "execution_count": 165,
   "metadata": {},
   "outputs": [
    {
     "data": {
      "image/png": "[encoded data removed]",
      "text/plain": [
       "<Figure size 432x288 with 1 Axes>"
      ]
     },
     "metadata": {
      "needs_background": "light"
     },
     "output_type": "display_data"
    }
   ],
   "source": [
    "##Logarithmic hypothesis\n",
    "x = np.arange(-200, 200, 4).tolist()\n",
    "y = []\n",
    "\n",
    "b1 = 100 \n",
    "b2 = -0.03 \n",
    "b3 = 1 \n",
    "def sigma(x):\n",
    "    sigma = -b1/(1 + math.exp(b2*(-x-b3))) + 100\n",
    "   \n",
    "    return sigma\n",
    "\n",
    "y = list (map(lambda x : sigma(x), x))\n",
    "\n",
    "fig, ax = plt.subplots()\n",
    "ax.plot(y, x, 'b+', linestyle='solid')\n",
    "plt.xlabel('Integral Value', size = 22);\n",
    "plt.ylabel('QoE', size = 22);\n",
    "plt.show()"
   ]
  },
  {
   "cell_type": "code",
   "execution_count": 166,
   "metadata": {},
   "outputs": [],
   "source": [
    "features = pd.concat([numerical_subset, categorical_subset], axis = 1)\n",
    "targets = mos"
   ]
  },
  {
   "cell_type": "code",
   "execution_count": 169,
   "metadata": {},
   "outputs": [
    {
     "ename": "ValueError",
     "evalue": "math domain error",
     "output_type": "error",
     "traceback": [
      "\u001b[0;31m---------------------------------------------------------------------------\u001b[0m",
      "\u001b[0;31mValueError\u001b[0m                                Traceback (most recent call last)",
      "\u001b[0;32m<ipython-input-169-43219d458f6e>\u001b[0m in \u001b[0;36m<module>\u001b[0;34m\u001b[0m\n\u001b[1;32m     15\u001b[0m     \u001b[0;31m#targets.at[index, 'MOS'] = value\u001b[0m\u001b[0;34m\u001b[0m\u001b[0;34m\u001b[0m\u001b[0;34m\u001b[0m\u001b[0m\n\u001b[1;32m     16\u001b[0m \u001b[0;34m\u001b[0m\u001b[0m\n\u001b[0;32m---> 17\u001b[0;31m     \u001b[0mvalue\u001b[0m \u001b[0;34m=\u001b[0m \u001b[0mtransmutation\u001b[0m\u001b[0;34m(\u001b[0m\u001b[0mtargets\u001b[0m\u001b[0;34m[\u001b[0m\u001b[0mi\u001b[0m\u001b[0;34m]\u001b[0m\u001b[0;34m)\u001b[0m\u001b[0;34m\u001b[0m\u001b[0;34m\u001b[0m\u001b[0m\n\u001b[0m\u001b[1;32m     18\u001b[0m     \u001b[0mtargets\u001b[0m\u001b[0;34m[\u001b[0m\u001b[0mi\u001b[0m\u001b[0;34m]\u001b[0m \u001b[0;34m=\u001b[0m \u001b[0mvalue\u001b[0m\u001b[0;34m\u001b[0m\u001b[0;34m\u001b[0m\u001b[0m\n",
      "\u001b[0;32m<ipython-input-169-43219d458f6e>\u001b[0m in \u001b[0;36mtransmutation\u001b[0;34m(mos)\u001b[0m\n\u001b[1;32m      1\u001b[0m \u001b[0;32mdef\u001b[0m \u001b[0mtransmutation\u001b[0m\u001b[0;34m(\u001b[0m\u001b[0mmos\u001b[0m\u001b[0;34m)\u001b[0m\u001b[0;34m:\u001b[0m\u001b[0;34m\u001b[0m\u001b[0;34m\u001b[0m\u001b[0m\n\u001b[0;32m----> 2\u001b[0;31m     \u001b[0;32mreturn\u001b[0m \u001b[0mmath\u001b[0m\u001b[0;34m.\u001b[0m\u001b[0mlog\u001b[0m\u001b[0;34m(\u001b[0m\u001b[0mmos\u001b[0m\u001b[0;34m/\u001b[0m\u001b[0;34m(\u001b[0m\u001b[0;36m100\u001b[0m\u001b[0;34m-\u001b[0m\u001b[0mmos\u001b[0m\u001b[0;34m)\u001b[0m\u001b[0;34m)\u001b[0m\u001b[0;34m\u001b[0m\u001b[0;34m\u001b[0m\u001b[0m\n\u001b[0m\u001b[1;32m      3\u001b[0m \u001b[0;34m\u001b[0m\u001b[0m\n\u001b[1;32m      4\u001b[0m \u001b[0;31m#I also have some ideas that QoE has a logarifmic nature\u001b[0m\u001b[0;34m\u001b[0m\u001b[0;34m\u001b[0m\u001b[0;34m\u001b[0m\u001b[0m\n\u001b[1;32m      5\u001b[0m \u001b[0;32mdef\u001b[0m \u001b[0mtransmutation2\u001b[0m\u001b[0;34m(\u001b[0m\u001b[0mmos\u001b[0m\u001b[0;34m)\u001b[0m\u001b[0;34m:\u001b[0m\u001b[0;34m\u001b[0m\u001b[0;34m\u001b[0m\u001b[0m\n",
      "\u001b[0;31mValueError\u001b[0m: math domain error"
     ]
    }
   ],
   "source": [
    "def transmutation(mos):\n",
    "    return math.log(mos/(100-mos))\n",
    "\n",
    "#I also have some ideas that QoE has a logarifmic nature\n",
    "def transmutation2(mos):\n",
    "    #return 1/(1+math.exp((12/100)*(50-mos)))\n",
    "    return 1/(1+math.exp((0.08)*(50-mos)))\n",
    "    #return 100/(1+math.exp((0.1)*(40-mos)))\n",
    "\n",
    "#for index, row in targets.iterrows():\n",
    "for i in range(len(targets)):\n",
    "    \n",
    "    #value = transmutation(row['MOS'])\n",
    "    #print (value)\n",
    "    #targets.at[index, 'MOS'] = value\n",
    "    \n",
    "    value = transmutation(targets[i])\n",
    "    targets[i] = value"
   ]
  },
  {
   "cell_type": "code",
   "execution_count": 170,
   "metadata": {},
   "outputs": [],
   "source": [
    "k=10\n",
    "n = 45#450/k\n",
    "k_folds = np.zeros((k,n))\n",
    "\n",
    "sorted_features = pd.concat([features, targets], axis = 1)\n",
    "sorted_features = sorted_features.sort_values(['MOS'])\n",
    "sorted_features.set_index(np.arange(450) )\n",
    "\n",
    "val = sorted_features.iloc [index_val]\n",
    "\n",
    "targets = pd.DataFrame(sorted_features[\"MOS\"])\n",
    "sorted_features = sorted_features.drop ([\"MOS\"], axis = 1)\n",
    "\n",
    "X = sorted_features.drop(index_test)\n",
    "X = X.drop(index_val)\n",
    "X_test = sorted_features.iloc [index_test]\n",
    "X_val = sorted_features.iloc [index_val]\n",
    "\n",
    "train_labels = targets.drop(index_test)\n",
    "train_labels = train_labels.drop(index_val)\n",
    "test_labels = targets.iloc [index_test]\n",
    "val_labels = targets.iloc [index_val]"
   ]
  },
  {
   "cell_type": "code",
   "execution_count": 171,
   "metadata": {},
   "outputs": [],
   "source": [
    "X_with_cols = pd.DataFrame(X, columns = columns_save)"
   ]
  },
  {
   "cell_type": "markdown",
   "metadata": {},
   "source": [
    "## Scaling Features"
   ]
  },
  {
   "cell_type": "code",
   "execution_count": 172,
   "metadata": {},
   "outputs": [],
   "source": [
    "# Convert y to one-dimensional array (vector)\n",
    "y = np.array(train_labels).reshape((-1, ))\n",
    "y_test = np.array(test_labels).reshape((-1, ))\n",
    "y_val = np.array(val_labels).reshape((-1, ))"
   ]
  },
  {
   "cell_type": "code",
   "execution_count": 173,
   "metadata": {},
   "outputs": [
    {
     "name": "stdout",
     "output_type": "stream",
     "text": [
      "0.6333 3.0239665639042027e-06\n",
      "Linear Regression Performance: MAE test = 23.4028, MAE val = 23.9936\n"
     ]
    }
   ],
   "source": [
    "lr = LinearRegression()\n",
    "lr_maea, corr_lr_t = fit_and_evaluate(lr)\n",
    "\n",
    "print('Linear Regression Performance: MAE test = %0.4f, MAE val = %0.4f' % lr_maea)"
   ]
  },
  {
   "cell_type": "code",
   "execution_count": 174,
   "metadata": {},
   "outputs": [
    {
     "name": "stdout",
     "output_type": "stream",
     "text": [
      "0.8386 6.457157452157539e-13\n",
      "Support Vector Machine Regression Performance: MAE test = 6.9461, MAE val = 6.8419\n"
     ]
    }
   ],
   "source": [
    "svm = SVR(C = 1000, gamma = 0.1)\n",
    "svm_maea, corr_svm_t = fit_and_evaluate(svm)\n",
    "\n",
    "print('Support Vector Machine Regression Performance: MAE test = %0.4f, MAE val = %0.4f' % svm_maea)"
   ]
  },
  {
   "cell_type": "code",
   "execution_count": 175,
   "metadata": {},
   "outputs": [
    {
     "name": "stdout",
     "output_type": "stream",
     "text": [
      "0.9831 2.3047710230508647e-33\n",
      "Random Forest Regression Performance: MAE test = 2.3106, MAE val = 2.9113\n"
     ]
    },
    {
     "name": "stderr",
     "output_type": "stream",
     "text": [
      "/home/wtl-server-1/anaconda3/lib/python3.7/site-packages/sklearn/ensemble/forest.py:246: FutureWarning: The default value of n_estimators will change from 10 in version 0.20 to 100 in 0.22.\n",
      "  \"10 in version 0.20 to 100 in 0.22.\", FutureWarning)\n"
     ]
    }
   ],
   "source": [
    "random_forest = RandomForestRegressor(random_state=42)\n",
    "random_forest_maea, corr_random_forest_t = fit_and_evaluate(random_forest)\n",
    "\n",
    "print('Random Forest Regression Performance: MAE test = %0.4f, MAE val = %0.4f' % random_forest_maea)"
   ]
  },
  {
   "cell_type": "code",
   "execution_count": 176,
   "metadata": {},
   "outputs": [
    {
     "name": "stdout",
     "output_type": "stream",
     "text": [
      "0.9569 1.0169690121878757e-24\n",
      "Gradient Boosted Regression Performance: MAE test = 3.7365, MAE val = 3.4426\n"
     ]
    }
   ],
   "source": [
    "gradient_boosted = GradientBoostingRegressor(random_state=42)\n",
    "gradient_boosted_maea, corr_gradient_boosted_t = fit_and_evaluate(gradient_boosted)\n",
    "print('Gradient Boosted Regression Performance: MAE test = %0.4f, MAE val = %0.4f' % gradient_boosted_maea)"
   ]
  },
  {
   "cell_type": "code",
   "execution_count": 177,
   "metadata": {},
   "outputs": [
    {
     "name": "stdout",
     "output_type": "stream",
     "text": [
      "0.4249 0.0036174996851721683\n",
      "K-Nearest Neighbors Regression Performance: MAE test = 27.5381, MAE val = 27.1129\n"
     ]
    }
   ],
   "source": [
    "knn = KNeighborsRegressor(n_neighbors=10)\n",
    "knn_maea, corr_knn_t = fit_and_evaluate(knn)\n",
    "\n",
    "print('K-Nearest Neighbors Regression Performance: MAE test = %0.4f, MAE val = %0.4f' % knn_maea)"
   ]
  },
  {
   "cell_type": "code",
   "execution_count": 178,
   "metadata": {},
   "outputs": [
    {
     "data": {
      "image/png": "[encoded data removed]",
      "text/plain": [
       "<Figure size 432x288 with 1 Axes>"
      ]
     },
     "metadata": {
      "needs_background": "light"
     },
     "output_type": "display_data"
    }
   ],
   "source": [
    "corr = [corr_lr, corr_svm, corr_random_forest, \n",
    "                                         corr_gradient_boosted, corr_knn]\n",
    "\n",
    "corr_t = [corr_lr_t, corr_svm_t, corr_random_forest_t, \n",
    "                                         corr_gradient_boosted_t, corr_knn_t]\n",
    "\n",
    "index = ['Linear Regression', 'Support Vector Machine',\n",
    "                                           'Random Forest', 'Gradient Boosted',\n",
    "                                            'K-Nearest Neighbors']\n",
    "df = pd.DataFrame({'SRCC': corr, 'SRCC + MOS transform': corr_t}, index=index)\n",
    "df=df.sort_values('SRCC + MOS transform', ascending = False)\n",
    "ax = df.plot.barh()"
   ]
  },
  {
   "cell_type": "code",
   "execution_count": 179,
   "metadata": {},
   "outputs": [
    {
     "data": {
      "image/png": "[encoded data removed]",
      "text/plain": [
       "<Figure size 432x288 with 1 Axes>"
      ]
     },
     "metadata": {
      "needs_background": "light"
     },
     "output_type": "display_data"
    }
   ],
   "source": [
    "mae = [lr_mae[0], svm_mae[0], random_forest_mae[0], \n",
    "                                         gradient_boosted_mae[0], knn_mae[0]]\n",
    "\n",
    "maes = [lr_maea[0], svm_maea[0], random_forest_maea[0], \n",
    "                                         gradient_boosted_maea[0], knn_maea[0]]\n",
    "\n",
    "index = ['Linear Regression', 'Support Vector Machine',\n",
    "                                           'Random Forest', 'Gradient Boosted',\n",
    "                                            'K-Nearest Neighbors']\n",
    "df = pd.DataFrame({'MAE': mae, 'MAE + MOS transform': maes}, index=index)\n",
    "df=df.sort_values('MAE + MOS transform', ascending = False)\n",
    "ax = df.plot.barh()"
   ]
  },
  {
   "cell_type": "markdown",
   "metadata": {},
   "source": [
    "### MOS transmutation\n",
    "So, we have some increase in terms of MAE and also we have some simplification of models in terms of a number of estimators"
   ]
  },
  {
   "cell_type": "code",
   "execution_count": 180,
   "metadata": {},
   "outputs": [],
   "source": [
    "# Loss function to be optimized\n",
    "loss = ['ls', 'lad', 'huber']\n",
    "\n",
    "# Number of trees used in the boosting process\n",
    "n_estimators = [80, 85, 90, 95, 100, 110, 120, 130, 140, 150, 160,\n",
    "                170, 180, 190, 200, 210, 220, 230, 240, 250, 260, 270, \n",
    "                280, 290, 300, 310, 320, 330, 340, 350, 360, 370, 380, 390, 400, 410]\n",
    "\n",
    "# Maximum depth of each tree\n",
    "max_depth = [3, 4, 5, 6, 7]\n",
    "\n",
    "# Minimum number of samples per leaf\n",
    "min_samples_leaf = [3, 4, 5, 6]\n",
    "\n",
    "# Minimum number of samples to split a node\n",
    "min_samples_split = [8, 9, 10, 11, 12, 13, 14]\n",
    "\n",
    "# Maximum number of features to consider for making splits\n",
    "max_features = ['auto', 'sqrt', 'log2', None]\n",
    "\n",
    "#Регяляризация\n",
    "penalty=['l2', 'l1']\n",
    "\n",
    "#Параметр регуляризации\n",
    "alpha = np.linspace(0.0001, 0.01, num = 100)\n",
    "\n",
    "# Define the grid of hyperparameters to search\n",
    "hyperparameter_grid = {'loss': loss,\n",
    "                       'n_estimators': n_estimators,\n",
    "                       'max_depth': max_depth,\n",
    "                       'min_samples_leaf': min_samples_leaf,\n",
    "                       'min_samples_split': min_samples_split,\n",
    "                       'max_features': max_features}"
   ]
  },
  {
   "cell_type": "code",
   "execution_count": 183,
   "metadata": {},
   "outputs": [],
   "source": [
    "# Create the model to use for hyperparameter tuning\n",
    "model = GradientBoostingRegressor(random_state = 42)\n",
    "\n",
    "#scoring_list = [\"explained_variance\",'neg_mean_absolute_error' ]\n",
    "from sklearn.model_selection import ShuffleSplit\n",
    "#from sklearn.model_selection import cross_validate\n",
    "\n",
    "#n_splits=5, test_size=.25, random_state=0\n",
    "#cv = cross_decomposition.ShuffleSplit(train_labels, n_splits = 20, test_size=0.2, random_state=42)\n",
    "rs = ShuffleSplit(n_splits=5, test_size=.20, random_state=42)\n",
    "cv = rs.split(train_labels)\n",
    "# Set up the random search with CV-fold cross validation\n",
    "'''\n",
    "random_cv = RandomizedSearchCV(estimator=model,\n",
    "                               param_distributions=hyperparameter_grid,\n",
    "                               cv=cv, n_iter=5000, \n",
    "                               scoring = \"neg_mean_absolute_error\",\n",
    "                               n_jobs = -1, verbose = 1, \n",
    "                               return_train_score = True,\n",
    "                               random_state=42)\n",
    "                               # refit = False)\n",
    "                               \n",
    "'''                             \n",
    "\n",
    "#Full search    \n",
    "random_cv = GridSearchCV(estimator=model,\n",
    "                               param_grid=hyperparameter_grid,\n",
    "                               cv=cv, \n",
    "                               scoring = \"neg_mean_absolute_error\",\n",
    "                               n_jobs = -1, verbose = 1, \n",
    "                               return_train_score = True)\n",
    "                               # refit = False)        "
   ]
  },
  {
   "cell_type": "code",
   "execution_count": 184,
   "metadata": {},
   "outputs": [
    {
     "name": "stdout",
     "output_type": "stream",
     "text": [
      "Fitting 5 folds for each of 60480 candidates, totalling 302400 fits\n"
     ]
    },
    {
     "name": "stderr",
     "output_type": "stream",
     "text": [
      "[Parallel(n_jobs=-1)]: Using backend LokyBackend with 64 concurrent workers.\n",
      "[Parallel(n_jobs=-1)]: Done  72 tasks      | elapsed:    2.3s\n",
      "[Parallel(n_jobs=-1)]: Done 322 tasks      | elapsed:    3.3s\n",
      "[Parallel(n_jobs=-1)]: Done 672 tasks      | elapsed:    4.5s\n",
      "[Parallel(n_jobs=-1)]: Done 1122 tasks      | elapsed:    5.8s\n",
      "[Parallel(n_jobs=-1)]: Done 1672 tasks      | elapsed:    7.8s\n",
      "[Parallel(n_jobs=-1)]: Done 2322 tasks      | elapsed:    9.8s\n",
      "[Parallel(n_jobs=-1)]: Done 3072 tasks      | elapsed:   12.2s\n",
      "[Parallel(n_jobs=-1)]: Done 3922 tasks      | elapsed:   15.0s\n",
      "[Parallel(n_jobs=-1)]: Done 4872 tasks      | elapsed:   17.9s\n",
      "[Parallel(n_jobs=-1)]: Done 5922 tasks      | elapsed:   20.9s\n",
      "[Parallel(n_jobs=-1)]: Done 7072 tasks      | elapsed:   24.1s\n",
      "[Parallel(n_jobs=-1)]: Done 8322 tasks      | elapsed:   27.5s\n",
      "[Parallel(n_jobs=-1)]: Done 9672 tasks      | elapsed:   31.1s\n",
      "[Parallel(n_jobs=-1)]: Done 11122 tasks      | elapsed:   34.8s\n",
      "[Parallel(n_jobs=-1)]: Done 12672 tasks      | elapsed:   39.0s\n",
      "[Parallel(n_jobs=-1)]: Done 14322 tasks      | elapsed:   43.1s\n",
      "[Parallel(n_jobs=-1)]: Done 16072 tasks      | elapsed:   48.2s\n",
      "[Parallel(n_jobs=-1)]: Done 17922 tasks      | elapsed:   54.1s\n",
      "[Parallel(n_jobs=-1)]: Done 19872 tasks      | elapsed:  1.0min\n",
      "[Parallel(n_jobs=-1)]: Done 21922 tasks      | elapsed:  1.1min\n",
      "[Parallel(n_jobs=-1)]: Done 24072 tasks      | elapsed:  1.3min\n",
      "[Parallel(n_jobs=-1)]: Done 26322 tasks      | elapsed:  1.4min\n",
      "[Parallel(n_jobs=-1)]: Done 28672 tasks      | elapsed:  1.5min\n",
      "[Parallel(n_jobs=-1)]: Done 31122 tasks      | elapsed:  1.6min\n",
      "[Parallel(n_jobs=-1)]: Done 33672 tasks      | elapsed:  1.7min\n",
      "[Parallel(n_jobs=-1)]: Done 36322 tasks      | elapsed:  1.9min\n",
      "[Parallel(n_jobs=-1)]: Done 39072 tasks      | elapsed:  2.0min\n",
      "[Parallel(n_jobs=-1)]: Done 41922 tasks      | elapsed:  2.2min\n",
      "[Parallel(n_jobs=-1)]: Done 44872 tasks      | elapsed:  2.4min\n",
      "[Parallel(n_jobs=-1)]: Done 47922 tasks      | elapsed:  2.6min\n",
      "[Parallel(n_jobs=-1)]: Done 51072 tasks      | elapsed:  2.7min\n",
      "[Parallel(n_jobs=-1)]: Done 54322 tasks      | elapsed:  2.9min\n",
      "[Parallel(n_jobs=-1)]: Done 57672 tasks      | elapsed:  3.1min\n",
      "[Parallel(n_jobs=-1)]: Done 61122 tasks      | elapsed:  3.4min\n",
      "[Parallel(n_jobs=-1)]: Done 64672 tasks      | elapsed:  3.7min\n",
      "[Parallel(n_jobs=-1)]: Done 68322 tasks      | elapsed:  3.9min\n",
      "[Parallel(n_jobs=-1)]: Done 72072 tasks      | elapsed:  4.0min\n",
      "[Parallel(n_jobs=-1)]: Done 75922 tasks      | elapsed:  4.2min\n",
      "[Parallel(n_jobs=-1)]: Done 79872 tasks      | elapsed:  4.6min\n",
      "[Parallel(n_jobs=-1)]: Done 83922 tasks      | elapsed:  5.0min\n",
      "[Parallel(n_jobs=-1)]: Done 88072 tasks      | elapsed:  5.2min\n",
      "[Parallel(n_jobs=-1)]: Done 92322 tasks      | elapsed:  5.4min\n",
      "[Parallel(n_jobs=-1)]: Done 96672 tasks      | elapsed:  5.7min\n",
      "[Parallel(n_jobs=-1)]: Done 101122 tasks      | elapsed:  6.1min\n",
      "[Parallel(n_jobs=-1)]: Done 105672 tasks      | elapsed:  6.6min\n",
      "[Parallel(n_jobs=-1)]: Done 110322 tasks      | elapsed:  7.0min\n",
      "[Parallel(n_jobs=-1)]: Done 115072 tasks      | elapsed:  7.4min\n",
      "[Parallel(n_jobs=-1)]: Done 119922 tasks      | elapsed:  8.0min\n",
      "[Parallel(n_jobs=-1)]: Done 124872 tasks      | elapsed:  8.7min\n",
      "[Parallel(n_jobs=-1)]: Done 129922 tasks      | elapsed:  9.3min\n",
      "[Parallel(n_jobs=-1)]: Done 135072 tasks      | elapsed:  9.9min\n",
      "[Parallel(n_jobs=-1)]: Done 140322 tasks      | elapsed: 10.7min\n",
      "[Parallel(n_jobs=-1)]: Done 145672 tasks      | elapsed: 11.7min\n",
      "[Parallel(n_jobs=-1)]: Done 151122 tasks      | elapsed: 12.6min\n",
      "[Parallel(n_jobs=-1)]: Done 156672 tasks      | elapsed: 13.5min\n",
      "[Parallel(n_jobs=-1)]: Done 162322 tasks      | elapsed: 14.7min\n",
      "[Parallel(n_jobs=-1)]: Done 168072 tasks      | elapsed: 16.0min\n",
      "[Parallel(n_jobs=-1)]: Done 173922 tasks      | elapsed: 17.1min\n",
      "[Parallel(n_jobs=-1)]: Done 179872 tasks      | elapsed: 18.5min\n",
      "[Parallel(n_jobs=-1)]: Done 185922 tasks      | elapsed: 20.1min\n",
      "[Parallel(n_jobs=-1)]: Done 192072 tasks      | elapsed: 21.6min\n",
      "[Parallel(n_jobs=-1)]: Done 198322 tasks      | elapsed: 23.2min\n",
      "[Parallel(n_jobs=-1)]: Done 204672 tasks      | elapsed: 24.6min\n",
      "[Parallel(n_jobs=-1)]: Done 211122 tasks      | elapsed: 25.4min\n",
      "[Parallel(n_jobs=-1)]: Done 217672 tasks      | elapsed: 26.2min\n",
      "[Parallel(n_jobs=-1)]: Done 224322 tasks      | elapsed: 27.3min\n",
      "[Parallel(n_jobs=-1)]: Done 231072 tasks      | elapsed: 28.5min\n",
      "[Parallel(n_jobs=-1)]: Done 237922 tasks      | elapsed: 29.7min\n",
      "[Parallel(n_jobs=-1)]: Done 244872 tasks      | elapsed: 31.1min\n",
      "[Parallel(n_jobs=-1)]: Done 251922 tasks      | elapsed: 32.7min\n",
      "[Parallel(n_jobs=-1)]: Done 259072 tasks      | elapsed: 34.2min\n",
      "[Parallel(n_jobs=-1)]: Done 266322 tasks      | elapsed: 36.1min\n",
      "[Parallel(n_jobs=-1)]: Done 273672 tasks      | elapsed: 38.1min\n",
      "[Parallel(n_jobs=-1)]: Done 281122 tasks      | elapsed: 40.1min\n",
      "[Parallel(n_jobs=-1)]: Done 288672 tasks      | elapsed: 42.5min\n",
      "[Parallel(n_jobs=-1)]: Done 296322 tasks      | elapsed: 44.9min\n",
      "[Parallel(n_jobs=-1)]: Done 302400 out of 302400 | elapsed: 46.9min finished\n"
     ]
    },
    {
     "data": {
      "text/plain": [
       "GridSearchCV(cv=<generator object BaseShuffleSplit.split at 0x7f3a503796d8>,\n",
       "       error_score='raise-deprecating',\n",
       "       estimator=GradientBoostingRegressor(alpha=0.9, criterion='friedman_mse', init=None,\n",
       "             learning_rate=0.1, loss='ls', max_depth=3, max_features=None,\n",
       "             max_leaf_nodes=None, min_impurity_decrease=0.0,\n",
       "             min_impurity_split=None, min_samples_leaf=1,\n",
       "             min_sampl...te=42, subsample=1.0, tol=0.0001,\n",
       "             validation_fraction=0.1, verbose=0, warm_start=False),\n",
       "       fit_params=None, iid='warn', n_jobs=-1,\n",
       "       param_grid={'loss': ['ls', 'lad', 'huber'], 'n_estimators': [80, 85, 90, 95, 100, 110, 120, 130, 140, 150, 160, 170, 180, 190, 200, 210, 220, 230, 240, 250, 260, 270, 280, 290, 300, 310, 320, 330, 340, 350, 360, 370, 380, 390, 400, 410], 'max_depth': [3, 4, 5, 6, 7], 'min_samples_leaf': [3, 4, 5, 6], 'min_samples_split': [8, 9, 10, 11, 12, 13, 14], 'max_features': ['auto', 'sqrt', 'log2', None]},\n",
       "       pre_dispatch='2*n_jobs', refit=True, return_train_score=True,\n",
       "       scoring='neg_mean_absolute_error', verbose=1)"
      ]
     },
     "execution_count": 184,
     "metadata": {},
     "output_type": "execute_result"
    }
   ],
   "source": [
    "# Fit on the training data\n",
    "random_cv.fit(X, y)"
   ]
  },
  {
   "cell_type": "code",
   "execution_count": 186,
   "metadata": {},
   "outputs": [
    {
     "data": {
      "text/plain": [
       "GradientBoostingRegressor(alpha=0.9, criterion='friedman_mse', init=None,\n",
       "             learning_rate=0.1, loss='ls', max_depth=7,\n",
       "             max_features='auto', max_leaf_nodes=None,\n",
       "             min_impurity_decrease=0.0, min_impurity_split=None,\n",
       "             min_samples_leaf=3, min_samples_split=11,\n",
       "             min_weight_fraction_leaf=0.0, n_estimators=80,\n",
       "             n_iter_no_change=None, presort='auto', random_state=42,\n",
       "             subsample=1.0, tol=0.0001, validation_fraction=0.1, verbose=0,\n",
       "             warm_start=False)"
      ]
     },
     "execution_count": 186,
     "metadata": {},
     "output_type": "execute_result"
    }
   ],
   "source": [
    "random_cv.best_estimator_"
   ]
  },
  {
   "cell_type": "code",
   "execution_count": null,
   "metadata": {},
   "outputs": [],
   "source": []
  },
  {
   "cell_type": "code",
   "execution_count": null,
   "metadata": {},
   "outputs": [],
   "source": []
  }
 ],
 "metadata": {
  "kernelspec": {
   "display_name": "Python 3",
   "language": "python",
   "name": "python3"
  },
  "language_info": {
   "codemirror_mode": {
    "name": "ipython",
    "version": 3
   },
   "file_extension": ".py",
   "mimetype": "text/x-python",
   "name": "python",
   "nbconvert_exporter": "python",
   "pygments_lexer": "ipython3",
   "version": "3.7.3"
  }
 },
 "nbformat": 4,
 "nbformat_minor": 4
}

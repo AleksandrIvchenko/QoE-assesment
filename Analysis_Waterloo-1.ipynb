{
 "cells": [
  {
   "cell_type": "markdown",
   "metadata": {},
   "source": [
    "# Waterloo SQoE-III Analysis\n",
    "https://ece.uwaterloo.ca/~zduanmu/tbc2018qoe/ A Quality-of-Experience Database for Adaptive Video Streaming. Zhengfang Duanmu University of Waterloo, Abdul Rehman University of Waterloo, Zhou Wang University of Waterloo\n",
    "\n",
    "The database contains 20 source sequences of various types of content and 450 streaming videos generated using 6 ABR algorithms in 13 different and representative network conditions.\n",
    "\n",
    "The original dataset is organized in the form of Matlab code, it was necessary to transform it into a table. I have done it. You can find it at the dirrectory waterloo_sqoe_3_data. \n",
    "\n",
    "The first part is devoted to preprocessing the raw features, adding features from the article to it. The result is a table of characteristics and a target value MOS.\n",
    "\n",
    "In the second part, a statistical analysis of features is carried out and the most and the leas important fratures are founded.\n",
    "\n",
    "The third part is devoted to the construction of models and their analysis. "
   ]
  },
  {
   "cell_type": "code",
   "execution_count": 2,
   "metadata": {},
   "outputs": [
    {
     "name": "stdout",
     "output_type": "stream",
     "text": [
      "3.7.4\n"
     ]
    }
   ],
   "source": [
    "import scipy.io\n",
    "\n",
    "import pandas as pd\n",
    "import numpy as np\n",
    "import statistics\n",
    "\n",
    "import math\n",
    "import seaborn as sns\n",
    "\n",
    "import statistics\n",
    "\n",
    "import re \n",
    "from scipy.stats import spearmanr\n",
    "\n",
    "from platform import python_version\n",
    "print(python_version())\n",
    "\n",
    "# Internal ipython tool for setting figure size\n",
    "from IPython.core.pylabtools import figsize\n",
    "\n",
    "from itertools import combinations_with_replacement, combinations\n",
    "\n",
    "%matplotlib inline\n",
    "import numpy as np\n",
    "import matplotlib.pyplot as plt\n",
    "from matplotlib.ticker import AutoMinorLocator, MultipleLocator, FuncFormatter\n",
    "\n",
    "from scipy.stats.stats import pearsonr, kendalltau, spearmanr"
   ]
  },
  {
   "cell_type": "code",
   "execution_count": 3,
   "metadata": {},
   "outputs": [
    {
     "data": {
      "text/html": [
       "<div>\n",
       "<style scoped>\n",
       "    .dataframe tbody tr th:only-of-type {\n",
       "        vertical-align: middle;\n",
       "    }\n",
       "\n",
       "    .dataframe tbody tr th {\n",
       "        vertical-align: top;\n",
       "    }\n",
       "\n",
       "    .dataframe thead th {\n",
       "        text-align: right;\n",
       "    }\n",
       "</style>\n",
       "<table border=\"1\" class=\"dataframe\">\n",
       "  <thead>\n",
       "    <tr style=\"text-align: right;\">\n",
       "      <th></th>\n",
       "      <th>Name</th>\n",
       "      <th>FPS</th>\n",
       "      <th>stallTime</th>\n",
       "      <th>duration</th>\n",
       "      <th>switching</th>\n",
       "      <th>SwithcingMagnitide</th>\n",
       "      <th>bitrates</th>\n",
       "      <th>seqPSNR per frame</th>\n",
       "      <th>initial buffer time</th>\n",
       "      <th>duration of stalling events in second</th>\n",
       "      <th>Rebuffer count</th>\n",
       "      <th>average duration of stalling event</th>\n",
       "      <th>mean(seqPSNR)</th>\n",
       "      <th>MOS</th>\n",
       "      <th>Representation 1</th>\n",
       "      <th>Representation 2</th>\n",
       "      <th>Representation 3</th>\n",
       "      <th>Representation 4</th>\n",
       "      <th>Representation 5</th>\n",
       "      <th>averageWeightedBitrate</th>\n",
       "    </tr>\n",
       "  </thead>\n",
       "  <tbody>\n",
       "    <tr>\n",
       "      <th>0</th>\n",
       "      <td>BigBuckBunny</td>\n",
       "      <td>30</td>\n",
       "      <td>4.03330</td>\n",
       "      <td>14.0333</td>\n",
       "      <td>[false. false. false. false]</td>\n",
       "      <td>NaN</td>\n",
       "      <td>222  222  222  222  222</td>\n",
       "      <td>23.2066      23.1989      23.1793      23.1564...</td>\n",
       "      <td>1.80000</td>\n",
       "      <td>0.73333      1.0667     0.43333</td>\n",
       "      <td>3</td>\n",
       "      <td>0.74444</td>\n",
       "      <td>27.5826</td>\n",
       "      <td>31.376990</td>\n",
       "      <td>320x240_fps30_420_235k</td>\n",
       "      <td>320x240_fps30_420_235k</td>\n",
       "      <td>320x240_fps30_420_235k</td>\n",
       "      <td>320x240_fps30_420_235k</td>\n",
       "      <td>320x240_fps30_420_235k</td>\n",
       "      <td>222.0</td>\n",
       "    </tr>\n",
       "    <tr>\n",
       "      <th>1</th>\n",
       "      <td>BigBuckBunny</td>\n",
       "      <td>30</td>\n",
       "      <td>0.53333</td>\n",
       "      <td>10.5333</td>\n",
       "      <td>[false. true. true. true]</td>\n",
       "      <td>121  181  241</td>\n",
       "      <td>222  222  524  696  974</td>\n",
       "      <td>23.2066      23.1989      23.1793      23.1564...</td>\n",
       "      <td>0.53333</td>\n",
       "      <td>NaN</td>\n",
       "      <td>0</td>\n",
       "      <td>0.00000</td>\n",
       "      <td>29.5138</td>\n",
       "      <td>51.006205</td>\n",
       "      <td>320x240_fps30_420_235k</td>\n",
       "      <td>320x240_fps30_420_235k</td>\n",
       "      <td>512x384_fps30_420_560k</td>\n",
       "      <td>512x384_fps30_420_750k</td>\n",
       "      <td>640x480_fps30_420_1050k</td>\n",
       "      <td>527.6</td>\n",
       "    </tr>\n",
       "  </tbody>\n",
       "</table>\n",
       "</div>"
      ],
      "text/plain": [
       "           Name  FPS  stallTime  duration                     switching  \\\n",
       "0  BigBuckBunny   30    4.03330   14.0333  [false. false. false. false]   \n",
       "1  BigBuckBunny   30    0.53333   10.5333     [false. true. true. true]   \n",
       "\n",
       "  SwithcingMagnitide                 bitrates  \\\n",
       "0                NaN  222  222  222  222  222   \n",
       "1      121  181  241  222  222  524  696  974   \n",
       "\n",
       "                                   seqPSNR per frame  initial buffer time  \\\n",
       "0  23.2066      23.1989      23.1793      23.1564...              1.80000   \n",
       "1  23.2066      23.1989      23.1793      23.1564...              0.53333   \n",
       "\n",
       "  duration of stalling events in second  Rebuffer count  \\\n",
       "0       0.73333      1.0667     0.43333               3   \n",
       "1                                   NaN               0   \n",
       "\n",
       "   average duration of stalling event  mean(seqPSNR)        MOS  \\\n",
       "0                             0.74444        27.5826  31.376990   \n",
       "1                             0.00000        29.5138  51.006205   \n",
       "\n",
       "         Representation 1        Representation 2        Representation 3  \\\n",
       "0  320x240_fps30_420_235k  320x240_fps30_420_235k  320x240_fps30_420_235k   \n",
       "1  320x240_fps30_420_235k  320x240_fps30_420_235k  512x384_fps30_420_560k   \n",
       "\n",
       "         Representation 4         Representation 5  averageWeightedBitrate  \n",
       "0  320x240_fps30_420_235k   320x240_fps30_420_235k                   222.0  \n",
       "1  512x384_fps30_420_750k  640x480_fps30_420_1050k                   527.6  "
      ]
     },
     "execution_count": 3,
     "metadata": {},
     "output_type": "execute_result"
    }
   ],
   "source": [
    "full = pd.read_excel('Full_true.xlsx',index_col=0)\n",
    "full.head(2)"
   ]
  },
  {
   "cell_type": "markdown",
   "metadata": {},
   "source": [
    "## Features adding: simple features from the initial paper\n",
    "Adding features SI/TI from data description (spatial and temporal information) This is some meatrics, recommended by ITU, that help to describe complexiry of the data Below, at the part of data analysis, you will see that they are not valid"
   ]
  },
  {
   "cell_type": "code",
   "execution_count": 4,
   "metadata": {},
   "outputs": [
    {
     "name": "stdout",
     "output_type": "stream",
     "text": [
      "20\n"
     ]
    }
   ],
   "source": [
    "siti = np.array([[\"BigBuckBunny\",       96 ,97, \"animation\", \"high motion\"],\n",
    "                 [\"BirdOfPrey\",         44 ,68, \"nature\",\"smooth motion\"], \n",
    "                 [\"Cheetah\",            64, 37, \"animals\",\"camera motion\"],\n",
    "                 [\"CostaRica\",          45, 52, \"natue\",\"smooth motion\"], \n",
    "                 [\"CSGO\",               70 ,52, \"game\",\"average motion\"], \n",
    "                 [\"FCB\",                 80,46, \"sports\",\"average motion\"], \n",
    "                 [\"FrozenBanff\",       100 ,88, \"nature\",\"smooth motion\"], \n",
    "                 [\"Mtv\",               112,144, \"human\",\"average motion\"], \n",
    "                 [\"PuppiesBath\",        35 ,45, \"animals\",\"smooth motion\"],\n",
    "                 [\"RoastDuck\",          60 ,84, \"food\",\"smooth motion\"],\n",
    "                 [\"RushHour\",           52 ,20, \"human\",\"smooth motion\"],\n",
    "                 [\"Ski\",                61 ,82, \"sports\",\"high motion\"],\n",
    "                 [\"SlideEditing\",      160 ,86, \"screen\",\"smooth motion\"],\n",
    "                 [\"TallBuildings\",      81 ,13, \"architecture\",\"static\"],\n",
    "                 [\"TearsOfSteel1\",      53 ,66, \"movie\",\"smooth motion\"],\n",
    "                 [\"TearsOfSteel2\",      56 ,11, \"movie\",\"static\"],\n",
    "                 [\"TrafficAndBuilding\", 66 ,15, \"architecture\",\"static\"],\n",
    "                 [\"Transformer\",        72 ,56, \"movie\",\"average motion\"],\n",
    "                 [\"Valentines\",          40,52, \"human\",\"smooth motion\"],\n",
    "                 [\"ZapHighlight\",        97,89, \"animation\",\"high motion\"]], dtype = object)\n",
    "print (len(siti[:,0]))"
   ]
  },
  {
   "cell_type": "code",
   "execution_count": 5,
   "metadata": {},
   "outputs": [
    {
     "data": {
      "text/html": [
       "<div>\n",
       "<style scoped>\n",
       "    .dataframe tbody tr th:only-of-type {\n",
       "        vertical-align: middle;\n",
       "    }\n",
       "\n",
       "    .dataframe tbody tr th {\n",
       "        vertical-align: top;\n",
       "    }\n",
       "\n",
       "    .dataframe thead th {\n",
       "        text-align: right;\n",
       "    }\n",
       "</style>\n",
       "<table border=\"1\" class=\"dataframe\">\n",
       "  <thead>\n",
       "    <tr style=\"text-align: right;\">\n",
       "      <th></th>\n",
       "      <th>Name</th>\n",
       "      <th>SI</th>\n",
       "      <th>TI</th>\n",
       "      <th>content</th>\n",
       "      <th>motion</th>\n",
       "    </tr>\n",
       "  </thead>\n",
       "  <tbody>\n",
       "    <tr>\n",
       "      <th>0</th>\n",
       "      <td>BigBuckBunny</td>\n",
       "      <td>96</td>\n",
       "      <td>97</td>\n",
       "      <td>animation</td>\n",
       "      <td>high motion</td>\n",
       "    </tr>\n",
       "    <tr>\n",
       "      <th>1</th>\n",
       "      <td>BirdOfPrey</td>\n",
       "      <td>44</td>\n",
       "      <td>68</td>\n",
       "      <td>nature</td>\n",
       "      <td>smooth motion</td>\n",
       "    </tr>\n",
       "  </tbody>\n",
       "</table>\n",
       "</div>"
      ],
      "text/plain": [
       "           Name  SI  TI    content         motion\n",
       "0  BigBuckBunny  96  97  animation    high motion\n",
       "1    BirdOfPrey  44  68     nature  smooth motion"
      ]
     },
     "execution_count": 5,
     "metadata": {},
     "output_type": "execute_result"
    }
   ],
   "source": [
    "cols = [\"Name\", \"SI\",\"TI\",\"content\", \"motion\"]\n",
    "video_descr = pd.DataFrame(data=siti, columns = cols)\n",
    "video_descr.head (2)"
   ]
  },
  {
   "cell_type": "markdown",
   "metadata": {},
   "source": [
    "Let's see on Spatio-Temporal complexity space. Dot density is low but fairly uniform"
   ]
  },
  {
   "cell_type": "code",
   "execution_count": 6,
   "metadata": {},
   "outputs": [
    {
     "data": {
      "text/plain": [
       "Text(0, 0.5, 'Spatial informationl')"
      ]
     },
     "execution_count": 6,
     "metadata": {},
     "output_type": "execute_result"
    },
    {
     "data": {
      "image/png": "[encoded data removed]",
      "text/plain": [
       "<Figure size 432x432 with 1 Axes>"
      ]
     },
     "metadata": {
      "needs_background": "light"
     },
     "output_type": "display_data"
    }
   ],
   "source": [
    "fig = plt.figure(figsize=(6, 6))\n",
    "ax = fig.add_subplot(1, 1, 1, aspect=1)\n",
    "\n",
    "\n",
    "def minor_tick(x, pos):\n",
    "    if not x % 1.0:\n",
    "        return \"\"\n",
    "    return \"%.2f\" % x\n",
    "\n",
    "ax.xaxis.set_major_locator(MultipleLocator(10.000))\n",
    "ax.xaxis.set_minor_locator(AutoMinorLocator(1))\n",
    "ax.yaxis.set_major_locator(MultipleLocator(10.000))\n",
    "ax.yaxis.set_minor_locator(AutoMinorLocator(4))\n",
    "ax.xaxis.set_minor_formatter(FuncFormatter(minor_tick))\n",
    "\n",
    "ax.set_xlim(0, 120)\n",
    "ax.set_ylim(0, 120)\n",
    "\n",
    "ax.tick_params(which='major', width=1.0)\n",
    "ax.tick_params(which='major', length=10)\n",
    "ax.tick_params(which='minor', width=1.0, labelsize=10)\n",
    "ax.tick_params(which='minor', length=5, labelsize=10, labelcolor='0.25')\n",
    "\n",
    "ax.grid(linestyle=\"--\", linewidth=0.5, color='.25', zorder=-10)\n",
    "\n",
    "X = video_descr [\"TI\"]\n",
    "Y = video_descr [\"SI\"]\n",
    "\n",
    "ax.plot(X, Y, linewidth=0,\n",
    "        marker='o', markerfacecolor='w', markeredgecolor='k')\n",
    "\n",
    "ax.set_title(\"Spatio-Temporal complexity space\", fontsize=20, verticalalignment='bottom')\n",
    "ax.set_xlabel(\"Temporal information\", fontsize=18)\n",
    "ax.set_ylabel(\"Spatial informationl\", fontsize=18)"
   ]
  },
  {
   "cell_type": "markdown",
   "metadata": {},
   "source": [
    "Adding SI and TI to the dataset"
   ]
  },
  {
   "cell_type": "code",
   "execution_count": 8,
   "metadata": {},
   "outputs": [],
   "source": [
    "full[\"SI\"] = full[\"TI\"] = full[\"content\"] = full[\"motion\"] = np.nan\n",
    "\n",
    "for index, row in full.iterrows():\n",
    "    for i in range (0, 20, 1):\n",
    "        if row [\"Name\"] == siti[i][0]:\n",
    "            full.loc[index,\"SI\"] = siti[i][1]\n",
    "            full.loc[index,\"TI\"] = siti[i][2]\n",
    "            \n",
    "            full.loc[index,\"content\"] = siti[i][3]\n",
    "            full.loc[index,\"motion\"] = siti[i][4]"
   ]
  },
  {
   "cell_type": "markdown",
   "metadata": {},
   "source": [
    " We have a lot of string data type with various amount of spaces. It's not very good code, I know"
   ]
  },
  {
   "cell_type": "code",
   "execution_count": 9,
   "metadata": {},
   "outputs": [],
   "source": [
    "def list_to_float (value, separator = \" \"):\n",
    "    if str(value) == 'nan':\n",
    "        return 0         \n",
    "    value = value.replace('         ', ' ')         \n",
    "    value = value.replace('    ', ' ')\n",
    "    value = value.replace('   ', ' ')\n",
    "    value = value.replace('  ', ' ')\n",
    "    \n",
    "    value = value.split(separator)\n",
    "    value = list(map(lambda x : float(x), value))\n",
    "    return value"
   ]
  },
  {
   "cell_type": "code",
   "execution_count": 10,
   "metadata": {},
   "outputs": [],
   "source": [
    "for index, row in full.iterrows():\n",
    "    value = list_to_float(row['duration of stalling events in second'])\n",
    "    full.at[index, 'duration of stalling events in second']= value\n",
    "    value = list_to_float(row['bitrates'])\n",
    "    full.at[index, 'bitrates'] = value\n",
    "    \n",
    "    value = list_to_float(row['SwithcingMagnitide'])\n",
    "    full.at[index, 'SwithcingMagnitide'] = value\n",
    "    \n",
    "    value = list_to_float(row['seqPSNR per frame'])\n",
    "    full.at[index, 'seqPSNR per frame'] = value"
   ]
  },
  {
   "cell_type": "markdown",
   "metadata": {},
   "source": [
    "## MOS and others - distributions\n",
    "Firts, let's calculate number of stalling events and show what data we have"
   ]
  },
  {
   "cell_type": "code",
   "execution_count": 12,
   "metadata": {},
   "outputs": [],
   "source": [
    "st_events = []\n",
    "\n",
    "for index, row in full.iterrows():\n",
    "    value = row['duration of stalling events in second']\n",
    "    if (type (value) == int):\n",
    "        pass\n",
    "    elif (type (value) == list):\n",
    "        for i in range (0, len(value),1):\n",
    "            st_events.append (value[i])"
   ]
  },
  {
   "cell_type": "code",
   "execution_count": 15,
   "metadata": {},
   "outputs": [],
   "source": [
    "def statistics_plot (data):\n",
    "    df = pd.DataFrame({\"col\": data})\n",
    "\n",
    "    f, (ax_box, ax_hist) = plt.subplots(2, sharex=True, gridspec_kw= {\"height_ratios\": (0.2, 1)})\n",
    "    mean=df[\"col\"].mean()\n",
    "    median=df[\"col\"].median()\n",
    "    #mode=df[\"stalling events\"].mode().get_values()[0]\n",
    "    mode=df[\"col\"].mode()[0]\n",
    "\n",
    "    sns.boxplot(df, ax=ax_box)\n",
    "    ax_box.axvline(mean, color='r', linestyle='--')\n",
    "    ax_box.axvline(median, color='g', linestyle='-')\n",
    "    ax_box.axvline(mode, color='b', linestyle='-')\n",
    "\n",
    "    sns.distplot(df, ax=ax_hist)\n",
    "    ax_hist.axvline(mean, color='r', linestyle='--')\n",
    "    ax_hist.axvline(median, color='g', linestyle='-')\n",
    "    ax_hist.axvline(mode, color='b', linestyle='-')\n",
    "\n",
    "    plt.legend({'Mean':mean,'Median':median,'Mode':mode}, fontsize = 12)\n",
    "\n",
    "    print (\"mean:\",mean, \"median:\", median,\"mode:\", mode)\n",
    "    \n",
    "    ax.tick_params(axis=\"x\", labelsize=14)\n",
    "    ax.tick_params(axis=\"y\", labelsize=14)\n",
    "    #ax.set_xlabel(\"MOS\", fontsize=18)\n",
    "    #ax.set_ylabel(\"Distribution\", fontsize=18)\n",
    "    ax.tick_params(axis='both', which='major', labelsize=10)\n",
    "    ax.tick_params(axis='both', which='minor', labelsize=8)\n",
    "    ax_box.set(xlabel='')\n",
    "    plt.show()"
   ]
  },
  {
   "cell_type": "markdown",
   "metadata": {},
   "source": [
    "The MOS distribution is normal. For us, this means that we can apply correlation coefficients that require a normal distribution of the quantity.\n",
    "\n",
    "I will write in more detail about the correlation coefficients separately."
   ]
  },
  {
   "cell_type": "code",
   "execution_count": 18,
   "metadata": {},
   "outputs": [
    {
     "name": "stdout",
     "output_type": "stream",
     "text": [
      "mean: 60.866948018124475 median: 62.2687466098366 mode: 11.684961984291197\n"
     ]
    },
    {
     "data": {
      "image/png": "[encoded data removed]",
      "text/plain": [
       "<Figure size 432x288 with 2 Axes>"
      ]
     },
     "metadata": {
      "needs_background": "light"
     },
     "output_type": "display_data"
    }
   ],
   "source": [
    "statistics_plot (full['MOS'])"
   ]
  },
  {
   "cell_type": "code",
   "execution_count": 19,
   "metadata": {},
   "outputs": [
    {
     "name": "stdout",
     "output_type": "stream",
     "text": [
      "mean: 1.323634188405796 median: 0.8 mode: 0.16667\n"
     ]
    },
    {
     "data": {
      "image/png": "[encoded data removed]",
      "text/plain": [
       "<Figure size 432x288 with 2 Axes>"
      ]
     },
     "metadata": {
      "needs_background": "light"
     },
     "output_type": "display_data"
    }
   ],
   "source": [
    "statistics_plot (st_events)"
   ]
  },
  {
   "cell_type": "code",
   "execution_count": 20,
   "metadata": {},
   "outputs": [],
   "source": [
    "all_psnr = []\n",
    "\n",
    "for index, row in full.iterrows():\n",
    "    value = row['seqPSNR per frame']\n",
    "    for i in range (0, len(value),1):\n",
    "        all_psnr.append (value[i])"
   ]
  },
  {
   "cell_type": "markdown",
   "metadata": {},
   "source": [
    "Therefore, PSNR distribution has gaussian behaviour.\n",
    "Using such simple and non-human vision orientated metric as the only one parameter in QoE calculation is ambiguous.\n",
    "But first, we have this data and second, a few simple metrics can be used to create a hybrid model. These simple metrics will capture specific features and together produce great results."
   ]
  },
  {
   "cell_type": "code",
   "execution_count": 21,
   "metadata": {},
   "outputs": [
    {
     "name": "stdout",
     "output_type": "stream",
     "text": [
      "mean: 36.20173993328256 median: 36.2769 mode: 60.0\n"
     ]
    },
    {
     "data": {
      "image/png": "[encoded data removed]",
      "text/plain": [
       "<Figure size 432x288 with 2 Axes>"
      ]
     },
     "metadata": {
      "needs_background": "light"
     },
     "output_type": "display_data"
    }
   ],
   "source": [
    "statistics_plot (all_psnr)"
   ]
  },
  {
   "cell_type": "markdown",
   "metadata": {},
   "source": [
    "We also can calculate median/mean/mode values and choose what is better in terms of correlation with MOS"
   ]
  },
  {
   "cell_type": "code",
   "execution_count": 23,
   "metadata": {},
   "outputs": [],
   "source": [
    "def mediana(items):\n",
    "    if (type (items) == int):\n",
    "        return items\n",
    "    else:\n",
    "        return statistics.median(map(float, items))\n",
    "    \n",
    "def mean(items):\n",
    "    return statistics.mean(items)\n",
    "\n",
    "def maximum(items):\n",
    "    if (type (items) == int):\n",
    "        return items\n",
    "    else:\n",
    "        return max(items)"
   ]
  },
  {
   "cell_type": "code",
   "execution_count": 24,
   "metadata": {},
   "outputs": [],
   "source": [
    "full[\"st_events_median\"] = full[\"SwithcingMagnitide_median\"] = np.nan\n",
    "full[\"st_events_max\"] = full[\"SwithcingMagnitide_max\"] = np.nan\n",
    "full[\"median(PSNR)\"] = np.nan\n",
    "\n",
    "for index, row in full.iterrows():\n",
    "    \n",
    "    value = mediana(row['duration of stalling events in second'])\n",
    "    full.at[index, 'st_events_median']= value\n",
    "    \n",
    "    value = maximum(row['duration of stalling events in second'])\n",
    "    full.at[index, 'st_events_max'] = value\n",
    "    \n",
    "    value = mediana(row['SwithcingMagnitide'])\n",
    "    full.at[index, 'SwithcingMagnitide_median']= value\n",
    "        \n",
    "    value = maximum(row['SwithcingMagnitide'])\n",
    "    full.at[index, 'SwithcingMagnitide_max'] = value\n",
    "    \n",
    "    value = mediana(row['seqPSNR per frame'])\n",
    "    full.at[index, 'median(PSNR)'] = value"
   ]
  },
  {
   "cell_type": "markdown",
   "metadata": {},
   "source": [
    "Let's parse the names of the video sessions and extract data from them. Further, the maximum, average and median are calculated for analysis. As shown by the correlation analysis, the mean values give a large Spearman correlation with the MOS, so the median was immediately crossed out. If you want to check, you can uncomment the code."
   ]
  },
  {
   "cell_type": "code",
   "execution_count": 25,
   "metadata": {},
   "outputs": [],
   "source": [
    "#640x480_fps30_420_1050k - width/height/frameRate(fps)/dash_bitrate \n",
    "\n",
    "def represent_parse(r1, r2, r3, r4, r5):\n",
    "    width = []\n",
    "    heigth = []\n",
    "    dash_bitrate = []\n",
    "    for r in [r1, r2, r3, r4, r5]:\n",
    "        parse = re.findall(r'\\d+', r)\n",
    "        width.append (parse[0])\n",
    "        heigth.append (parse[1])\n",
    "        dash_bitrate.append (parse[4])\n",
    "    return width, heigth, dash_bitrate"
   ]
  },
  {
   "cell_type": "code",
   "execution_count": 26,
   "metadata": {},
   "outputs": [],
   "source": [
    "#Spesial for width and heigth\n",
    "def list_to_float1 (value, separator = \" \"):\n",
    "    if str(value) == 'nan':\n",
    "        return 0         \n",
    "\n",
    "    value = list(map(lambda x : float(x), value))\n",
    "    return value"
   ]
  },
  {
   "cell_type": "markdown",
   "metadata": {},
   "source": [
    "I have commented the less important features in terms of correlation "
   ]
  },
  {
   "cell_type": "code",
   "execution_count": 28,
   "metadata": {},
   "outputs": [],
   "source": [
    "full[\"width\"] = np.nan\n",
    "full[\"heigth\"] = np.nan\n",
    "full[\"dash_bitrate\"] = np.nan\n",
    "\n",
    "#full[\"median(width)\"] = np.nan\n",
    "#full[\"median(heigth)\"] = np.nan\n",
    "full[\"median(dash_bitrate)\"] = np.nan\n",
    "\n",
    "full[\"mean(width)\"] = np.nan\n",
    "full[\"mean(heigth)\"] = np.nan\n",
    "\n",
    "for index, row in full.iterrows():\n",
    "    width, heigth, dash_bitrate, = represent_parse(row[\"Representation 1\"], row[\"Representation 2\"],\n",
    "                                                   row[\"Representation 3\"], row[\"Representation 4\"], \n",
    "                                                   row[\"Representation 5\"])\n",
    "    full['width'] = full['width'].astype(object)\n",
    "    full['heigth'] = full['heigth'].astype(object)\n",
    "    full['dash_bitrate'] = full['dash_bitrate'].astype(object)\n",
    "    full.iat[index, full.columns.get_loc('width')] = width\n",
    "    full.iat[index, full.columns.get_loc('heigth')] = heigth\n",
    "    full.iat[index, full.columns.get_loc('dash_bitrate')] = dash_bitrate\n",
    "    #full.iat[index, full.columns.get_loc('dash_bitrate')] = list_to_float( dash_bitrate)\n",
    "    #full.at[index, 'width'] = width\n",
    "    #full.at[index, 'heigth'] = heigth\n",
    "    #full.at[index, 'dash_bitrate'] = dash_bitrate\n",
    "    \n",
    "    #full.at[index, 'median(width)'] = mediana (width)\n",
    "    #full.at[index, 'median(heigth)'] = mediana (heigth)\n",
    "    full.at[index, 'median(dash_bitrate)'] = mediana (dash_bitrate)\n",
    "    \n",
    "    #print (width)\n",
    "    \n",
    "    full.at[index, 'mean(width)'] = mean (list_to_float1 (width))\n",
    "    full.at[index, 'mean(heigth)'] = mean (list_to_float1 (heigth))"
   ]
  },
  {
   "cell_type": "markdown",
   "metadata": {},
   "source": [
    "To choose one we can use Speraman correlation coefficient.\n",
    "\n",
    "You can see more [here](https://towardsdatascience.com/clearly-explained-pearson-v-s-spearman-correlation-coefficient-ada2f473b8)"
   ]
  },
  {
   "cell_type": "code",
   "execution_count": 29,
   "metadata": {},
   "outputs": [
    {
     "name": "stdout",
     "output_type": "stream",
     "text": [
      "SpearmanrResult(correlation=0.5411586048408995, pvalue=1.3510073006092995e-35)\n"
     ]
    }
   ],
   "source": [
    "print(spearmanr(full['MOS'], full['mean(width)']))\n",
    "#print(spearmanr(full['MOS'], full['median(width)']))"
   ]
  },
  {
   "cell_type": "markdown",
   "metadata": {},
   "source": [
    "I decided to study the up and down quality switching separately. The hypothesis is that a downward improvement in quality worsens perceptual quality more than a downward improvement in quality. And yes, you are reading correctly that improving quality can degrade the quality of perception.\n",
    "\n",
    "An analysis of the median and mean was also performed."
   ]
  },
  {
   "cell_type": "code",
   "execution_count": 31,
   "metadata": {},
   "outputs": [],
   "source": [
    "def bitates_search (bitrates):\n",
    "    diff = np.diff (bitrates)\n",
    "\n",
    "    neg_list = []\n",
    "    pos_list = []\n",
    "    for i in diff:\n",
    "        if i < 0:\n",
    "            neg_list.append(i)\n",
    "        elif i > 0:\n",
    "            pos_list.append(i)\n",
    "    \n",
    "    if len (pos_list)!=0:\n",
    "        maxpos = max(pos_list)\n",
    "        medpos = mediana (pos_list)\n",
    "        meanpos = mean (pos_list)\n",
    "    else:\n",
    "        maxpos = 0 #In general, this is a good question, how to analyze correctly without quality change\n",
    "        medpos = 0\n",
    "        \n",
    "        meanpos = 0\n",
    "    if len (neg_list)!=0:\n",
    "        maxneg = min(neg_list)\n",
    "        medneg = mediana (neg_list)\n",
    "        \n",
    "        meanneg = mean (neg_list)\n",
    "    else:\n",
    "        maxneg = 0 \n",
    "        medneg = 0\n",
    "        meanneg = 0\n",
    "            \n",
    "    return len (pos_list), len(neg_list), maxpos, medpos, maxneg, medneg, meanneg, meanpos"
   ]
  },
  {
   "cell_type": "code",
   "execution_count": 32,
   "metadata": {},
   "outputs": [],
   "source": [
    "full[\"bitrate_pos_changes_count\"] = np.nan\n",
    "full[\"bitrate_neg_changes_count\"] = np.nan\n",
    "full[\"bitrate_max_pos_change\"] = np.nan\n",
    "full[\"bitrate_max_neg_change\"] = np.nan\n",
    "#full[\"bitrate_med_pos_change\"] = np.nan\n",
    "#full[\"bitrate_med_neg_change\"] = np.nan\n",
    "\n",
    "full[\"bitrate_mean_pos_change\"] = np.nan\n",
    "full[\"bitrate_mean_neg_change\"] = np.nan\n",
    "\n",
    "for index, row in full.iterrows():\n",
    "    pos_count, neg_count, maxpos, medpos, maxneg, medneg, meanneg, meanpos = bitates_search(row['bitrates'])\n",
    "    \n",
    "    full.at[index, 'bitrate_pos_changes_count'] = pos_count\n",
    "    full.at[index, 'bitrate_neg_changes_count'] = neg_count\n",
    "    full.at[index, 'bitrate_max_pos_change'] = maxpos\n",
    "    full.at[index, 'bitrate_max_neg_change'] = maxneg\n",
    "    #full.at[index, 'bitrate_med_pos_change'] = medpos\n",
    "    #full.at[index, 'bitrate_med_neg_change'] = medneg\n",
    "    \n",
    "    full.at[index, 'bitrate_mean_pos_change'] = meanpos\n",
    "    full.at[index, 'bitrate_mean_neg_change'] = meanneg"
   ]
  },
  {
   "cell_type": "code",
   "execution_count": 33,
   "metadata": {},
   "outputs": [
    {
     "name": "stdout",
     "output_type": "stream",
     "text": [
      "SpearmanrResult(correlation=0.16719319240251546, pvalue=0.0003681222999718926)\n"
     ]
    }
   ],
   "source": [
    "#print(spearmanr(full['MOS'], full['bitrate_med_neg_change']))\n",
    "print(spearmanr(full['MOS'], full['bitrate_mean_neg_change']))"
   ]
  },
  {
   "cell_type": "markdown",
   "metadata": {},
   "source": [
    "## Feature engineering\n",
    "I have extracted and normilized features from the dataset in such a way"
   ]
  },
  {
   "cell_type": "code",
   "execution_count": 34,
   "metadata": {},
   "outputs": [],
   "source": [
    "#1. switching / Amount of quality switches\n",
    "def number_of_sw (switching):\n",
    "    return  switching.count('true')\n",
    "\n",
    "#2. Freqency of quality switches\n",
    "def freq_of_sw (switching, duration):\n",
    "    #print (switching)\n",
    "    #print (duration)\n",
    "    return  switching/duration\n",
    "\n",
    "#2. Frequency of stalling events\n",
    "def freq_of_st (stalling_events, duration):\n",
    "    #print (switching)\n",
    "    #print (duration)\n",
    "    return  stalling_events/duration"
   ]
  },
  {
   "cell_type": "code",
   "execution_count": 36,
   "metadata": {},
   "outputs": [],
   "source": [
    "#Adding Switching Frequency and Switching Type\n",
    "full[\"freq_of_st\"] = np.nan\n",
    "full[\"Bitrate switch count\"] = np.nan\n",
    "full[\"freq_of_sw\"] = np.nan\n",
    "\n",
    "for index, row in full.iterrows():\n",
    "    value = freq_of_st(row['Rebuffer count'], row['duration'])\n",
    "    full.at[index, 'freq_of_st'] = value\n",
    "    \n",
    "    value = number_of_sw(row['switching'])\n",
    "    full.at[index, 'Bitrate switch count'] = value\n",
    "    \n",
    "    value = freq_of_st(number_of_sw(row['switching']), row['duration'])\n",
    "    full.at[index, 'freq_of_sw'] = value"
   ]
  },
  {
   "cell_type": "code",
   "execution_count": 37,
   "metadata": {},
   "outputs": [],
   "source": [
    "full[\"median(bitrates)\"] = np.nan\n",
    "\n",
    "for index, row in full.iterrows():\n",
    "    value = mediana(row['bitrates'])\n",
    "    full.at[index, 'median(bitrates)'] = value"
   ]
  },
  {
   "cell_type": "markdown",
   "metadata": {},
   "source": [
    "# Next\n",
    "\n",
    "In the next notebook I will add features from industry guidelines and explore them"
   ]
  },
  {
   "cell_type": "code",
   "execution_count": 39,
   "metadata": {},
   "outputs": [
    {
     "data": {
      "text/html": [
       "<div>\n",
       "<style scoped>\n",
       "    .dataframe tbody tr th:only-of-type {\n",
       "        vertical-align: middle;\n",
       "    }\n",
       "\n",
       "    .dataframe tbody tr th {\n",
       "        vertical-align: top;\n",
       "    }\n",
       "\n",
       "    .dataframe thead th {\n",
       "        text-align: right;\n",
       "    }\n",
       "</style>\n",
       "<table border=\"1\" class=\"dataframe\">\n",
       "  <thead>\n",
       "    <tr style=\"text-align: right;\">\n",
       "      <th></th>\n",
       "      <th>Name</th>\n",
       "      <th>FPS</th>\n",
       "      <th>stallTime</th>\n",
       "      <th>duration</th>\n",
       "      <th>switching</th>\n",
       "      <th>SwithcingMagnitide</th>\n",
       "      <th>bitrates</th>\n",
       "      <th>seqPSNR per frame</th>\n",
       "      <th>initial buffer time</th>\n",
       "      <th>duration of stalling events in second</th>\n",
       "      <th>...</th>\n",
       "      <th>bitrate_neg_changes_count</th>\n",
       "      <th>bitrate_max_pos_change</th>\n",
       "      <th>bitrate_max_neg_change</th>\n",
       "      <th>bitrate_mean_pos_change</th>\n",
       "      <th>bitrate_mean_neg_change</th>\n",
       "      <th>freq_of_st</th>\n",
       "      <th>sw_type</th>\n",
       "      <th>Bitrate switch count</th>\n",
       "      <th>freq_of_sw</th>\n",
       "      <th>median(bitrates)</th>\n",
       "    </tr>\n",
       "  </thead>\n",
       "  <tbody>\n",
       "    <tr>\n",
       "      <th>0</th>\n",
       "      <td>BigBuckBunny</td>\n",
       "      <td>30</td>\n",
       "      <td>4.0333</td>\n",
       "      <td>14.0333</td>\n",
       "      <td>[false. false. false. false]</td>\n",
       "      <td>0</td>\n",
       "      <td>[222.0, 222.0, 222.0, 222.0, 222.0]</td>\n",
       "      <td>[23.2066, 23.1989, 23.1793, 23.1564, 23.1283, ...</td>\n",
       "      <td>1.8</td>\n",
       "      <td>[0.73333, 1.0667, 0.43333]</td>\n",
       "      <td>...</td>\n",
       "      <td>0.0</td>\n",
       "      <td>0.0</td>\n",
       "      <td>0.0</td>\n",
       "      <td>0.0</td>\n",
       "      <td>0.0</td>\n",
       "      <td>0.213777</td>\n",
       "      <td>NaN</td>\n",
       "      <td>0.0</td>\n",
       "      <td>0.0</td>\n",
       "      <td>222.0</td>\n",
       "    </tr>\n",
       "  </tbody>\n",
       "</table>\n",
       "<p>1 rows × 46 columns</p>\n",
       "</div>"
      ],
      "text/plain": [
       "           Name  FPS  stallTime  duration                     switching  \\\n",
       "0  BigBuckBunny   30     4.0333   14.0333  [false. false. false. false]   \n",
       "\n",
       "  SwithcingMagnitide                             bitrates  \\\n",
       "0                  0  [222.0, 222.0, 222.0, 222.0, 222.0]   \n",
       "\n",
       "                                   seqPSNR per frame  initial buffer time  \\\n",
       "0  [23.2066, 23.1989, 23.1793, 23.1564, 23.1283, ...                  1.8   \n",
       "\n",
       "  duration of stalling events in second  ...  bitrate_neg_changes_count  \\\n",
       "0            [0.73333, 1.0667, 0.43333]  ...                        0.0   \n",
       "\n",
       "   bitrate_max_pos_change  bitrate_max_neg_change  bitrate_mean_pos_change  \\\n",
       "0                     0.0                     0.0                      0.0   \n",
       "\n",
       "  bitrate_mean_neg_change freq_of_st sw_type Bitrate switch count freq_of_sw  \\\n",
       "0                     0.0   0.213777     NaN                  0.0        0.0   \n",
       "\n",
       "   median(bitrates)  \n",
       "0             222.0  \n",
       "\n",
       "[1 rows x 46 columns]"
      ]
     },
     "execution_count": 39,
     "metadata": {},
     "output_type": "execute_result"
    }
   ],
   "source": [
    "full.head(1)"
   ]
  },
  {
   "cell_type": "code",
   "execution_count": 40,
   "metadata": {},
   "outputs": [],
   "source": [
    "writer = pd.ExcelWriter('Data_to_analys_tmp1.xlsx', engine='xlsxwriter')\n",
    "data_to_file = pd.DataFrame(data=full)\n",
    "data_to_file.to_excel(writer, 'Sheet1')\n",
    "writer.save()"
   ]
  },
  {
   "cell_type": "code",
   "execution_count": null,
   "metadata": {},
   "outputs": [],
   "source": []
  }
 ],
 "metadata": {
  "kernelspec": {
   "display_name": "Python 3",
   "language": "python",
   "name": "python3"
  },
  "language_info": {
   "codemirror_mode": {
    "name": "ipython",
    "version": 3
   },
   "file_extension": ".py",
   "mimetype": "text/x-python",
   "name": "python",
   "nbconvert_exporter": "python",
   "pygments_lexer": "ipython3",
   "version": "3.7.4"
  }
 },
 "nbformat": 4,
 "nbformat_minor": 4
}
